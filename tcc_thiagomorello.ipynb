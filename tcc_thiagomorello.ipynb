{
  "nbformat": 4,
  "nbformat_minor": 0,
  "metadata": {
    "accelerator": "GPU",
    "colab": {
      "name": "tcc-arrumado.ipynb",
      "provenance": [],
      "collapsed_sections": [],
      "toc_visible": true
    },
    "kernelspec": {
      "display_name": "Python 3",
      "name": "python3"
    },
    "language_info": {
      "name": "python"
    },
    "widgets": {
    }
  },
  "cells": [
    {
      "cell_type": "markdown",
      "metadata": {
        "id": "Zu5Ej8bEAAjQ"
      },
      "source": [
        "# 1. Introdução\n",
        "\n",
        "## 1.1.\tContextualização\n",
        "\n",
        "Redes sociais possuem uma relevância cada vez maior no quotidiano das pessoas e permitem uma troca diária de bilhões de mensagens. Em meio a essa troca, pessoas expressam opiniões sobre os serviços oferecidos por empresas e instituições, seja ao se comunicar com essas entidades, seja ao fazer comentários sobre elas para outras pessoas.\n",
        "Monitorar tais opiniões pode ter grande valor para qualquer entidade que queira melhorar seus serviços. Dado o volume em questão, é impossível fazer isso manualmente e, como as mensagens são escritas em linguagem natural, automatizações tradicionais podem não funcionar muito bem. Isso cria um excelente cenário para aplicação de inteligência artificial.\n",
        "\n",
        "## 1.2. O problema proposto\n",
        "\n",
        "Nesse trabalho atacamos o problema de classificar mensagens enviadas à Receita Federal do Brasil através da rede social Twitter como positivas ou negativas, deixando a realização de análises mais detalhadas e a exploração de outras redes sociais para trabalhos futuros. Para essa classificação, serão utilizados apenas mensagens do Twitter disponíveis publicamente, que fazem menção à entidade Receita Federal do Brasil e tenham sido enviadas desde a criação da conta da entidade na rede social, no início de 2009 até meados de março de 2021.\n"
      ]
    },
    {
      "cell_type": "code",
      "metadata": {
        "id": "9EB7FaNTcRQU"
      },
      "source": [
        "# seed utilizado para conseguir replicar os resultados\n",
        "random_state = 0"
      ],
      "execution_count": null,
      "outputs": []
    },
    {
      "cell_type": "markdown",
      "metadata": {
        "id": "4Ry_YhS4Arf9"
      },
      "source": [
        "# 2. Coleta de Dados\n",
        "\n",
        "Para a realização desse trabalho, foi criado um dataset específico do problema alvo extraído do Twitter e rotulado pelo autor e utilizados alguns datasets de problemas semelhantes obtidos da internet já com rotulação."
      ]
    },
    {
      "cell_type": "code",
      "metadata": {
        "colab": {
          "base_uri": "https://localhost:8080/"
        },
        "id": "gZKsDqwLN8fF",
        "outputId": "6b114609-5e64-49f8-c3aa-2d52cdc523e2"
      },
      "source": [
        "\n",
        "# Preparação do ambiente com os datasets, arquivos e modelos utilizados\n",
        "\n",
        "if 'google.colab' in str(get_ipython()):\n",
        "  # Copia todos os datasets utilizados\n",
        "  !mkdir datasets\n",
        "  !cp \"drive/My Drive/00 - TCC - Thiago Morello/datasets/datasets_kaggle.zip\" datasets\n",
        "  !cp \"drive/My Drive/00 - TCC - Thiago Morello/datasets/balanced_df.zip\" datasets\n",
        "  !cp \"drive/My Drive/00 - TCC - Thiago Morello/datasets/tweets_classificados_rfb.csv\" datasets/tweets_classificados_rfb.csv\n",
        "  !cp \"drive/My Drive/00 - TCC - Thiago Morello/datasets/tweets_rfb.json\" datasets/tweets_rfb.json\n",
        "\n",
        "  # Copia os arquivos utilizados\n",
        "  !mkdir files\n",
        "  !cp \"drive/MyDrive/00 - TCC - Thiago Morello/files/Symbola.otf\" files/Symbola.otf\n",
        "\n",
        "  # Copia os modelos gerados\n",
        "  !mkdir models\n",
        "  !cp -r \"drive/MyDrive/00 - TCC - Thiago Morello/models\" .\n",
        "\n",
        "\n",
        "# Extrai os datasets do formato zip\n",
        "!unzip -o datasets/datasets_kaggle.zip -d datasets\n",
        "!unzip -o datasets/balanced_df.zip -d datasets\n",
        "\n",
        "# Atualiza o spacy para a versão mais recente\n",
        "!pip install spacy --upgrade"
      ],
      "execution_count": null,
      "outputs": [
        {
          "output_type": "stream",
          "text": [
            "mkdir: cannot create directory ‘datasets’: File exists\n",
            "mkdir: cannot create directory ‘files’: File exists\n",
            "mkdir: cannot create directory ‘models’: File exists\n",
            "Archive:  datasets/datasets_kaggle.zip\n",
            "  inflating: datasets/imdb-reviews-pt-br.csv  \n",
            "  inflating: datasets/NoThemeTweets.csv  \n",
            "  inflating: datasets/TweetsWithTheme.csv  \n",
            "  inflating: datasets/Tweets_Mg.csv  \n",
            "Archive:  datasets/balanced_df.zip\n",
            "  inflating: datasets/balanced_df.json  \n",
            "Requirement already up-to-date: spacy in /usr/local/lib/python3.7/dist-packages (3.0.5)\n",
            "Requirement already satisfied, skipping upgrade: spacy-legacy<3.1.0,>=3.0.0 in /usr/local/lib/python3.7/dist-packages (from spacy) (3.0.2)\n",
            "Requirement already satisfied, skipping upgrade: importlib-metadata>=0.20; python_version < \"3.8\" in /usr/local/lib/python3.7/dist-packages (from spacy) (3.10.1)\n",
            "Requirement already satisfied, skipping upgrade: typer<0.4.0,>=0.3.0 in /usr/local/lib/python3.7/dist-packages (from spacy) (0.3.2)\n",
            "Requirement already satisfied, skipping upgrade: typing-extensions<4.0.0.0,>=3.7.4; python_version < \"3.8\" in /usr/local/lib/python3.7/dist-packages (from spacy) (3.7.4.3)\n",
            "Requirement already satisfied, skipping upgrade: catalogue<2.1.0,>=2.0.1 in /usr/local/lib/python3.7/dist-packages (from spacy) (2.0.3)\n",
            "Requirement already satisfied, skipping upgrade: requests<3.0.0,>=2.13.0 in /usr/local/lib/python3.7/dist-packages (from spacy) (2.23.0)\n",
            "Requirement already satisfied, skipping upgrade: numpy>=1.15.0 in /usr/local/lib/python3.7/dist-packages (from spacy) (1.19.5)\n",
            "Requirement already satisfied, skipping upgrade: setuptools in /usr/local/lib/python3.7/dist-packages (from spacy) (54.2.0)\n",
            "Requirement already satisfied, skipping upgrade: wasabi<1.1.0,>=0.8.1 in /usr/local/lib/python3.7/dist-packages (from spacy) (0.8.2)\n",
            "Requirement already satisfied, skipping upgrade: srsly<3.0.0,>=2.4.0 in /usr/local/lib/python3.7/dist-packages (from spacy) (2.4.1)\n",
            "Requirement already satisfied, skipping upgrade: thinc<8.1.0,>=8.0.2 in /usr/local/lib/python3.7/dist-packages (from spacy) (8.0.3)\n",
            "Requirement already satisfied, skipping upgrade: cymem<2.1.0,>=2.0.2 in /usr/local/lib/python3.7/dist-packages (from spacy) (2.0.5)\n",
            "Requirement already satisfied, skipping upgrade: preshed<3.1.0,>=3.0.2 in /usr/local/lib/python3.7/dist-packages (from spacy) (3.0.5)\n",
            "Requirement already satisfied, skipping upgrade: pydantic<1.8.0,>=1.7.1 in /usr/local/lib/python3.7/dist-packages (from spacy) (1.7.3)\n",
            "Requirement already satisfied, skipping upgrade: tqdm<5.0.0,>=4.38.0 in /usr/local/lib/python3.7/dist-packages (from spacy) (4.41.1)\n",
            "Requirement already satisfied, skipping upgrade: blis<0.8.0,>=0.4.0 in /usr/local/lib/python3.7/dist-packages (from spacy) (0.4.1)\n",
            "Requirement already satisfied, skipping upgrade: murmurhash<1.1.0,>=0.28.0 in /usr/local/lib/python3.7/dist-packages (from spacy) (1.0.5)\n",
            "Requirement already satisfied, skipping upgrade: pathy>=0.3.5 in /usr/local/lib/python3.7/dist-packages (from spacy) (0.4.0)\n",
            "Requirement already satisfied, skipping upgrade: jinja2 in /usr/local/lib/python3.7/dist-packages (from spacy) (2.11.3)\n",
            "Requirement already satisfied, skipping upgrade: packaging>=20.0 in /usr/local/lib/python3.7/dist-packages (from spacy) (20.9)\n",
            "Requirement already satisfied, skipping upgrade: zipp>=0.5 in /usr/local/lib/python3.7/dist-packages (from importlib-metadata>=0.20; python_version < \"3.8\"->spacy) (3.4.1)\n",
            "Requirement already satisfied, skipping upgrade: click<7.2.0,>=7.1.1 in /usr/local/lib/python3.7/dist-packages (from typer<0.4.0,>=0.3.0->spacy) (7.1.2)\n",
            "Requirement already satisfied, skipping upgrade: idna<3,>=2.5 in /usr/local/lib/python3.7/dist-packages (from requests<3.0.0,>=2.13.0->spacy) (2.10)\n",
            "Requirement already satisfied, skipping upgrade: chardet<4,>=3.0.2 in /usr/local/lib/python3.7/dist-packages (from requests<3.0.0,>=2.13.0->spacy) (3.0.4)\n",
            "Requirement already satisfied, skipping upgrade: urllib3!=1.25.0,!=1.25.1,<1.26,>=1.21.1 in /usr/local/lib/python3.7/dist-packages (from requests<3.0.0,>=2.13.0->spacy) (1.24.3)\n",
            "Requirement already satisfied, skipping upgrade: certifi>=2017.4.17 in /usr/local/lib/python3.7/dist-packages (from requests<3.0.0,>=2.13.0->spacy) (2020.12.5)\n",
            "Requirement already satisfied, skipping upgrade: smart-open<4.0.0,>=2.2.0 in /usr/local/lib/python3.7/dist-packages (from pathy>=0.3.5->spacy) (3.0.0)\n",
            "Requirement already satisfied, skipping upgrade: MarkupSafe>=0.23 in /usr/local/lib/python3.7/dist-packages (from jinja2->spacy) (1.1.1)\n",
            "Requirement already satisfied, skipping upgrade: pyparsing>=2.0.2 in /usr/local/lib/python3.7/dist-packages (from packaging>=20.0->spacy) (2.4.7)\n"
          ],
          "name": "stdout"
        }
      ]
    },
    {
      "cell_type": "code",
      "metadata": {
        "id": "Us0FYXA0huK7"
      },
      "source": [
        "import pandas as pd\n",
        "import joblib, pickle"
      ],
      "execution_count": null,
      "outputs": []
    },
    {
      "cell_type": "markdown",
      "metadata": {
        "id": "Vyu6vimnA7qR"
      },
      "source": [
        "## 2.1. Datasets obtidos do site Kaggle\n",
        "\n",
        "Os três datasets extraídos da internet foram os seguintes:\n",
        "-\t“Tweets em português para análise de sentimentos”: acessado em 09/03/2021, através do link https://www.kaggle.com/augustop/portuguese-tweets-for-sentiment-analysis \n",
        "-\t“Tweets de MG/BR”: acessado em 09/03/2021, através do link https://www.kaggle.com/leandrodoze/tweets-from-mgbr \n",
        "-\t“IMDB PT-BR”: acessado em 09/03/2021, através do link https://www.kaggle.com/luisfredgs/imdb-ptbr \n",
        "\n",
        "Do dataset “Tweets em português para análise de sentimentos” foram utilizados os arquivos “NoThemeTweets.csv”, que apresenta tweets sem temática definida, e “ThemedTweets.csv”, que apresenta tweets com tema definido pela pesquisa (coluna “query_used”). Para o dataset “Tweets de MG/BR”, foi utilizado o arquivo “Tweets_Mg.csv”, novamente no formato CSV. Nesse dataset havia diversas colunas vazias e sem título e, por isso, serão descartadas mais à frente. Já para o dataset “IMDB PT-BR”, foi obtido do arquivo “imdb-reviews-pt-br.csv”, em formato CSV."
      ]
    },
    {
      "cell_type": "code",
      "metadata": {
        "id": "jPop7Nt5Au8X"
      },
      "source": [
        "# Dataset Tweets em português para análise de sentimentos #1\n",
        "tweets_pt_no_theme_df = pd.read_csv(\"datasets/NoThemeTweets.csv\")\n",
        "\n",
        "# Dataset Tweets em português para análise de sentimentos #2\n",
        "tweets_pt_themed_df = pd.read_csv(\"datasets/TweetsWithTheme.csv\")\n",
        "\n",
        "# Dataset Tweets de MG/BR\n",
        "tweets_mg_df = pd.read_csv(\"datasets/Tweets_Mg.csv\")\n",
        "\n",
        "# Dataset IMDB PT-BR\n",
        "imdb_pt_df =  pd.read_csv(\"datasets/imdb-reviews-pt-br.csv\")\n"
      ],
      "execution_count": null,
      "outputs": []
    },
    {
      "cell_type": "markdown",
      "metadata": {
        "id": "O5urMcXCDdQe"
      },
      "source": [
        "## 2.2. Datasets gerados pelo autor\n",
        "\n",
        "Foi utilizada uma conta de desenvolvedor acadêmica no Twitter para extrair, através de sua nova API, dados desde o início da criação da conta da Receita Federal do Brasil (RFB), sendo extraídas mensagens até 10/04/2021 (data da extração). \n"
      ]
    },
    {
      "cell_type": "markdown",
      "metadata": {
        "id": "fSzMu5D0gSg1"
      },
      "source": [
        "![image.png](data:image/png;base64,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)"
      ]
    },
    {
      "cell_type": "markdown",
      "metadata": {
        "id": "9-VMyIGXeMeJ"
      },
      "source": [
        "### 2.2.1. Código utilizado para gerar o dataset\n",
        "Abaixo é apresentada uma pequena fração do código utilizado na extração, de autoria do próprio autor com base nos exemplos fornecidos na documentação da API do Twitter.\n",
        "O código inclui um processo de anonimização usando um \"salt\" e algoritmo sha512."
      ]
    },
    {
      "cell_type": "code",
      "metadata": {
        "id": "31Y0QTMTR63d"
      },
      "source": [
        "import requests\n",
        "import json\n",
        "import time\n",
        "import hashlib\n",
        "import uuid\n",
        "\n",
        "# Cria o header com o o Token\n",
        "def create_headers(bearer_token):\n",
        "    headers = {\"Authorization\": \"Bearer {}\".format(bearer_token)}\n",
        "    return headers\n",
        "\n",
        "# Conecta ao endpoint para chamda GET\n",
        "def connect_to_endpoint(url, headers, params):\n",
        "    response = requests.request(\"GET\", url, headers=headers, params=params)\n",
        "    if response.status_code != 200:\n",
        "        raise Exception(\n",
        "            \"Request returned an error: {} {}\".format(\n",
        "                response.status_code, response.text\n",
        "            )\n",
        "        )\n",
        "    return response.json()\n",
        "\n",
        "# Chama a API FULL SEARCH com os parâmetros fornecidos.\n",
        "# e.g.: query = \"to:receitafederal\"\n",
        "# next_token: Token da próxima página da pesquisa\n",
        "# max_results: Número máximo de resultados por página\n",
        "# end_time: Data e hora do tweet mais recente a retornar na pesquisa\n",
        "def search_all(query, next_token=None, max_results=500, end_time=None):\n",
        "  print(\"Calling twitter API FULL SEARCH with next_token '{}'\".format(\n",
        "      next_token\n",
        "  ))\n",
        "  url = \"https://api.twitter.com/2/tweets/search/all\"\n",
        "  headers = create_headers(bearer_token)\n",
        "\n",
        "  tweet_fields = \"author_id,conversation_id,created_at,\" + \\\n",
        "                \"geo,id,in_reply_to_user_id,lang,public_metrics,\" + \\\n",
        "                \"referenced_tweets,text\"\n",
        "  params = {\n",
        "      \"query\": query,\n",
        "      \"next_token\": next_token,\n",
        "      \"max_results\": max_results,\n",
        "      \"end_time\": end_time,\n",
        "      \"start_time\": \"2006-03-21T00:00:00Z\",\n",
        "      \"place.fields\": \"country,country_code,full_name,geo,id\",\n",
        "      \"expansions\": \"geo.place_id\",\n",
        "      \"tweet.fields\": tweet_fields,\n",
        "      \"user.fields\": \"id,name,location,created_at\"\n",
        "  }\n",
        "  return connect_to_endpoint(url, headers, params)\n",
        "\n",
        "# Anonimiza as strings\n",
        "def hash_string(string):\n",
        "  if string is None:\n",
        "    return None\n",
        "  hash_object = hashlib.sha512(salt.encode() + string.encode())\n",
        "  hex_dig = hash_object.hexdigest()\n",
        "  return hex_dig\n",
        "\n",
        "# Simplifica o json retornado pela API e anonimiza alguns campos\n",
        "def flatten_dict(x):\n",
        "  return {\n",
        "      \"id\": hash_string(x[\"id\"]),\n",
        "      \"lang\": x[\"lang\"],\n",
        "      \"conversation_id\": hash_string(x[\"conversation_id\"]),\n",
        "      \"author_id\": hash_string(x[\"author_id\"]),\n",
        "      \"created_at\": x[\"created_at\"],\n",
        "      \"reply_count\": x.get(\"public_metrics\", {}).get(\"reply_count\"),\n",
        "      \"retweet_count\": x.get(\"public_metrics\", {}).get(\"retweet_count\"),\n",
        "      \"like_count\": x.get(\"public_metrics\", {}).get(\"like_count\"),\n",
        "      \"quote_count\": x.get(\"public_metrics\", {}).get(\"quote_count\"),\n",
        "      \"in_reply_to_user_id\": hash_string(x.get(\"in_reply_to_user_id\")),\n",
        "      \"text\": x[\"text\"]\n",
        "  }\n",
        "\n",
        "# Realiza chamadas paginadas à API do Twitter, respeitando as limitações da API\n",
        "def batch_twitter_crawler(query):\n",
        "  results = []\n",
        "  control = {}\n",
        "  next_call = True\n",
        "  next_token = None\n",
        "\n",
        "  while(next_call):\n",
        "    twts = search_all(query, next_token = next_token, max_results=500)\n",
        "    \n",
        "    flatten = list(map(flatten_dict , twts[\"data\"]))\n",
        "    \n",
        "    results = results + flatten\n",
        "\n",
        "    if \"next_token\" in twts[\"meta\"]:\n",
        "      control[\"next_token\"] = twts[\"meta\"][\"next_token\"]\n",
        "    else:\n",
        "      control[\"next_token\"] = None\n",
        "\n",
        "    next_token = control[\"next_token\"]\n",
        "    next_call = next_token\n",
        "    \n",
        "    # Espera 2 segundos antes da próxima chamada (rate limit: 1 req/s)\n",
        "    time.sleep(2)\n",
        "  return results"
      ],
      "execution_count": null,
      "outputs": []
    },
    {
      "cell_type": "markdown",
      "metadata": {
        "id": "14R6YnRFPzmJ"
      },
      "source": [
        "Caso se deseje testar a API com seu próprio token de acesso, basta comentar a linha \"*%%script false*\"."
      ]
    },
    {
      "cell_type": "code",
      "metadata": {
        "id": "bowuQfCGbHOD"
      },
      "source": [
        "# Desabilita a chamada dessa célula. \n",
        "# COMENTE A LINHA A SEGUIR PARA EXECUTAR ESTA CÉLULA\n",
        "%%script false\n",
        "\n",
        "# salt a se utilizar na anonimização\n",
        "salt = uuid.uuid4().hex\n",
        "\n",
        "# para reproduzir os resultados e permitir o join entre os datasets baixado\n",
        "# pela API e classificado pelo autor, utiliza-se o salt abaixo:\n",
        "salt = \"7e041bf8a55041a1a16a9bcc9a29b8dc\"\n",
        "\n",
        "import getpass\n",
        "print(\"Informe o token de acesso à API do Twitter:\")\n",
        "bearer_token= getpass.getpass()\n",
        "\n",
        "# Busca todos os tweets enviados mencionando @ReceitaFederal ou \n",
        "# algum nome antigo usado pela conta\n",
        "results = batch_twitter_crawler(\"to:receitafederal\")\n",
        "\n",
        "# Grava o resultado para arquivo\n",
        "with open(\"datasets/tweets_rfb.json\", \"w\") as f:\n",
        "    f.write(json.dumps(results))"
      ],
      "execution_count": null,
      "outputs": []
    },
    {
      "cell_type": "markdown",
      "metadata": {
        "id": "FxnLWQ35g7Ij"
      },
      "source": [
        "### 2.2.2. Resultado Final e classificação manual de sentimentos\n",
        "\n",
        "Desse conjunto de dados obtidos pela API do Twitter, extraíram-se aleatoriamente 1038 mensagens para classificação manual, resultando no arquivo “tweets_classificados_rfb.csv”, em formato CSV, relacionado ao dataset anterior pela coluna “id”. Esses datasets serão chamados ao longo do trabalho de “tweets RFB” e “tweets classificados RFB”, respectivamente."
      ]
    },
    {
      "cell_type": "code",
      "metadata": {
        "id": "DzQXHr1EjM-O"
      },
      "source": [
        "# Dataset gerado a partir das chamadas à API\n",
        "tweets_rfb_df = pd.read_json(\"datasets/tweets_rfb.json\")\n",
        "\n",
        "# Mensagens classificadas\n",
        "tweets_rfb_classificados_df = pd.read_csv(\n",
        "    \"datasets/tweets_classificados_rfb.csv\"\n",
        ")"
      ],
      "execution_count": null,
      "outputs": []
    },
    {
      "cell_type": "markdown",
      "metadata": {
        "id": "C7bZ83QSykt2"
      },
      "source": [
        "# 3. Processamento/Tratamento de Dados\n",
        "\n",
        "Para o processamento e tratamento dos dados, foi utilizado Python, no Jupyter Notebook. Os datasets utilizados foram importados utilizando a biblioteca pandas, sendo importados cinco arquivos no formato CSV e um arquivo no formato JSON."
      ]
    },
    {
      "cell_type": "markdown",
      "metadata": {
        "id": "DP1DGkSSy1uy"
      },
      "source": [
        "## 3.1. Análise dos datasets\n",
        "\n",
        "Em seguida, trabalhou-se em cima desses arquivos, aplicando-se um método que retornasse quais os tipos das colunas, além da quantidade de registros, registros únicos, registros presentes e registros ausentes para cada um dos datasets."
      ]
    },
    {
      "cell_type": "code",
      "metadata": {
        "id": "ArXLCuLw4kRF"
      },
      "source": [
        "# Mostra os dados do tipo de coluna, total, registros únicos, \n",
        "# registros presentes e registros ausentes em um DataFrame\n",
        "def show_columns_details(df):\n",
        "  display(pd.DataFrame({\n",
        "    \"dtype\": df.dtypes,\n",
        "    \"total\": len(df),\n",
        "    \"unique\": df.nunique(),\n",
        "    \"non-NA\": df.count(),\n",
        "    \"NA\": df.isna().sum()\n",
        "  }))\n"
      ],
      "execution_count": null,
      "outputs": []
    },
    {
      "cell_type": "markdown",
      "metadata": {
        "id": "J-Cr9g2Tzj_J"
      },
      "source": [
        "Para os datasets \"Tweets em português para análise de sentimentos\" obteve-se o seguinte resultado:"
      ]
    },
    {
      "cell_type": "code",
      "metadata": {
        "colab": {
          "base_uri": "https://localhost:8080/",
          "height": 391
        },
        "id": "mr21Q6iqeE9m",
        "outputId": "80b5e437-3dc0-4393-b6d9-0beaa301fc40"
      },
      "source": [
        "show_columns_details(tweets_pt_themed_df.append(tweets_pt_no_theme_df))\n",
        "show_columns_details(tweets_pt_themed_df.append(tweets_pt_themed_df))"
      ],
      "execution_count": null,
      "outputs": [
        {
          "output_type": "display_data",
          "data": {
            "text/html": [
              "<div>\n",
              "<style scoped>\n",
              "    .dataframe tbody tr th:only-of-type {\n",
              "        vertical-align: middle;\n",
              "    }\n",
              "\n",
              "    .dataframe tbody tr th {\n",
              "        vertical-align: top;\n",
              "    }\n",
              "\n",
              "    .dataframe thead th {\n",
              "        text-align: right;\n",
              "    }\n",
              "</style>\n",
              "<table border=\"1\" class=\"dataframe\">\n",
              "  <thead>\n",
              "    <tr style=\"text-align: right;\">\n",
              "      <th></th>\n",
              "      <th>dtype</th>\n",
              "      <th>total</th>\n",
              "      <th>unique</th>\n",
              "      <th>non-NA</th>\n",
              "      <th>NA</th>\n",
              "    </tr>\n",
              "  </thead>\n",
              "  <tbody>\n",
              "    <tr>\n",
              "      <th>id</th>\n",
              "      <td>int64</td>\n",
              "      <td>847405</td>\n",
              "      <td>836066</td>\n",
              "      <td>847405</td>\n",
              "      <td>0</td>\n",
              "    </tr>\n",
              "    <tr>\n",
              "      <th>tweet_text</th>\n",
              "      <td>object</td>\n",
              "      <td>847405</td>\n",
              "      <td>826714</td>\n",
              "      <td>847405</td>\n",
              "      <td>0</td>\n",
              "    </tr>\n",
              "    <tr>\n",
              "      <th>tweet_date</th>\n",
              "      <td>object</td>\n",
              "      <td>847405</td>\n",
              "      <td>674767</td>\n",
              "      <td>847405</td>\n",
              "      <td>0</td>\n",
              "    </tr>\n",
              "    <tr>\n",
              "      <th>sentiment</th>\n",
              "      <td>object</td>\n",
              "      <td>847405</td>\n",
              "      <td>2</td>\n",
              "      <td>847405</td>\n",
              "      <td>0</td>\n",
              "    </tr>\n",
              "    <tr>\n",
              "      <th>query_used</th>\n",
              "      <td>object</td>\n",
              "      <td>847405</td>\n",
              "      <td>250</td>\n",
              "      <td>847405</td>\n",
              "      <td>0</td>\n",
              "    </tr>\n",
              "  </tbody>\n",
              "</table>\n",
              "</div>"
            ],
            "text/plain": [
              "             dtype   total  unique  non-NA  NA\n",
              "id           int64  847405  836066  847405   0\n",
              "tweet_text  object  847405  826714  847405   0\n",
              "tweet_date  object  847405  674767  847405   0\n",
              "sentiment   object  847405       2  847405   0\n",
              "query_used  object  847405     250  847405   0"
            ]
          },
          "metadata": {
            "tags": []
          }
        },
        {
          "output_type": "display_data",
          "data": {
            "text/html": [
              "<div>\n",
              "<style scoped>\n",
              "    .dataframe tbody tr th:only-of-type {\n",
              "        vertical-align: middle;\n",
              "    }\n",
              "\n",
              "    .dataframe tbody tr th {\n",
              "        vertical-align: top;\n",
              "    }\n",
              "\n",
              "    .dataframe thead th {\n",
              "        text-align: right;\n",
              "    }\n",
              "</style>\n",
              "<table border=\"1\" class=\"dataframe\">\n",
              "  <thead>\n",
              "    <tr style=\"text-align: right;\">\n",
              "      <th></th>\n",
              "      <th>dtype</th>\n",
              "      <th>total</th>\n",
              "      <th>unique</th>\n",
              "      <th>non-NA</th>\n",
              "      <th>NA</th>\n",
              "    </tr>\n",
              "  </thead>\n",
              "  <tbody>\n",
              "    <tr>\n",
              "      <th>id</th>\n",
              "      <td>int64</td>\n",
              "      <td>123182</td>\n",
              "      <td>61591</td>\n",
              "      <td>123182</td>\n",
              "      <td>0</td>\n",
              "    </tr>\n",
              "    <tr>\n",
              "      <th>tweet_text</th>\n",
              "      <td>object</td>\n",
              "      <td>123182</td>\n",
              "      <td>61283</td>\n",
              "      <td>123182</td>\n",
              "      <td>0</td>\n",
              "    </tr>\n",
              "    <tr>\n",
              "      <th>tweet_date</th>\n",
              "      <td>object</td>\n",
              "      <td>123182</td>\n",
              "      <td>60522</td>\n",
              "      <td>123182</td>\n",
              "      <td>0</td>\n",
              "    </tr>\n",
              "    <tr>\n",
              "      <th>sentiment</th>\n",
              "      <td>object</td>\n",
              "      <td>123182</td>\n",
              "      <td>2</td>\n",
              "      <td>123182</td>\n",
              "      <td>0</td>\n",
              "    </tr>\n",
              "    <tr>\n",
              "      <th>query_used</th>\n",
              "      <td>object</td>\n",
              "      <td>123182</td>\n",
              "      <td>248</td>\n",
              "      <td>123182</td>\n",
              "      <td>0</td>\n",
              "    </tr>\n",
              "  </tbody>\n",
              "</table>\n",
              "</div>"
            ],
            "text/plain": [
              "             dtype   total  unique  non-NA  NA\n",
              "id           int64  123182   61591  123182   0\n",
              "tweet_text  object  123182   61283  123182   0\n",
              "tweet_date  object  123182   60522  123182   0\n",
              "sentiment   object  123182       2  123182   0\n",
              "query_used  object  123182     248  123182   0"
            ]
          },
          "metadata": {
            "tags": []
          }
        }
      ]
    },
    {
      "cell_type": "markdown",
      "metadata": {
        "id": "S4pGCTcY54jS"
      },
      "source": [
        "Para o dataset \"Tweets de MG/BR\", o resultado foi o seguinte:"
      ]
    },
    {
      "cell_type": "code",
      "metadata": {
        "colab": {
          "base_uri": "https://localhost:8080/",
          "height": 855
        },
        "id": "n9Kgj0x45dVR",
        "outputId": "a7aa2f92-21ac-475b-a30b-468138f5b92e"
      },
      "source": [
        "show_columns_details(tweets_mg_df) "
      ],
      "execution_count": null,
      "outputs": [
        {
          "output_type": "display_data",
          "data": {
            "text/html": [
              "<div>\n",
              "<style scoped>\n",
              "    .dataframe tbody tr th:only-of-type {\n",
              "        vertical-align: middle;\n",
              "    }\n",
              "\n",
              "    .dataframe tbody tr th {\n",
              "        vertical-align: top;\n",
              "    }\n",
              "\n",
              "    .dataframe thead th {\n",
              "        text-align: right;\n",
              "    }\n",
              "</style>\n",
              "<table border=\"1\" class=\"dataframe\">\n",
              "  <thead>\n",
              "    <tr style=\"text-align: right;\">\n",
              "      <th></th>\n",
              "      <th>dtype</th>\n",
              "      <th>total</th>\n",
              "      <th>unique</th>\n",
              "      <th>non-NA</th>\n",
              "      <th>NA</th>\n",
              "    </tr>\n",
              "  </thead>\n",
              "  <tbody>\n",
              "    <tr>\n",
              "      <th>Unnamed: 0</th>\n",
              "      <td>int64</td>\n",
              "      <td>8199</td>\n",
              "      <td>8199</td>\n",
              "      <td>8199</td>\n",
              "      <td>0</td>\n",
              "    </tr>\n",
              "    <tr>\n",
              "      <th>Created At</th>\n",
              "      <td>object</td>\n",
              "      <td>8199</td>\n",
              "      <td>7945</td>\n",
              "      <td>8199</td>\n",
              "      <td>0</td>\n",
              "    </tr>\n",
              "    <tr>\n",
              "      <th>Text</th>\n",
              "      <td>object</td>\n",
              "      <td>8199</td>\n",
              "      <td>5765</td>\n",
              "      <td>8199</td>\n",
              "      <td>0</td>\n",
              "    </tr>\n",
              "    <tr>\n",
              "      <th>Geo Coordinates.latitude</th>\n",
              "      <td>float64</td>\n",
              "      <td>8199</td>\n",
              "      <td>57</td>\n",
              "      <td>104</td>\n",
              "      <td>8095</td>\n",
              "    </tr>\n",
              "    <tr>\n",
              "      <th>Geo Coordinates.longitude</th>\n",
              "      <td>float64</td>\n",
              "      <td>8199</td>\n",
              "      <td>57</td>\n",
              "      <td>104</td>\n",
              "      <td>8095</td>\n",
              "    </tr>\n",
              "    <tr>\n",
              "      <th>User Location</th>\n",
              "      <td>object</td>\n",
              "      <td>8199</td>\n",
              "      <td>1591</td>\n",
              "      <td>5489</td>\n",
              "      <td>2710</td>\n",
              "    </tr>\n",
              "    <tr>\n",
              "      <th>Username</th>\n",
              "      <td>object</td>\n",
              "      <td>8199</td>\n",
              "      <td>3907</td>\n",
              "      <td>8199</td>\n",
              "      <td>0</td>\n",
              "    </tr>\n",
              "    <tr>\n",
              "      <th>User Screen Name</th>\n",
              "      <td>object</td>\n",
              "      <td>8199</td>\n",
              "      <td>3966</td>\n",
              "      <td>8199</td>\n",
              "      <td>0</td>\n",
              "    </tr>\n",
              "    <tr>\n",
              "      <th>Retweet Count</th>\n",
              "      <td>int64</td>\n",
              "      <td>8199</td>\n",
              "      <td>113</td>\n",
              "      <td>8199</td>\n",
              "      <td>0</td>\n",
              "    </tr>\n",
              "    <tr>\n",
              "      <th>Classificacao</th>\n",
              "      <td>object</td>\n",
              "      <td>8199</td>\n",
              "      <td>3</td>\n",
              "      <td>8199</td>\n",
              "      <td>0</td>\n",
              "    </tr>\n",
              "    <tr>\n",
              "      <th>Observação</th>\n",
              "      <td>object</td>\n",
              "      <td>8199</td>\n",
              "      <td>1</td>\n",
              "      <td>1</td>\n",
              "      <td>8198</td>\n",
              "    </tr>\n",
              "    <tr>\n",
              "      <th>Unnamed: 10</th>\n",
              "      <td>float64</td>\n",
              "      <td>8199</td>\n",
              "      <td>0</td>\n",
              "      <td>0</td>\n",
              "      <td>8199</td>\n",
              "    </tr>\n",
              "    <tr>\n",
              "      <th>Unnamed: 11</th>\n",
              "      <td>float64</td>\n",
              "      <td>8199</td>\n",
              "      <td>0</td>\n",
              "      <td>0</td>\n",
              "      <td>8199</td>\n",
              "    </tr>\n",
              "    <tr>\n",
              "      <th>Unnamed: 12</th>\n",
              "      <td>float64</td>\n",
              "      <td>8199</td>\n",
              "      <td>0</td>\n",
              "      <td>0</td>\n",
              "      <td>8199</td>\n",
              "    </tr>\n",
              "    <tr>\n",
              "      <th>Unnamed: 13</th>\n",
              "      <td>float64</td>\n",
              "      <td>8199</td>\n",
              "      <td>0</td>\n",
              "      <td>0</td>\n",
              "      <td>8199</td>\n",
              "    </tr>\n",
              "    <tr>\n",
              "      <th>Unnamed: 14</th>\n",
              "      <td>float64</td>\n",
              "      <td>8199</td>\n",
              "      <td>0</td>\n",
              "      <td>0</td>\n",
              "      <td>8199</td>\n",
              "    </tr>\n",
              "    <tr>\n",
              "      <th>Unnamed: 15</th>\n",
              "      <td>float64</td>\n",
              "      <td>8199</td>\n",
              "      <td>0</td>\n",
              "      <td>0</td>\n",
              "      <td>8199</td>\n",
              "    </tr>\n",
              "    <tr>\n",
              "      <th>Unnamed: 16</th>\n",
              "      <td>float64</td>\n",
              "      <td>8199</td>\n",
              "      <td>0</td>\n",
              "      <td>0</td>\n",
              "      <td>8199</td>\n",
              "    </tr>\n",
              "    <tr>\n",
              "      <th>Unnamed: 17</th>\n",
              "      <td>float64</td>\n",
              "      <td>8199</td>\n",
              "      <td>0</td>\n",
              "      <td>0</td>\n",
              "      <td>8199</td>\n",
              "    </tr>\n",
              "    <tr>\n",
              "      <th>Unnamed: 18</th>\n",
              "      <td>float64</td>\n",
              "      <td>8199</td>\n",
              "      <td>0</td>\n",
              "      <td>0</td>\n",
              "      <td>8199</td>\n",
              "    </tr>\n",
              "    <tr>\n",
              "      <th>Unnamed: 19</th>\n",
              "      <td>float64</td>\n",
              "      <td>8199</td>\n",
              "      <td>0</td>\n",
              "      <td>0</td>\n",
              "      <td>8199</td>\n",
              "    </tr>\n",
              "    <tr>\n",
              "      <th>Unnamed: 20</th>\n",
              "      <td>float64</td>\n",
              "      <td>8199</td>\n",
              "      <td>0</td>\n",
              "      <td>0</td>\n",
              "      <td>8199</td>\n",
              "    </tr>\n",
              "    <tr>\n",
              "      <th>Unnamed: 21</th>\n",
              "      <td>float64</td>\n",
              "      <td>8199</td>\n",
              "      <td>0</td>\n",
              "      <td>0</td>\n",
              "      <td>8199</td>\n",
              "    </tr>\n",
              "    <tr>\n",
              "      <th>Unnamed: 22</th>\n",
              "      <td>float64</td>\n",
              "      <td>8199</td>\n",
              "      <td>0</td>\n",
              "      <td>0</td>\n",
              "      <td>8199</td>\n",
              "    </tr>\n",
              "    <tr>\n",
              "      <th>Unnamed: 23</th>\n",
              "      <td>float64</td>\n",
              "      <td>8199</td>\n",
              "      <td>0</td>\n",
              "      <td>0</td>\n",
              "      <td>8199</td>\n",
              "    </tr>\n",
              "    <tr>\n",
              "      <th>Unnamed: 24</th>\n",
              "      <td>float64</td>\n",
              "      <td>8199</td>\n",
              "      <td>0</td>\n",
              "      <td>0</td>\n",
              "      <td>8199</td>\n",
              "    </tr>\n",
              "  </tbody>\n",
              "</table>\n",
              "</div>"
            ],
            "text/plain": [
              "                             dtype  total  unique  non-NA    NA\n",
              "Unnamed: 0                   int64   8199    8199    8199     0\n",
              "Created At                  object   8199    7945    8199     0\n",
              "Text                        object   8199    5765    8199     0\n",
              "Geo Coordinates.latitude   float64   8199      57     104  8095\n",
              "Geo Coordinates.longitude  float64   8199      57     104  8095\n",
              "User Location               object   8199    1591    5489  2710\n",
              "Username                    object   8199    3907    8199     0\n",
              "User Screen Name            object   8199    3966    8199     0\n",
              "Retweet Count                int64   8199     113    8199     0\n",
              "Classificacao               object   8199       3    8199     0\n",
              "Observação                  object   8199       1       1  8198\n",
              "Unnamed: 10                float64   8199       0       0  8199\n",
              "Unnamed: 11                float64   8199       0       0  8199\n",
              "Unnamed: 12                float64   8199       0       0  8199\n",
              "Unnamed: 13                float64   8199       0       0  8199\n",
              "Unnamed: 14                float64   8199       0       0  8199\n",
              "Unnamed: 15                float64   8199       0       0  8199\n",
              "Unnamed: 16                float64   8199       0       0  8199\n",
              "Unnamed: 17                float64   8199       0       0  8199\n",
              "Unnamed: 18                float64   8199       0       0  8199\n",
              "Unnamed: 19                float64   8199       0       0  8199\n",
              "Unnamed: 20                float64   8199       0       0  8199\n",
              "Unnamed: 21                float64   8199       0       0  8199\n",
              "Unnamed: 22                float64   8199       0       0  8199\n",
              "Unnamed: 23                float64   8199       0       0  8199\n",
              "Unnamed: 24                float64   8199       0       0  8199"
            ]
          },
          "metadata": {
            "tags": []
          }
        }
      ]
    },
    {
      "cell_type": "markdown",
      "metadata": {
        "id": "dwOV1cBR6d8N"
      },
      "source": [
        "Já no dataset \"IMDB-PT-BR\", foram encontrados os seguintes resultados:"
      ]
    },
    {
      "cell_type": "code",
      "metadata": {
        "colab": {
          "base_uri": "https://localhost:8080/",
          "height": 173
        },
        "id": "I05h3Bqkzx_H",
        "outputId": "3c54d087-0413-4180-fb6e-6840245eef69"
      },
      "source": [
        "show_columns_details(imdb_pt_df)"
      ],
      "execution_count": null,
      "outputs": [
        {
          "output_type": "display_data",
          "data": {
            "text/html": [
              "<div>\n",
              "<style scoped>\n",
              "    .dataframe tbody tr th:only-of-type {\n",
              "        vertical-align: middle;\n",
              "    }\n",
              "\n",
              "    .dataframe tbody tr th {\n",
              "        vertical-align: top;\n",
              "    }\n",
              "\n",
              "    .dataframe thead th {\n",
              "        text-align: right;\n",
              "    }\n",
              "</style>\n",
              "<table border=\"1\" class=\"dataframe\">\n",
              "  <thead>\n",
              "    <tr style=\"text-align: right;\">\n",
              "      <th></th>\n",
              "      <th>dtype</th>\n",
              "      <th>total</th>\n",
              "      <th>unique</th>\n",
              "      <th>non-NA</th>\n",
              "      <th>NA</th>\n",
              "    </tr>\n",
              "  </thead>\n",
              "  <tbody>\n",
              "    <tr>\n",
              "      <th>id</th>\n",
              "      <td>int64</td>\n",
              "      <td>49459</td>\n",
              "      <td>49459</td>\n",
              "      <td>49459</td>\n",
              "      <td>0</td>\n",
              "    </tr>\n",
              "    <tr>\n",
              "      <th>text_en</th>\n",
              "      <td>object</td>\n",
              "      <td>49459</td>\n",
              "      <td>49043</td>\n",
              "      <td>49459</td>\n",
              "      <td>0</td>\n",
              "    </tr>\n",
              "    <tr>\n",
              "      <th>text_pt</th>\n",
              "      <td>object</td>\n",
              "      <td>49459</td>\n",
              "      <td>49045</td>\n",
              "      <td>49459</td>\n",
              "      <td>0</td>\n",
              "    </tr>\n",
              "    <tr>\n",
              "      <th>sentiment</th>\n",
              "      <td>object</td>\n",
              "      <td>49459</td>\n",
              "      <td>2</td>\n",
              "      <td>49459</td>\n",
              "      <td>0</td>\n",
              "    </tr>\n",
              "  </tbody>\n",
              "</table>\n",
              "</div>"
            ],
            "text/plain": [
              "            dtype  total  unique  non-NA  NA\n",
              "id          int64  49459   49459   49459   0\n",
              "text_en    object  49459   49043   49459   0\n",
              "text_pt    object  49459   49045   49459   0\n",
              "sentiment  object  49459       2   49459   0"
            ]
          },
          "metadata": {
            "tags": []
          }
        }
      ]
    },
    {
      "cell_type": "markdown",
      "metadata": {
        "id": "g6CgkVyZ6_Mc"
      },
      "source": [
        "Por fim, para os datasets gerados pelo autor os detalhes são os seguintes:"
      ]
    },
    {
      "cell_type": "code",
      "metadata": {
        "colab": {
          "base_uri": "https://localhost:8080/",
          "height": 552
        },
        "id": "ODAdmiMY6r7y",
        "outputId": "179e60c2-d0da-4fef-e502-a31ba5e5aee2"
      },
      "source": [
        "print(\"Tweets RFB:\")\n",
        "show_columns_details(tweets_rfb_df)\n",
        "print(\"\\n\\nTweets RFB Classificados:\")\n",
        "show_columns_details(tweets_rfb_classificados_df)"
      ],
      "execution_count": null,
      "outputs": [
        {
          "output_type": "stream",
          "text": [
            "Tweets RFB:\n"
          ],
          "name": "stdout"
        },
        {
          "output_type": "display_data",
          "data": {
            "text/html": [
              "<div>\n",
              "<style scoped>\n",
              "    .dataframe tbody tr th:only-of-type {\n",
              "        vertical-align: middle;\n",
              "    }\n",
              "\n",
              "    .dataframe tbody tr th {\n",
              "        vertical-align: top;\n",
              "    }\n",
              "\n",
              "    .dataframe thead th {\n",
              "        text-align: right;\n",
              "    }\n",
              "</style>\n",
              "<table border=\"1\" class=\"dataframe\">\n",
              "  <thead>\n",
              "    <tr style=\"text-align: right;\">\n",
              "      <th></th>\n",
              "      <th>dtype</th>\n",
              "      <th>total</th>\n",
              "      <th>unique</th>\n",
              "      <th>non-NA</th>\n",
              "      <th>NA</th>\n",
              "    </tr>\n",
              "  </thead>\n",
              "  <tbody>\n",
              "    <tr>\n",
              "      <th>id</th>\n",
              "      <td>object</td>\n",
              "      <td>12688</td>\n",
              "      <td>12688</td>\n",
              "      <td>12688</td>\n",
              "      <td>0</td>\n",
              "    </tr>\n",
              "    <tr>\n",
              "      <th>lang</th>\n",
              "      <td>object</td>\n",
              "      <td>12688</td>\n",
              "      <td>20</td>\n",
              "      <td>12688</td>\n",
              "      <td>0</td>\n",
              "    </tr>\n",
              "    <tr>\n",
              "      <th>conversation_id</th>\n",
              "      <td>object</td>\n",
              "      <td>12688</td>\n",
              "      <td>9761</td>\n",
              "      <td>12688</td>\n",
              "      <td>0</td>\n",
              "    </tr>\n",
              "    <tr>\n",
              "      <th>author_id</th>\n",
              "      <td>object</td>\n",
              "      <td>12688</td>\n",
              "      <td>7489</td>\n",
              "      <td>12688</td>\n",
              "      <td>0</td>\n",
              "    </tr>\n",
              "    <tr>\n",
              "      <th>created_at</th>\n",
              "      <td>datetime64[ns, UTC]</td>\n",
              "      <td>12688</td>\n",
              "      <td>12668</td>\n",
              "      <td>12688</td>\n",
              "      <td>0</td>\n",
              "    </tr>\n",
              "    <tr>\n",
              "      <th>reply_count</th>\n",
              "      <td>int64</td>\n",
              "      <td>12688</td>\n",
              "      <td>10</td>\n",
              "      <td>12688</td>\n",
              "      <td>0</td>\n",
              "    </tr>\n",
              "    <tr>\n",
              "      <th>retweet_count</th>\n",
              "      <td>int64</td>\n",
              "      <td>12688</td>\n",
              "      <td>22</td>\n",
              "      <td>12688</td>\n",
              "      <td>0</td>\n",
              "    </tr>\n",
              "    <tr>\n",
              "      <th>like_count</th>\n",
              "      <td>int64</td>\n",
              "      <td>12688</td>\n",
              "      <td>45</td>\n",
              "      <td>12688</td>\n",
              "      <td>0</td>\n",
              "    </tr>\n",
              "    <tr>\n",
              "      <th>quote_count</th>\n",
              "      <td>int64</td>\n",
              "      <td>12688</td>\n",
              "      <td>7</td>\n",
              "      <td>12688</td>\n",
              "      <td>0</td>\n",
              "    </tr>\n",
              "    <tr>\n",
              "      <th>in_reply_to_user_id</th>\n",
              "      <td>object</td>\n",
              "      <td>12688</td>\n",
              "      <td>1</td>\n",
              "      <td>12659</td>\n",
              "      <td>29</td>\n",
              "    </tr>\n",
              "    <tr>\n",
              "      <th>text</th>\n",
              "      <td>object</td>\n",
              "      <td>12688</td>\n",
              "      <td>11989</td>\n",
              "      <td>12688</td>\n",
              "      <td>0</td>\n",
              "    </tr>\n",
              "  </tbody>\n",
              "</table>\n",
              "</div>"
            ],
            "text/plain": [
              "                                   dtype  total  unique  non-NA  NA\n",
              "id                                object  12688   12688   12688   0\n",
              "lang                              object  12688      20   12688   0\n",
              "conversation_id                   object  12688    9761   12688   0\n",
              "author_id                         object  12688    7489   12688   0\n",
              "created_at           datetime64[ns, UTC]  12688   12668   12688   0\n",
              "reply_count                        int64  12688      10   12688   0\n",
              "retweet_count                      int64  12688      22   12688   0\n",
              "like_count                         int64  12688      45   12688   0\n",
              "quote_count                        int64  12688       7   12688   0\n",
              "in_reply_to_user_id               object  12688       1   12659  29\n",
              "text                              object  12688   11989   12688   0"
            ]
          },
          "metadata": {
            "tags": []
          }
        },
        {
          "output_type": "stream",
          "text": [
            "\n",
            "\n",
            "Tweets RFB Classificados:\n"
          ],
          "name": "stdout"
        },
        {
          "output_type": "display_data",
          "data": {
            "text/html": [
              "<div>\n",
              "<style scoped>\n",
              "    .dataframe tbody tr th:only-of-type {\n",
              "        vertical-align: middle;\n",
              "    }\n",
              "\n",
              "    .dataframe tbody tr th {\n",
              "        vertical-align: top;\n",
              "    }\n",
              "\n",
              "    .dataframe thead th {\n",
              "        text-align: right;\n",
              "    }\n",
              "</style>\n",
              "<table border=\"1\" class=\"dataframe\">\n",
              "  <thead>\n",
              "    <tr style=\"text-align: right;\">\n",
              "      <th></th>\n",
              "      <th>dtype</th>\n",
              "      <th>total</th>\n",
              "      <th>unique</th>\n",
              "      <th>non-NA</th>\n",
              "      <th>NA</th>\n",
              "    </tr>\n",
              "  </thead>\n",
              "  <tbody>\n",
              "    <tr>\n",
              "      <th>id</th>\n",
              "      <td>object</td>\n",
              "      <td>1038</td>\n",
              "      <td>1038</td>\n",
              "      <td>1038</td>\n",
              "      <td>0</td>\n",
              "    </tr>\n",
              "    <tr>\n",
              "      <th>sentiment</th>\n",
              "      <td>int64</td>\n",
              "      <td>1038</td>\n",
              "      <td>2</td>\n",
              "      <td>1038</td>\n",
              "      <td>0</td>\n",
              "    </tr>\n",
              "  </tbody>\n",
              "</table>\n",
              "</div>"
            ],
            "text/plain": [
              "            dtype  total  unique  non-NA  NA\n",
              "id         object   1038    1038    1038   0\n",
              "sentiment   int64   1038       2    1038   0"
            ]
          },
          "metadata": {
            "tags": []
          }
        }
      ]
    },
    {
      "cell_type": "markdown",
      "metadata": {
        "id": "UgbjM4ncFkUX"
      },
      "source": [
        "Observa-se que foram classificados 1038 de 12688 tweets, o que corresponde a 8,18% dos tweets coletados. Como os tweets foram escolhidos aleatoriamente para classificação, espera-se que tenham boa representatividade do dataset completo. "
      ]
    },
    {
      "cell_type": "markdown",
      "metadata": {
        "id": "UzucEerDT9XK"
      },
      "source": [
        "Os dois arquivos provenientes dos dados de Tweets enviados a RFB foram unidos utilizando o método merge do pandas fazendo uma junção pela coluna “id”. Dessa forma, apenas os “tweets classificados RFB” serão utilizados na criação e teste dos modelos de aprendizado de máquina."
      ]
    },
    {
      "cell_type": "code",
      "metadata": {
        "colab": {
          "base_uri": "https://localhost:8080/",
          "height": 204
        },
        "id": "AOev1a5d7LqB",
        "outputId": "ab811fcb-a06f-48ce-ecdb-ca5f811bcc5e"
      },
      "source": [
        "# junta os datasets com a classificação ao seu texto de origem\n",
        "tweets_rfb_classificados_df = tweets_rfb_classificados_df.merge(\n",
        "    tweets_rfb_df, on='id', how='inner'\n",
        ")\n",
        "# informa o dataset de origem\n",
        "tweets_rfb_classificados_df[\"origin\"] = \"tweets_rfb\"\n",
        "tweets_rfb_classificados_df[[\"created_at\", \"text\", \"sentiment\"]].head(5)"
      ],
      "execution_count": null,
      "outputs": [
        {
          "output_type": "execute_result",
          "data": {
            "text/html": [
              "<div>\n",
              "<style scoped>\n",
              "    .dataframe tbody tr th:only-of-type {\n",
              "        vertical-align: middle;\n",
              "    }\n",
              "\n",
              "    .dataframe tbody tr th {\n",
              "        vertical-align: top;\n",
              "    }\n",
              "\n",
              "    .dataframe thead th {\n",
              "        text-align: right;\n",
              "    }\n",
              "</style>\n",
              "<table border=\"1\" class=\"dataframe\">\n",
              "  <thead>\n",
              "    <tr style=\"text-align: right;\">\n",
              "      <th></th>\n",
              "      <th>created_at</th>\n",
              "      <th>text</th>\n",
              "      <th>sentiment</th>\n",
              "    </tr>\n",
              "  </thead>\n",
              "  <tbody>\n",
              "    <tr>\n",
              "      <th>0</th>\n",
              "      <td>2017-12-30 19:23:37+00:00</td>\n",
              "      <td>@ReceitaFederal  Aeroporto do Rio de Janeiro e...</td>\n",
              "      <td>0</td>\n",
              "    </tr>\n",
              "    <tr>\n",
              "      <th>1</th>\n",
              "      <td>2020-04-12 16:57:26+00:00</td>\n",
              "      <td>@ReceitaFederal @SF_Moro @MPF_PGR @JornalBSM @...</td>\n",
              "      <td>1</td>\n",
              "    </tr>\n",
              "    <tr>\n",
              "      <th>2</th>\n",
              "      <td>2018-04-30 22:53:39+00:00</td>\n",
              "      <td>@ReceitaFederal \"contribuinte\" kkkkkkkk essa é...</td>\n",
              "      <td>0</td>\n",
              "    </tr>\n",
              "    <tr>\n",
              "      <th>3</th>\n",
              "      <td>2018-04-12 14:09:36+00:00</td>\n",
              "      <td>@ReceitaFederal Gostaria de saber como a recei...</td>\n",
              "      <td>0</td>\n",
              "    </tr>\n",
              "    <tr>\n",
              "      <th>4</th>\n",
              "      <td>2017-08-29 16:00:28+00:00</td>\n",
              "      <td>@ReceitaFederal ser a que o que eu devo como p...</td>\n",
              "      <td>0</td>\n",
              "    </tr>\n",
              "  </tbody>\n",
              "</table>\n",
              "</div>"
            ],
            "text/plain": [
              "                 created_at  ... sentiment\n",
              "0 2017-12-30 19:23:37+00:00  ...         0\n",
              "1 2020-04-12 16:57:26+00:00  ...         1\n",
              "2 2018-04-30 22:53:39+00:00  ...         0\n",
              "3 2018-04-12 14:09:36+00:00  ...         0\n",
              "4 2017-08-29 16:00:28+00:00  ...         0\n",
              "\n",
              "[5 rows x 3 columns]"
            ]
          },
          "metadata": {
            "tags": []
          },
          "execution_count": 21
        }
      ]
    },
    {
      "cell_type": "markdown",
      "metadata": {
        "id": "31cw78iS9lJN"
      },
      "source": [
        "## 3.2. Colunas utilizadas\n",
        "\n",
        "Feito isso, observou-se que em geral os datasets apresentavam algumas colunas semelhantes, e outras que não possuíam similares entre os datasets. As colunas que não possuiam similares (ex: “User Location”, “author_id”, etc) foram retiradas da análise e mantiveram-se as colunas semelhantes, sendo copiadas para novas colunas com nomes iguais entre datasets, para, posteriormente, juntar os datasets:\n",
        "-\ttexto do tweet ou da avaliação em português, copiado para a coluna “text”;\n",
        "-\tdata de criação, convertida para datetime e copiada para a coluna “created_at” (o dataset “IMDB PT-BR” não possuía data, então se deixará esse atributo ausente nesse caso);\n",
        "-\tcategorização do sentimento, copiada para a coluna “sentiment”.\n",
        "\n",
        "Além disso, foi adicionada uma coluna “origin” para identificar a origem do dataset.\n",
        "\n",
        "\n"
      ]
    },
    {
      "cell_type": "code",
      "metadata": {
        "id": "E4swHr6I7p0J"
      },
      "source": [
        "# Gera colunas com o mesmo nome (created_at, text, origin, sentiment) \n",
        "# para todos os Datasets\n",
        "\n",
        "# Como as colunas de data dos datasets está como objecto (string),\n",
        "# transforma-se para datetime\n",
        "tweets_pt_themed_df[\"created_at\"] = pd.to_datetime(\n",
        "    tweets_pt_themed_df[\"tweet_date\"], utc=True\n",
        ")\n",
        "tweets_pt_themed_df[\"text\"] = tweets_pt_themed_df[\"tweet_text\"]\n",
        "tweets_pt_themed_df[\"origin\"] = \"tweets_pt\"\n",
        "tweets_pt_no_theme_df[\"created_at\"] = pd.to_datetime(\n",
        "    tweets_pt_no_theme_df[\"tweet_date\"], utc=True\n",
        ")\n",
        "tweets_pt_no_theme_df[\"text\"] = tweets_pt_no_theme_df[\"tweet_text\"]\n",
        "tweets_pt_no_theme_df[\"origin\"] = \"tweets_pt\"\n",
        "tweets_mg_df[\"created_at\"] = pd.to_datetime(\n",
        "    tweets_mg_df[\"Created At\"], utc=True\n",
        ")\n",
        "tweets_mg_df[\"text\"] = tweets_mg_df[\"Text\"]\n",
        "tweets_mg_df[\"origin\"] = \"tweets_mg\"\n",
        "tweets_mg_df[\"sentiment\"] = tweets_mg_df[\"Classificacao\"]\n",
        "imdb_pt_df[\"text\"] = imdb_pt_df[\"text_pt\"]\n",
        "imdb_pt_df[\"origin\"] = \"imdb_pt\"\n",
        "# Gera uma coluna vazia para o dataset que não possui data\n",
        "imdb_pt_df[\"created_at\"] = None\n",
        "# Força o tipo da coluna para datetime\n",
        "imdb_pt_df = imdb_pt_df.astype({\"created_at\": \"datetime64\"})\n"
      ],
      "execution_count": null,
      "outputs": []
    },
    {
      "cell_type": "code",
      "metadata": {
        "id": "fwDfKgTeF5jn"
      },
      "source": [
        "# Ignora as outras colunas\n",
        "tweets_pt_themed_df = tweets_pt_themed_df[[\"created_at\", \"text\", \"origin\", \"sentiment\"]]\n",
        "tweets_pt_no_theme_df = tweets_pt_no_theme_df[[\"created_at\", \"text\", \"origin\", \"sentiment\"]]\n",
        "tweets_mg_df = tweets_mg_df[[\"created_at\", \"text\", \"origin\", \"sentiment\"]]\n",
        "imdb_pt_df = imdb_pt_df[[\"created_at\", \"text\", \"origin\", \"sentiment\"]]\n",
        "tweets_rfb_classificados_df = tweets_rfb_classificados_df[[\"created_at\", \"text\", \"origin\", \"sentiment\"]]"
      ],
      "execution_count": null,
      "outputs": []
    },
    {
      "cell_type": "markdown",
      "metadata": {
        "id": "Esh_JfHoFwAh"
      },
      "source": [
        "## 3.3. Conversão da coluna \"sentiment\" para binário"
      ]
    },
    {
      "cell_type": "markdown",
      "metadata": {
        "id": "hjCEIcASB26j"
      },
      "source": [
        "Antes de se juntar os datasets, foi preciso converter as diversas formas de categorização para o mesmo formato. Como no total dos arquivos usados, apenas 0,27% categorizavam o sentimento em neutro, esses dados são descartados e se escolheu o formato binário, “0” se negativo e “1” se positivo, para padronização da categorização na coluna “sentiment_binary”."
      ]
    },
    {
      "cell_type": "code",
      "metadata": {
        "colab": {
          "base_uri": "https://localhost:8080/"
        },
        "id": "_xmxcM3KB2dE",
        "outputId": "09487255-712f-44d7-c28b-f01a9b74d293"
      },
      "source": [
        "# Representatividade de valores neutros considerando todos os datasets:\n",
        "print(\"Percentual de valores neutros em todos os datasets: {:.2f}%\".format(\n",
        "      tweets_mg_df.value_counts(\"sentiment\")[\"Neutro\"]/(\n",
        "        len(tweets_mg_df) +\n",
        "        len(tweets_rfb_classificados_df) + \n",
        "        len(imdb_pt_df) + \n",
        "        len(tweets_pt_themed_df) + \n",
        "        len(tweets_pt_no_theme_df)\n",
        "      ) *100\n",
        "))"
      ],
      "execution_count": null,
      "outputs": [
        {
          "output_type": "stream",
          "text": [
            "Percentual de valores neutros em todos os datasets: 0.27%\n"
          ],
          "name": "stdout"
        }
      ]
    },
    {
      "cell_type": "code",
      "metadata": {
        "id": "C5h89uAFHOSB"
      },
      "source": [
        "# Exclui os tweets neutros\n",
        "tweets_mg_df = tweets_mg_df.drop(\n",
        "    tweets_mg_df[tweets_mg_df[\"sentiment\"] == \"Neutro\"].index\n",
        ")"
      ],
      "execution_count": null,
      "outputs": []
    },
    {
      "cell_type": "markdown",
      "metadata": {
        "id": "tJ2KxBryG-S5"
      },
      "source": [
        "Agora verifica-se a forma como cada dataset classificou os sentimentos e converte-se para 0 se for negativo e 1 se for positivo"
      ]
    },
    {
      "cell_type": "code",
      "metadata": {
        "colab": {
          "base_uri": "https://localhost:8080/"
        },
        "id": "fJ3A5tD-G6st",
        "outputId": "c05146b9-a94f-49af-ca0e-17f6090348a2"
      },
      "source": [
        "tweets_mg_df.value_counts(\"sentiment\")"
      ],
      "execution_count": null,
      "outputs": [
        {
          "output_type": "execute_result",
          "data": {
            "text/plain": [
              "sentiment\n",
              "Positivo    3300\n",
              "Negativo    2446\n",
              "dtype: int64"
            ]
          },
          "metadata": {
            "tags": []
          },
          "execution_count": 26
        }
      ]
    },
    {
      "cell_type": "code",
      "metadata": {
        "id": "e_SiFueaBb-N"
      },
      "source": [
        "# mapeia a categorização de sentimentos para 0 ou 1\n",
        "sentiment_map = {\n",
        "    \"Negativo\": 0,\n",
        "    \"Positivo\": 1\n",
        "}\n",
        "tweets_mg_df[\"sentiment_binary\"] = tweets_mg_df['sentiment'].map(\n",
        "    sentiment_map\n",
        ").fillna(tweets_mg_df['sentiment'])\n"
      ],
      "execution_count": null,
      "outputs": []
    },
    {
      "cell_type": "code",
      "metadata": {
        "colab": {
          "base_uri": "https://localhost:8080/"
        },
        "id": "A49Km-RME8j5",
        "outputId": "b2d8ac07-c8a7-4799-8958-88931cbff367"
      },
      "source": [
        "tweets_pt_no_theme_df.value_counts(\"sentiment\")"
      ],
      "execution_count": null,
      "outputs": [
        {
          "output_type": "execute_result",
          "data": {
            "text/plain": [
              "sentiment\n",
              "Negativo    522707\n",
              "Positivo    263107\n",
              "dtype: int64"
            ]
          },
          "metadata": {
            "tags": []
          },
          "execution_count": 28
        }
      ]
    },
    {
      "cell_type": "code",
      "metadata": {
        "id": "HwwhB32oH5I_"
      },
      "source": [
        "# mapeia a categorização de sentimentos para 0 ou 1\n",
        "sentiment_map = {\n",
        "    \"Negativo\": 0,\n",
        "    \"Positivo\": 1\n",
        "}\n",
        "tweets_pt_no_theme_df[\"sentiment_binary\"] = tweets_pt_no_theme_df['sentiment'].map(sentiment_map).fillna(tweets_pt_no_theme_df['sentiment'])\n"
      ],
      "execution_count": null,
      "outputs": []
    },
    {
      "cell_type": "code",
      "metadata": {
        "colab": {
          "base_uri": "https://localhost:8080/"
        },
        "id": "1jj0BvOyIBTP",
        "outputId": "84a7beff-cb83-4013-efe0-44884b75562b"
      },
      "source": [
        "tweets_pt_themed_df.value_counts(\"sentiment\")"
      ],
      "execution_count": null,
      "outputs": [
        {
          "output_type": "execute_result",
          "data": {
            "text/plain": [
              "sentiment\n",
              "Positivo    32744\n",
              "Negativo    28847\n",
              "dtype: int64"
            ]
          },
          "metadata": {
            "tags": []
          },
          "execution_count": 30
        }
      ]
    },
    {
      "cell_type": "code",
      "metadata": {
        "id": "yoDYS3rzIFY9"
      },
      "source": [
        "# mapeia a categorização de sentimentos para 0 ou 1\n",
        "sentiment_map = {\n",
        "    \"Negativo\": 0,\n",
        "    \"Positivo\": 1\n",
        "}\n",
        "tweets_pt_themed_df[\"sentiment_binary\"] = tweets_pt_themed_df['sentiment'].map(sentiment_map).fillna(tweets_pt_themed_df['sentiment'])\n"
      ],
      "execution_count": null,
      "outputs": []
    },
    {
      "cell_type": "code",
      "metadata": {
        "colab": {
          "base_uri": "https://localhost:8080/"
        },
        "id": "GUw1tTbEIM_T",
        "outputId": "e6efc53f-d0d1-4fbe-a5f9-0de14204dfee"
      },
      "source": [
        "imdb_pt_df.value_counts(\"sentiment\")"
      ],
      "execution_count": null,
      "outputs": [
        {
          "output_type": "execute_result",
          "data": {
            "text/plain": [
              "sentiment\n",
              "neg    24765\n",
              "pos    24694\n",
              "dtype: int64"
            ]
          },
          "metadata": {
            "tags": []
          },
          "execution_count": 32
        }
      ]
    },
    {
      "cell_type": "code",
      "metadata": {
        "id": "2dvjX7rxIQvy"
      },
      "source": [
        "# mapeia a categorização de sentimentos para 0 ou 1\n",
        "sentiment_map = {\n",
        "    \"neg\": 0,\n",
        "    \"pos\": 1\n",
        "}\n",
        "imdb_pt_df[\"sentiment_binary\"] = imdb_pt_df['sentiment'].map(sentiment_map).fillna(imdb_pt_df['sentiment'])\n"
      ],
      "execution_count": null,
      "outputs": []
    },
    {
      "cell_type": "code",
      "metadata": {
        "colab": {
          "base_uri": "https://localhost:8080/"
        },
        "id": "cuOz9PsAIXiJ",
        "outputId": "2aa0535e-c9c6-47ac-9dcd-9cb90b1d92fa"
      },
      "source": [
        "tweets_rfb_classificados_df.value_counts(\"sentiment\")"
      ],
      "execution_count": null,
      "outputs": [
        {
          "output_type": "execute_result",
          "data": {
            "text/plain": [
              "sentiment\n",
              "0    604\n",
              "1    434\n",
              "dtype: int64"
            ]
          },
          "metadata": {
            "tags": []
          },
          "execution_count": 34
        }
      ]
    },
    {
      "cell_type": "code",
      "metadata": {
        "id": "hpmPejyrJ0pQ"
      },
      "source": [
        "# como os tweets RFB já estão no padrão desejado, apenas cria-se a mesma\n",
        "# coluna 'sentiment_binary' com os dados\n",
        "tweets_rfb_classificados_df[\"sentiment_binary\"] = tweets_rfb_classificados_df[\"sentiment\"]"
      ],
      "execution_count": null,
      "outputs": []
    },
    {
      "cell_type": "markdown",
      "metadata": {
        "id": "ZHbc5bGsIjB2"
      },
      "source": [
        "## 3.4. Junção dos datasets, remoção de valores duplicados e balanceamento\n",
        "\n",
        "Com as colunas em comum apresentando o mesmo nome, foi possível juntar os diversos datasets utilizando o método append. Nesse passo ainda não foram incluídos os dados dos “tweets classificados RFB”, pois, com a intenção de não perder nenhum dado dessa classificação, esse dataset será incluído após o balanceamento do dataset gerado a partir da união dos datasets do Kaggle (dataset combinado)."
      ]
    },
    {
      "cell_type": "code",
      "metadata": {
        "id": "mxrurLi6IdmX"
      },
      "source": [
        "# junta os datasets, exceto o \"Tweets classificados RFB\"\n",
        "total_df = tweets_pt_no_theme_df.append(\n",
        "    tweets_pt_themed_df, ignore_index=True, sort=False\n",
        ")\n",
        "total_df = total_df.append(tweets_mg_df, ignore_index=True, sort=False)\n",
        "total_df = total_df.append(imdb_pt_df, ignore_index=True, sort=False)\n"
      ],
      "execution_count": null,
      "outputs": []
    },
    {
      "cell_type": "markdown",
      "metadata": {
        "id": "-AZKzzciLRyh"
      },
      "source": [
        "Uma das principais preocupações quando se trabalha com aprendizado de máquina é evitar a contaminação dos dados de teste com dados do conjunto de treinamento. Como será a partir dos textos desse dataset combinado que se extrairão as features utilizadas para os modelos de aprendizado de máquina, são eliminados os textos em duplicidade."
      ]
    },
    {
      "cell_type": "code",
      "metadata": {
        "colab": {
          "base_uri": "https://localhost:8080/"
        },
        "id": "gDJdXgpSKpZZ",
        "outputId": "045e7d9d-7fd8-4493-c48b-14e92b5ecbc7"
      },
      "source": [
        "tweets_rfb_classificados_df = tweets_rfb_classificados_df.drop_duplicates(subset =\"text\")\n",
        "total_df = total_df.drop_duplicates(subset =\"text\")\n",
        "\n",
        "print(\"Valores duplicados: {}\".format(\n",
        "    len(total_df) - total_df.nunique()[\"text\"]\n",
        "))"
      ],
      "execution_count": null,
      "outputs": [
        {
          "output_type": "stream",
          "text": [
            "Valores duplicados: 0\n"
          ],
          "name": "stdout"
        }
      ]
    },
    {
      "cell_type": "markdown",
      "metadata": {
        "id": "XNQB6ZPwMPeA"
      },
      "source": [
        "Por fim, verifica-se se o dataset está balanceado:\n"
      ]
    },
    {
      "cell_type": "code",
      "metadata": {
        "colab": {
          "base_uri": "https://localhost:8080/"
        },
        "id": "6nnnjYI6KxlH",
        "outputId": "b6a5caf5-81d2-4663-85a7-787e72b7b349"
      },
      "source": [
        "total_df.value_counts(\"sentiment_binary\")"
      ],
      "execution_count": null,
      "outputs": [
        {
          "output_type": "execute_result",
          "data": {
            "text/plain": [
              "sentiment_binary\n",
              "0    566448\n",
              "1    313109\n",
              "dtype: int64"
            ]
          },
          "metadata": {
            "tags": []
          },
          "execution_count": 38
        }
      ]
    },
    {
      "cell_type": "markdown",
      "metadata": {
        "id": "CbMaeWAHUyQP"
      },
      "source": [
        "O dataset combinado possuía sentimentos negativos em número diferente do de sentimentos positivos (566.448 classificados como negativo e 313.109 classificados como positivo). Esse dataset veio de problemas relacionados, mas não iguais ao problema alvo. Assim, não temos porque esperar que a proporção entre os sentimentos expressos seja igual ou mesmo parecida com a do problema alvo. Preferimos, então, balancear o conjunto e reduzir esse efeito."
      ]
    },
    {
      "cell_type": "code",
      "metadata": {
        "colab": {
          "base_uri": "https://localhost:8080/"
        },
        "id": "Am0MdSxwMWdb",
        "outputId": "eb4556fc-f399-4ac1-f63a-20827e0eeed6"
      },
      "source": [
        "# Para o dataset desbalanceado agrupa-se pela coluna\n",
        "# que se deseja balancear\n",
        "grouped = total_df.groupby('sentiment_binary')\n",
        "# Pega-se aleatoriamente de todos os grupos do agrupamento \n",
        "# em quantidade igual ao tamanho do menor grupo existente,\n",
        "# resetando o índice\n",
        "balanced_df = pd.DataFrame(\n",
        "    grouped.apply(\n",
        "        lambda x: x.sample(grouped.size().min(), random_state=random_state\n",
        ").reset_index(drop=True))).reset_index(drop=True)\n",
        "\n",
        "# Verifica-se se está balanceado\n",
        "balanced_df['sentiment_binary'].value_counts()"
      ],
      "execution_count": null,
      "outputs": [
        {
          "output_type": "execute_result",
          "data": {
            "text/plain": [
              "1    313109\n",
              "0    313109\n",
              "Name: sentiment_binary, dtype: int64"
            ]
          },
          "metadata": {
            "tags": []
          },
          "execution_count": 39
        }
      ]
    },
    {
      "cell_type": "markdown",
      "metadata": {
        "id": "ArEY3dewVCva"
      },
      "source": [
        "Por fim, acrescentou-se o dataset de “tweets classificados RFB” gerando o dataset que será trabalhado nos passos seguintes."
      ]
    },
    {
      "cell_type": "code",
      "metadata": {
        "id": "8ZPEluCkNnNm"
      },
      "source": [
        "# Acrescenta os tweets enviados para a RFB\n",
        "balanced_df = balanced_df.append(tweets_rfb_classificados_df)\n",
        "# Embaralha-se o dataset\n",
        "balanced_df = balanced_df.sample(frac=1, random_state=random_state)"
      ],
      "execution_count": null,
      "outputs": []
    },
    {
      "cell_type": "code",
      "metadata": {
        "id": "GnvCLdkbjzVy"
      },
      "source": [
        "balanced_df = balanced_df.drop(\"sentiment\", axis=1)"
      ],
      "execution_count": null,
      "outputs": []
    },
    {
      "cell_type": "code",
      "metadata": {
        "colab": {
          "base_uri": "https://localhost:8080/",
          "height": 360
        },
        "id": "1YoN8A10ZDnR",
        "outputId": "f7fa5f11-28af-4002-9417-2df0183254ff"
      },
      "source": [
        "balanced_df = balanced_df.astype({\"created_at\": \"datetime64\"})\n",
        "show_columns_details(balanced_df)\n",
        "balanced_df.sample(5, random_state=random_state)"
      ],
      "execution_count": null,
      "outputs": [
        {
          "output_type": "display_data",
          "data": {
            "text/html": [
              "<div>\n",
              "<style scoped>\n",
              "    .dataframe tbody tr th:only-of-type {\n",
              "        vertical-align: middle;\n",
              "    }\n",
              "\n",
              "    .dataframe tbody tr th {\n",
              "        vertical-align: top;\n",
              "    }\n",
              "\n",
              "    .dataframe thead th {\n",
              "        text-align: right;\n",
              "    }\n",
              "</style>\n",
              "<table border=\"1\" class=\"dataframe\">\n",
              "  <thead>\n",
              "    <tr style=\"text-align: right;\">\n",
              "      <th></th>\n",
              "      <th>dtype</th>\n",
              "      <th>total</th>\n",
              "      <th>unique</th>\n",
              "      <th>non-NA</th>\n",
              "      <th>NA</th>\n",
              "    </tr>\n",
              "  </thead>\n",
              "  <tbody>\n",
              "    <tr>\n",
              "      <th>created_at</th>\n",
              "      <td>datetime64[ns]</td>\n",
              "      <td>627167</td>\n",
              "      <td>510209</td>\n",
              "      <td>589232</td>\n",
              "      <td>37935</td>\n",
              "    </tr>\n",
              "    <tr>\n",
              "      <th>text</th>\n",
              "      <td>object</td>\n",
              "      <td>627167</td>\n",
              "      <td>627167</td>\n",
              "      <td>627167</td>\n",
              "      <td>0</td>\n",
              "    </tr>\n",
              "    <tr>\n",
              "      <th>origin</th>\n",
              "      <td>object</td>\n",
              "      <td>627167</td>\n",
              "      <td>4</td>\n",
              "      <td>627167</td>\n",
              "      <td>0</td>\n",
              "    </tr>\n",
              "    <tr>\n",
              "      <th>sentiment_binary</th>\n",
              "      <td>int64</td>\n",
              "      <td>627167</td>\n",
              "      <td>2</td>\n",
              "      <td>627167</td>\n",
              "      <td>0</td>\n",
              "    </tr>\n",
              "  </tbody>\n",
              "</table>\n",
              "</div>"
            ],
            "text/plain": [
              "                           dtype   total  unique  non-NA     NA\n",
              "created_at        datetime64[ns]  627167  510209  589232  37935\n",
              "text                      object  627167  627167  627167      0\n",
              "origin                    object  627167       4  627167      0\n",
              "sentiment_binary           int64  627167       2  627167      0"
            ]
          },
          "metadata": {
            "tags": []
          }
        },
        {
          "output_type": "execute_result",
          "data": {
            "text/html": [
              "<div>\n",
              "<style scoped>\n",
              "    .dataframe tbody tr th:only-of-type {\n",
              "        vertical-align: middle;\n",
              "    }\n",
              "\n",
              "    .dataframe tbody tr th {\n",
              "        vertical-align: top;\n",
              "    }\n",
              "\n",
              "    .dataframe thead th {\n",
              "        text-align: right;\n",
              "    }\n",
              "</style>\n",
              "<table border=\"1\" class=\"dataframe\">\n",
              "  <thead>\n",
              "    <tr style=\"text-align: right;\">\n",
              "      <th></th>\n",
              "      <th>created_at</th>\n",
              "      <th>text</th>\n",
              "      <th>origin</th>\n",
              "      <th>sentiment_binary</th>\n",
              "    </tr>\n",
              "  </thead>\n",
              "  <tbody>\n",
              "    <tr>\n",
              "      <th>482771</th>\n",
              "      <td>2018-08-15 20:17:07</td>\n",
              "      <td>há gente mesmo gira e depois existo eu... um a...</td>\n",
              "      <td>tweets_pt</td>\n",
              "      <td>1</td>\n",
              "    </tr>\n",
              "    <tr>\n",
              "      <th>329373</th>\n",
              "      <td>2018-09-05 17:23:06</td>\n",
              "      <td>https://t.co/BfglLrD6ZH Venha se deliciar comi...</td>\n",
              "      <td>tweets_pt</td>\n",
              "      <td>1</td>\n",
              "    </tr>\n",
              "    <tr>\n",
              "      <th>368168</th>\n",
              "      <td>NaT</td>\n",
              "      <td>Eu me tornei um grande fã do trabalho de Barbe...</td>\n",
              "      <td>imdb_pt</td>\n",
              "      <td>1</td>\n",
              "    </tr>\n",
              "    <tr>\n",
              "      <th>281027</th>\n",
              "      <td>NaT</td>\n",
              "      <td>Alguns podem zombar, mas há realmente uma arte...</td>\n",
              "      <td>imdb_pt</td>\n",
              "      <td>0</td>\n",
              "    </tr>\n",
              "    <tr>\n",
              "      <th>443813</th>\n",
              "      <td>2018-10-08 12:58:49</td>\n",
              "      <td>ha tem mais :) mas so muito grato a deus por t...</td>\n",
              "      <td>tweets_pt</td>\n",
              "      <td>1</td>\n",
              "    </tr>\n",
              "  </tbody>\n",
              "</table>\n",
              "</div>"
            ],
            "text/plain": [
              "                created_at  ... sentiment_binary\n",
              "482771 2018-08-15 20:17:07  ...                1\n",
              "329373 2018-09-05 17:23:06  ...                1\n",
              "368168                 NaT  ...                1\n",
              "281027                 NaT  ...                0\n",
              "443813 2018-10-08 12:58:49  ...                1\n",
              "\n",
              "[5 rows x 4 columns]"
            ]
          },
          "metadata": {
            "tags": []
          },
          "execution_count": 42
        }
      ]
    },
    {
      "cell_type": "markdown",
      "metadata": {
        "id": "Pos3t1pMsXor"
      },
      "source": [
        "# 4. Análise e exploração dos dados\n",
        "\n",
        "Como esse trabalho tem como foco a classificação do sentimento observado em um determinado texto, são utilizadas diversas técnicas de processamento de linguagem natural (NLP) em conjunto com outras técnicas de manipulação de strings."
      ]
    },
    {
      "cell_type": "markdown",
      "metadata": {
        "id": "kCepHPZFTUXM"
      },
      "source": [
        "## 4.1. Análise de emojis\n",
        "\n",
        "\n",
        "Percebe-se que o texto de internet costuma conter muitos emojis (pequenas imagens geralmente representadas por um ou dois caracteres na string. Como os emojis podem representar sentimentos antagônicos como raiva e alegria, choro ou risadas, é importante se manter os emojis para o processo de classificação. Para isso se levantaram quais os emojis mais utilizados, gerando um simples dicionário para traduzir esses emojis para palavras. O corpus utilizado nesse caso foi apenas do dataset “tweets RFB”, que é o foco do trabalho. Os códigos Unicode dos emojis foram consultados no site https://unicode.org/emoji/charts/full-emoji-list.html, acessado em 09/03/2021.\n",
        "\n"
      ]
    },
    {
      "cell_type": "code",
      "metadata": {
        "colab": {
          "base_uri": "https://localhost:8080/",
          "height": 120
        },
        "id": "k2G5HlpLX41J",
        "outputId": "c7045096-21c0-450d-e59f-878e9220b0c4"
      },
      "source": [
        "import re\n",
        "\n",
        "def get_emojis(text_array):\n",
        "  text = \"\".join(text_array)\n",
        "  text = re.sub(r'[\\U00000000-\\U000020FF\\U0000FE0F]', \"\", text)\n",
        "  text = re.sub(r'[\\U0001F3FB-\\U0001F3FF]', \"\", text) # remove skin tone\n",
        "  text = re.sub(r'[\\u2640\\u2642]', \"\", text) # remove definição de gênero\n",
        "  \n",
        "  text = re.sub(r'[\\r\\n]', \"\", text)\n",
        "  return re.sub(r'\\s*', \"\", text)\n",
        "\n",
        "# Pega os emojis da coluna \"text\" de todo o dataset RFB,\n",
        "# incluso os tweets não clasificados\n",
        "emojis = get_emojis(tweets_rfb_df[\"text\"])\n",
        "emojis"
      ],
      "execution_count": null,
      "outputs": [
        {
          "output_type": "execute_result",
          "data": {
            "application/vnd.google.colaboratory.intrinsic+json": {
              "type": "string"
            },
            "text/plain": [
              "'🥺😭👇👇🧚🧚🧛🧛🧜🧜🧝🧝🧞🧞🧟🧟🤔👇👏👏👏👏😒👎🤧💔😭😭😭🙈🙉🙊😡😡😑😅❤😡😡😡😡🚨🤦🎥😭🖕🖕😡😭😭😭😭😭😭😭🥺😭👇⬇⬇🇧🇷🕵🖋😴😴😴☕🇧🇷🕵🖋🤔💥💥💥💥💥💥💥💥💣💣💣💣💣💥💥💣💲💲💲💣💥💥💣💲🐀💲💣💥💥💣💲💲💲💣💥💥💣💣💣💣💣💥💥💥💥💥💥💥💥⤵⤵⤵⤵⤵⤵🤔🤔🤔🎯☑👇💸💰💰😢🤦😭😭😭🥺👏👏👏📦🇧🇷👏🤡😋🍷🙏🇧🇷🇧🇷👍❓❓👇👇👇👇👇👇👇😂🔴🌑👀🚢🇧🇷⚓🇪🇸⚠⚠⚠⚠⚠⚠🏦🇧🇷🕵🖋🇧🇷🕵🖋😔🙏🎈🎈👏👏👏🤬🇧🇷🇧🇷🇧🇷🇧🇷🇧🇷🇧🇷👏👏👏💯💯💯🙏🙏💪🇧🇷🇧🇷🇧🇷🇧🇷🇧🇷🇧🇷🇧🇷🇧🇷💯💯💯💯🇧🇷🇧🇷🇧🇷🇧🇷👏👏👏❓👏👏👏👏🤔👀😩😩😩😩🚶👏👏👏👏♥🐯💪👏👏👏👏👏👏👏👏👏👏👏👏👏👏👏👏👏👏👏👏👏👏👏👏👏👏👏👏👏👏👏👏👏👏👏👏👏👏👏👏👏👏👏👏👏👏👏👏👏👏👏😭😭😭😭😭🤔😤😤😤🇧🇷🕵🖋🇧🇷🕵🖋🇧🇷🕵🖋🇧🇷🕵🖋🇧🇷🕵🖋🤣😔😭😭😭😭😭❓❓🤔👉👀🤔😢👇🙏🛑🛑🛑🛑🛑🛑🛑🛑🛑👏👏👏👏😎🤚😁😩😢🤢🤮💪🇧🇷👍👏🙏🙏🙏🙏⋅😁👍💪🤓🧙✌🇧🇷🕵🖋👏👏👏👏👏👏👏👇👇👇👇👏👏👏👏👏👏😡🙁🙈🙊🙉👏👏👏🇧🇷👏👏👏👊🇧🇷👏👏👏✅🇧🇷😭💔👏😒👍🙏👍🙂👏👏👏✅👍🌷👏👏👏👍👍👍👍👍👍🇧🇷👍🤩🇧🇷👍🤝👏👏👏👏👏🇧🇷🇧🇷🇧🇷🇧🇷👇👇👇👇👇😡😡😡😡😡😡😡😡😡🚢🇧🇷🇧🇪🇪🇺👍😠😠😂😂😂😂😂🚢🇧🇷📦🇧🇪🇪🇺👮👏👏👏👌💪🇧🇷🙏😡🇧🇷🕵🖋😜👇🔎🤔😍👏❤📚📝🙏🙏🙊💵🙉💴🙈💷😉👉👈😍😱😱😱😉▶📷😭😭😭😭👇👍🥰🇧🇷🕵🖋➺👍👍🤔👏👏👏🙏🙏🙏🇧🇷🇧🇷🇧🇷👇👇🤡🤡🤡🤡👉👈😡🤣😂👉👏👏👏👏👍😱🔥🔥🙏👏🙏🙏🙏🇧🇷👏🇪🇺🚢🇧🇷👏👏👏👏😔👏👏🇧🇷🇧🇷👇👇🦁📲👏👏👏👏😤😏👏👏👏🤔👏👏👏🇧🇷🇧🇷🇧🇷🇧🇷⚡⚡⚡⚡😂🤔🙄🙄👀👇👏👏👍😔🤔😓😭😠😠👏👏👏👏👏👏👏🇧🇷🇧🇷🇧🇷🇧🇷🇧🇷🇧🇷👍👊🇧🇷🥰🥰🥰😠👏👏👏👏ー👏🤷ー😠😤😤😤🤔😡😡👏👏🧐🙏✌😙👏👏👏👏👏👏👊👊👊👊👏👏👏❗👇🤣🤣🤣👏👏👏⏬⏬😘🙏🤔👏👏👏👏👏👏👏👏👏👏👍🤔👍🇧🇷👏👏👏👏👏👏👏🇧🇷👏👏👏🇧🇷👏👏👏👏🇨🇳🤔😐🙏🙏👏👏👏🚨👇🤯🙆😬😬😬😬😬🙏😭⚠⚠⚠🆘👍🙌🙏🤣🤣🤣🤣🤣🤣🇧🇷🇧🇷🇧🇷🚨👇🦁🤑🇧🇷👀👀✌✌✌✌⚠⚠💕💕💕🤔🤔🤔🇧🇷🕵🖋🙏🙏😭🙏👍👉🇧🇷😂🤣🤣🇧🇷🕵🖋😰😱🎉🎈➡🇧🇷🕵🖋🇧🇷🕵🖋⬇👇⬇😞😡🇧🇷🇧🇷🙌🙌🙏🙏🙏🙏┏━━┓┏━━┓┏━━┓┏━━┓┗━┓┃┃┏┓┃┗━┓┃┃┏┓┃┏━┛┃┃┃┃┃┏━┛┃┃┃┃┃┃┏━┛┃┃┃┃┃┏━┛┃┃┃┃┃┗━┓┃┗┛┃┃┗━┓┃┗┛┃┗━━┛┗━━┛┗━━┛┗━━┛👏👏👏👏👏👏👏👏👏👏👏😰😏👇👁👁👏👏👏🌷✅💩💩💩👏👏😉☹😡👏👏👏👏👏👏👏😲🤑👺🙏😘😘😘👏👏👏👏👏👏👏🇧🇷🇧🇷😭😭😭😭🖥😲😲😡😢🇧🇷😎👏👏👏😔😲🤔👊😋💩👊🇧🇷🦅👏👏👏👏👏👏🚨👏👏👏👏😌😱😱😱😱👏👏👏👏🇧🇷🇧🇷😎🤯👏❤❤🇧🇷🇧🇷😍❤🇧🇷🇧🇷👏👏👏👏👏🇧🇷😢😢😡😡💩🤹🧐🧐🧐🧐😟😔💔👎👏👏👏👏👏👏👏🇧🇷💚😂🤣🙏🤐☹😭🙏🙄🙄🙄🙏🤣🤣🤣😔🤔👏👏➡💰🐂👇🤨🇧🇷😂😂😂👏👏👏🙋👍➡💻🤔🇧🇷🔛🇺🇸❤❤👇👇👇👍✌👁👁👁🙏🙏🙏💰💲💲🤔🤔🤔🥚🚬🤔🤔🤔😱😱😱😱😱👇👇👇👇👁👁👁👇👇👁👁👇👇👁👁👇👇👇👁👁👁👇👇👇👁👁👁🇧🇷👇👇👇👁👁👁👇👇👁👁👁👁👁👁👇👇👇🇧🇷🤡🤡🤡🤡🤡🤡🤡🤡🙏😡👇👇👇👀👀😐🇧🇷📷👇👇👇👇👇👀📱🙂👇👇👇👇👇👇😒😡🇧🇷🇬🇧😔😔😔😒😒😒😒👀😡☢☣✝📡🇧🇷🙄💔❗😔🇧🇷😔🙏🇧🇷👇👇👇👇👇🤔⤵🤔🤔👀😂😂😂😂😂😂😂😂😂😂😂😂😂😂😂👏😂😵😃😎💩💩💩🤔🤔🤔😕😡😡😡😡👉🙄🤫🤫👇👇🤔🤔🤔👇👇👇👇👇👇👇👇👇👇👇👇👇👇👇👇👇👇👇👇👇👇👇👇👇👇👇🌎😂😂😂😂😂😂😂😂😁👇😡😡😡👑👇👇😓👏👏👏👏📱🃏🤔🤔🤔💻👇🤔🙄🙄😬❓❓❓🇵🇾🇧🇷👊😣😣😣😠😎😎😎😎👏👏👏😢😢🖕🦁🤔❓❓❓❓❓❓😥🇧🇷😭😭😭→😉😍👏👏👏😄😄😄😫😫😡😡😡🃏😇😇😇😇😇😱🇧🇷💰💰💰💰💰💰💰💰💰🇧🇷😱😱😱😱😱😱😱🇧🇷💰💰💰💰💰💰💰💰💰🇧🇷→🤔❓❓❓👏👏👏👏👏👏→😡🌷👇💰🤔🤔🤔🤔🤔❓😬🇧🇷🦁👉💰😠😠😠😠😡😕✌🤔🖕👏👏👏👏👏👏👏👏👏👏👏👏👏👏👏👏👏👏🇧🇷🇧🇷🇧🇷💚💛💙💪👏👏👏🇧🇷🇧🇷🇧🇷💚💛💙💪👏👏👍👍😡😀😀😠😠😭😔👉🐴，，。，，😠😠🤑🤑👁🦁💸🤑➡👉❤➡💖😉👇👇😡😡😡😡👇😠👍👍👍👏👏👏😟😠😡😕😣😔😑👍👏🇧🇷🇧🇷🇧🇷🤔🤔😎🇧🇷💗😎👊😠😮🐀🐀🐀😕➡😊😧👇💣🔫😬😬😬😬😬😬😈😮👉✌💰💰💰💰👊🗽💸💸💸💸💸💸💸💸💀→'"
            ]
          },
          "metadata": {
            "tags": []
          },
          "execution_count": 43
        }
      ]
    },
    {
      "cell_type": "markdown",
      "metadata": {
        "id": "rBRwhgSzXGsl"
      },
      "source": [
        "Na sequência, determina-se quais os emojis são mais frequentes, gerando um wordcloud.\n"
      ]
    },
    {
      "cell_type": "code",
      "metadata": {
        "colab": {
          "base_uri": "https://localhost:8080/",
          "height": 303
        },
        "id": "FBy850YmYpK4",
        "outputId": "b5b6dd15-6e12-4d54-f33f-c13342d1e868"
      },
      "source": [
        "# gera um dataframe onde cada linha é um emoji\n",
        "emojis_df = pd.DataFrame([char for char in emojis], columns=[\"emojis\"])\n",
        "\n",
        "import wordcloud\n",
        "import matplotlib.pyplot as plt\n",
        "\n",
        "# Gera um Worcloud com a fonte 'Symbola.otf', que desenha emojis, usando como \n",
        "# expressão regular para a palavra qualquer UM caracter.\n",
        "wc = wordcloud.WordCloud(\n",
        "    font_path=\"files/Symbola.otf\", \n",
        "    collocations=False,\n",
        "    regexp = r'.').generate(emojis)\n",
        "plt.figure(figsize=(10,5))\n",
        "plt.imshow(wc)\n",
        "plt.axis(\"off\")\n",
        "plt.show()"
      ],
      "execution_count": null,
      "outputs": [
        {
          "output_type": "display_data",
          "data": {
            "image/png": "[encoded data removed]",
            "text/plain": [
              "<Figure size 720x360 with 1 Axes>"
            ]
          },
          "metadata": {
            "tags": [],
            "needs_background": "light"
          }
        }
      ]
    },
    {
      "cell_type": "markdown",
      "metadata": {
        "id": "noif6QcvfuMZ"
      },
      "source": [
        "Com base nesses emojis, foi gerada uma lista de unigramas com sua frequência observada no corpus e criado, manualmente, o dicionário para tradução tendo como ponto de corte os emojis com frequência acumulada superior a 85%. O método gerado será aplicado mais a frente junto com outras manipulações de string."
      ]
    },
    {
      "cell_type": "code",
      "metadata": {
        "colab": {
          "base_uri": "https://localhost:8080/"
        },
        "id": "MEqeb0ZHcWa_",
        "outputId": "64ec418e-de82-4342-ce1b-77ba3ec67d9d"
      },
      "source": [
        "# Agrupa por emoji e frequencia observada\n",
        "emoji_grouped_df = emojis_df['emojis'].value_counts().reset_index()\n",
        "# Renomeia as colunas\n",
        "emoji_grouped_df.columns = ['emoji', 'counts']\n",
        "# Acrescente o código unicode, para depois gerar o dicionário\n",
        "emoji_grouped_df[\"emoji_utf\"] = emoji_grouped_df[\"emoji\"].str.encode(\"unicode-escape\")\n",
        "\n",
        "# Gera a soma acumulada das frequências\n",
        "emoji_grouped_df[\"freq_ratio\"] = emoji_grouped_df[\"counts\"].cumsum()/emoji_grouped_df[\"counts\"].sum()\n",
        "# Determina o ponto de corte que represente 85% das observações de emoji\n",
        "emoji_grouped_df[emoji_grouped_df[\"freq_ratio\"] < 0.85].info()"
      ],
      "execution_count": null,
      "outputs": [
        {
          "output_type": "stream",
          "text": [
            "<class 'pandas.core.frame.DataFrame'>\n",
            "Int64Index: 53 entries, 0 to 52\n",
            "Data columns (total 4 columns):\n",
            " #   Column      Non-Null Count  Dtype  \n",
            "---  ------      --------------  -----  \n",
            " 0   emoji       53 non-null     object \n",
            " 1   counts      53 non-null     int64  \n",
            " 2   emoji_utf   53 non-null     object \n",
            " 3   freq_ratio  53 non-null     float64\n",
            "dtypes: float64(1), int64(1), object(2)\n",
            "memory usage: 2.1+ KB\n"
          ],
          "name": "stdout"
        }
      ]
    },
    {
      "cell_type": "code",
      "metadata": {
        "colab": {
          "base_uri": "https://localhost:8080/"
        },
        "id": "55xA2cOHfbAa",
        "outputId": "c9a1894b-4a03-4a73-a1c8-f5b55f13f63b"
      },
      "source": [
        "ponto_de_corte = len(emoji_grouped_df[emoji_grouped_df[\"freq_ratio\"] < 0.85])\n",
        "ponto_de_corte"
      ],
      "execution_count": null,
      "outputs": [
        {
          "output_type": "execute_result",
          "data": {
            "text/plain": [
              "53"
            ]
          },
          "metadata": {
            "tags": []
          },
          "execution_count": 46
        }
      ]
    },
    {
      "cell_type": "code",
      "metadata": {
        "colab": {
          "base_uri": "https://localhost:8080/",
          "height": 1000
        },
        "id": "Fb93hLrqbpWt",
        "outputId": "2c035d3f-69da-4ec6-db1c-31289681855e"
      },
      "source": [
        "from matplotlib.font_manager import fontManager, FontProperties\n",
        "fontManager.addfont(path=\"files/Symbola.otf\")\n",
        "prop = FontProperties(fname=\"files/Symbola.otf\")\n",
        "\n",
        "plt.rcParams['font.family'] = prop.get_name()\n",
        "plt.rcParams['axes.unicode_minus']=False\n",
        "\n",
        "import seaborn as sns\n",
        "sns.set(font=prop.get_name())\n",
        "sns.catplot(x=\"counts\", y=\"emoji\", data=emoji_grouped_df.head(ponto_de_corte), kind=\"bar\", height=15)\n"
      ],
      "execution_count": null,
      "outputs": [
        {
          "output_type": "execute_result",
          "data": {
            "text/plain": [
              "<seaborn.axisgrid.FacetGrid at 0x7f27351d4f90>"
            ]
          },
          "metadata": {
            "tags": []
          },
          "execution_count": 47
        },
        {
          "output_type": "display_data",
          "data": {
            "image/png": "[encoded data removed]",
            "text/plain": [
              "<Figure size 1080x1080 with 1 Axes>"
            ]
          },
          "metadata": {
            "tags": []
          }
        }
      ]
    },
    {
      "cell_type": "markdown",
      "metadata": {
        "id": "KfXyg2NZXZs9"
      },
      "source": [
        "Para melhor facilitar a implementação do \"tradutor\", mostra-se esses emojis mais usados como lista:"
      ]
    },
    {
      "cell_type": "code",
      "metadata": {
        "colab": {
          "base_uri": "https://localhost:8080/",
          "height": 1000
        },
        "id": "Qwy03dygXCul",
        "outputId": "c23ab4e9-2cb5-462a-8ad3-11bb9d44d5a8"
      },
      "source": [
        "emoji_grouped_df.head(ponto_de_corte)"
      ],
      "execution_count": null,
      "outputs": [
        {
          "output_type": "execute_result",
          "data": {
            "text/html": [
              "<div>\n",
              "<style scoped>\n",
              "    .dataframe tbody tr th:only-of-type {\n",
              "        vertical-align: middle;\n",
              "    }\n",
              "\n",
              "    .dataframe tbody tr th {\n",
              "        vertical-align: top;\n",
              "    }\n",
              "\n",
              "    .dataframe thead th {\n",
              "        text-align: right;\n",
              "    }\n",
              "</style>\n",
              "<table border=\"1\" class=\"dataframe\">\n",
              "  <thead>\n",
              "    <tr style=\"text-align: right;\">\n",
              "      <th></th>\n",
              "      <th>emoji</th>\n",
              "      <th>counts</th>\n",
              "      <th>emoji_utf</th>\n",
              "      <th>freq_ratio</th>\n",
              "    </tr>\n",
              "  </thead>\n",
              "  <tbody>\n",
              "    <tr>\n",
              "      <th>0</th>\n",
              "      <td>👏</td>\n",
              "      <td>308</td>\n",
              "      <td>b'\\\\U0001f44f'</td>\n",
              "      <td>0.180222</td>\n",
              "    </tr>\n",
              "    <tr>\n",
              "      <th>1</th>\n",
              "      <td>🇧</td>\n",
              "      <td>120</td>\n",
              "      <td>b'\\\\U0001f1e7'</td>\n",
              "      <td>0.250439</td>\n",
              "    </tr>\n",
              "    <tr>\n",
              "      <th>2</th>\n",
              "      <td>🇷</td>\n",
              "      <td>117</td>\n",
              "      <td>b'\\\\U0001f1f7'</td>\n",
              "      <td>0.318900</td>\n",
              "    </tr>\n",
              "    <tr>\n",
              "      <th>3</th>\n",
              "      <td>👇</td>\n",
              "      <td>117</td>\n",
              "      <td>b'\\\\U0001f447'</td>\n",
              "      <td>0.387361</td>\n",
              "    </tr>\n",
              "    <tr>\n",
              "      <th>4</th>\n",
              "      <td>🤔</td>\n",
              "      <td>53</td>\n",
              "      <td>b'\\\\U0001f914'</td>\n",
              "      <td>0.418373</td>\n",
              "    </tr>\n",
              "    <tr>\n",
              "      <th>5</th>\n",
              "      <td>😡</td>\n",
              "      <td>47</td>\n",
              "      <td>b'\\\\U0001f621'</td>\n",
              "      <td>0.445875</td>\n",
              "    </tr>\n",
              "    <tr>\n",
              "      <th>6</th>\n",
              "      <td>😭</td>\n",
              "      <td>43</td>\n",
              "      <td>b'\\\\U0001f62d'</td>\n",
              "      <td>0.471036</td>\n",
              "    </tr>\n",
              "    <tr>\n",
              "      <th>7</th>\n",
              "      <td>🙏</td>\n",
              "      <td>42</td>\n",
              "      <td>b'\\\\U0001f64f'</td>\n",
              "      <td>0.495611</td>\n",
              "    </tr>\n",
              "    <tr>\n",
              "      <th>8</th>\n",
              "      <td>😂</td>\n",
              "      <td>37</td>\n",
              "      <td>b'\\\\U0001f602'</td>\n",
              "      <td>0.517262</td>\n",
              "    </tr>\n",
              "    <tr>\n",
              "      <th>9</th>\n",
              "      <td>👍</td>\n",
              "      <td>33</td>\n",
              "      <td>b'\\\\U0001f44d'</td>\n",
              "      <td>0.536571</td>\n",
              "    </tr>\n",
              "    <tr>\n",
              "      <th>10</th>\n",
              "      <td>┃</td>\n",
              "      <td>32</td>\n",
              "      <td>b'\\\\u2503'</td>\n",
              "      <td>0.555295</td>\n",
              "    </tr>\n",
              "    <tr>\n",
              "      <th>11</th>\n",
              "      <td>💰</td>\n",
              "      <td>28</td>\n",
              "      <td>b'\\\\U0001f4b0'</td>\n",
              "      <td>0.571679</td>\n",
              "    </tr>\n",
              "    <tr>\n",
              "      <th>12</th>\n",
              "      <td>👁</td>\n",
              "      <td>28</td>\n",
              "      <td>b'\\\\U0001f441'</td>\n",
              "      <td>0.588063</td>\n",
              "    </tr>\n",
              "    <tr>\n",
              "      <th>13</th>\n",
              "      <td>━</td>\n",
              "      <td>24</td>\n",
              "      <td>b'\\\\u2501'</td>\n",
              "      <td>0.602106</td>\n",
              "    </tr>\n",
              "    <tr>\n",
              "      <th>14</th>\n",
              "      <td>💥</td>\n",
              "      <td>24</td>\n",
              "      <td>b'\\\\U0001f4a5'</td>\n",
              "      <td>0.616150</td>\n",
              "    </tr>\n",
              "    <tr>\n",
              "      <th>15</th>\n",
              "      <td>😱</td>\n",
              "      <td>22</td>\n",
              "      <td>b'\\\\U0001f631'</td>\n",
              "      <td>0.629023</td>\n",
              "    </tr>\n",
              "    <tr>\n",
              "      <th>16</th>\n",
              "      <td>❓</td>\n",
              "      <td>18</td>\n",
              "      <td>b'\\\\u2753'</td>\n",
              "      <td>0.639555</td>\n",
              "    </tr>\n",
              "    <tr>\n",
              "      <th>17</th>\n",
              "      <td>😠</td>\n",
              "      <td>18</td>\n",
              "      <td>b'\\\\U0001f620'</td>\n",
              "      <td>0.650088</td>\n",
              "    </tr>\n",
              "    <tr>\n",
              "      <th>18</th>\n",
              "      <td>🤣</td>\n",
              "      <td>17</td>\n",
              "      <td>b'\\\\U0001f923'</td>\n",
              "      <td>0.660035</td>\n",
              "    </tr>\n",
              "    <tr>\n",
              "      <th>19</th>\n",
              "      <td>💣</td>\n",
              "      <td>17</td>\n",
              "      <td>b'\\\\U0001f4a3'</td>\n",
              "      <td>0.669982</td>\n",
              "    </tr>\n",
              "    <tr>\n",
              "      <th>20</th>\n",
              "      <td>🖋</td>\n",
              "      <td>16</td>\n",
              "      <td>b'\\\\U0001f58b'</td>\n",
              "      <td>0.679345</td>\n",
              "    </tr>\n",
              "    <tr>\n",
              "      <th>21</th>\n",
              "      <td>🕵</td>\n",
              "      <td>16</td>\n",
              "      <td>b'\\\\U0001f575'</td>\n",
              "      <td>0.688707</td>\n",
              "    </tr>\n",
              "    <tr>\n",
              "      <th>22</th>\n",
              "      <td>😔</td>\n",
              "      <td>14</td>\n",
              "      <td>b'\\\\U0001f614'</td>\n",
              "      <td>0.696899</td>\n",
              "    </tr>\n",
              "    <tr>\n",
              "      <th>23</th>\n",
              "      <td>😬</td>\n",
              "      <td>13</td>\n",
              "      <td>b'\\\\U0001f62c'</td>\n",
              "      <td>0.704506</td>\n",
              "    </tr>\n",
              "    <tr>\n",
              "      <th>24</th>\n",
              "      <td>🤡</td>\n",
              "      <td>13</td>\n",
              "      <td>b'\\\\U0001f921'</td>\n",
              "      <td>0.712112</td>\n",
              "    </tr>\n",
              "    <tr>\n",
              "      <th>25</th>\n",
              "      <td>⚠</td>\n",
              "      <td>11</td>\n",
              "      <td>b'\\\\u26a0'</td>\n",
              "      <td>0.718549</td>\n",
              "    </tr>\n",
              "    <tr>\n",
              "      <th>26</th>\n",
              "      <td>👀</td>\n",
              "      <td>11</td>\n",
              "      <td>b'\\\\U0001f440'</td>\n",
              "      <td>0.724985</td>\n",
              "    </tr>\n",
              "    <tr>\n",
              "      <th>27</th>\n",
              "      <td>👊</td>\n",
              "      <td>11</td>\n",
              "      <td>b'\\\\U0001f44a'</td>\n",
              "      <td>0.731422</td>\n",
              "    </tr>\n",
              "    <tr>\n",
              "      <th>28</th>\n",
              "      <td>┗</td>\n",
              "      <td>10</td>\n",
              "      <td>b'\\\\u2517'</td>\n",
              "      <td>0.737273</td>\n",
              "    </tr>\n",
              "    <tr>\n",
              "      <th>29</th>\n",
              "      <td>┏</td>\n",
              "      <td>10</td>\n",
              "      <td>b'\\\\u250f'</td>\n",
              "      <td>0.743125</td>\n",
              "    </tr>\n",
              "    <tr>\n",
              "      <th>30</th>\n",
              "      <td>💲</td>\n",
              "      <td>10</td>\n",
              "      <td>b'\\\\U0001f4b2'</td>\n",
              "      <td>0.748976</td>\n",
              "    </tr>\n",
              "    <tr>\n",
              "      <th>31</th>\n",
              "      <td>😎</td>\n",
              "      <td>10</td>\n",
              "      <td>b'\\\\U0001f60e'</td>\n",
              "      <td>0.754827</td>\n",
              "    </tr>\n",
              "    <tr>\n",
              "      <th>32</th>\n",
              "      <td>┓</td>\n",
              "      <td>10</td>\n",
              "      <td>b'\\\\u2513'</td>\n",
              "      <td>0.760679</td>\n",
              "    </tr>\n",
              "    <tr>\n",
              "      <th>33</th>\n",
              "      <td>┛</td>\n",
              "      <td>10</td>\n",
              "      <td>b'\\\\u251b'</td>\n",
              "      <td>0.766530</td>\n",
              "    </tr>\n",
              "    <tr>\n",
              "      <th>34</th>\n",
              "      <td>👉</td>\n",
              "      <td>10</td>\n",
              "      <td>b'\\\\U0001f449'</td>\n",
              "      <td>0.772382</td>\n",
              "    </tr>\n",
              "    <tr>\n",
              "      <th>35</th>\n",
              "      <td>💸</td>\n",
              "      <td>10</td>\n",
              "      <td>b'\\\\U0001f4b8'</td>\n",
              "      <td>0.778233</td>\n",
              "    </tr>\n",
              "    <tr>\n",
              "      <th>36</th>\n",
              "      <td>✌</td>\n",
              "      <td>9</td>\n",
              "      <td>b'\\\\u270c'</td>\n",
              "      <td>0.783499</td>\n",
              "    </tr>\n",
              "    <tr>\n",
              "      <th>37</th>\n",
              "      <td>🙄</td>\n",
              "      <td>9</td>\n",
              "      <td>b'\\\\U0001f644'</td>\n",
              "      <td>0.788765</td>\n",
              "    </tr>\n",
              "    <tr>\n",
              "      <th>38</th>\n",
              "      <td>🛑</td>\n",
              "      <td>9</td>\n",
              "      <td>b'\\\\U0001f6d1'</td>\n",
              "      <td>0.794032</td>\n",
              "    </tr>\n",
              "    <tr>\n",
              "      <th>39</th>\n",
              "      <td>💩</td>\n",
              "      <td>8</td>\n",
              "      <td>b'\\\\U0001f4a9'</td>\n",
              "      <td>0.798713</td>\n",
              "    </tr>\n",
              "    <tr>\n",
              "      <th>40</th>\n",
              "      <td>❤</td>\n",
              "      <td>8</td>\n",
              "      <td>b'\\\\u2764'</td>\n",
              "      <td>0.803394</td>\n",
              "    </tr>\n",
              "    <tr>\n",
              "      <th>41</th>\n",
              "      <td>😢</td>\n",
              "      <td>8</td>\n",
              "      <td>b'\\\\U0001f622'</td>\n",
              "      <td>0.808075</td>\n",
              "    </tr>\n",
              "    <tr>\n",
              "      <th>42</th>\n",
              "      <td>😒</td>\n",
              "      <td>7</td>\n",
              "      <td>b'\\\\U0001f612'</td>\n",
              "      <td>0.812171</td>\n",
              "    </tr>\n",
              "    <tr>\n",
              "      <th>43</th>\n",
              "      <td>⤵</td>\n",
              "      <td>7</td>\n",
              "      <td>b'\\\\u2935'</td>\n",
              "      <td>0.816267</td>\n",
              "    </tr>\n",
              "    <tr>\n",
              "      <th>44</th>\n",
              "      <td>💪</td>\n",
              "      <td>7</td>\n",
              "      <td>b'\\\\U0001f4aa'</td>\n",
              "      <td>0.820363</td>\n",
              "    </tr>\n",
              "    <tr>\n",
              "      <th>45</th>\n",
              "      <td>😤</td>\n",
              "      <td>7</td>\n",
              "      <td>b'\\\\U0001f624'</td>\n",
              "      <td>0.824459</td>\n",
              "    </tr>\n",
              "    <tr>\n",
              "      <th>46</th>\n",
              "      <td>💯</td>\n",
              "      <td>7</td>\n",
              "      <td>b'\\\\U0001f4af'</td>\n",
              "      <td>0.828555</td>\n",
              "    </tr>\n",
              "    <tr>\n",
              "      <th>47</th>\n",
              "      <td>🇪</td>\n",
              "      <td>6</td>\n",
              "      <td>b'\\\\U0001f1ea'</td>\n",
              "      <td>0.832066</td>\n",
              "    </tr>\n",
              "    <tr>\n",
              "      <th>48</th>\n",
              "      <td>➡</td>\n",
              "      <td>6</td>\n",
              "      <td>b'\\\\u27a1'</td>\n",
              "      <td>0.835576</td>\n",
              "    </tr>\n",
              "    <tr>\n",
              "      <th>49</th>\n",
              "      <td>🤑</td>\n",
              "      <td>5</td>\n",
              "      <td>b'\\\\U0001f911'</td>\n",
              "      <td>0.838502</td>\n",
              "    </tr>\n",
              "    <tr>\n",
              "      <th>50</th>\n",
              "      <td>😇</td>\n",
              "      <td>5</td>\n",
              "      <td>b'\\\\U0001f607'</td>\n",
              "      <td>0.841428</td>\n",
              "    </tr>\n",
              "    <tr>\n",
              "      <th>51</th>\n",
              "      <td>🧐</td>\n",
              "      <td>5</td>\n",
              "      <td>b'\\\\U0001f9d0'</td>\n",
              "      <td>0.844353</td>\n",
              "    </tr>\n",
              "    <tr>\n",
              "      <th>52</th>\n",
              "      <td>🦁</td>\n",
              "      <td>5</td>\n",
              "      <td>b'\\\\U0001f981'</td>\n",
              "      <td>0.847279</td>\n",
              "    </tr>\n",
              "  </tbody>\n",
              "</table>\n",
              "</div>"
            ],
            "text/plain": [
              "   emoji  counts       emoji_utf  freq_ratio\n",
              "0      👏     308  b'\\\\U0001f44f'    0.180222\n",
              "1      🇧     120  b'\\\\U0001f1e7'    0.250439\n",
              "2      🇷     117  b'\\\\U0001f1f7'    0.318900\n",
              "3      👇     117  b'\\\\U0001f447'    0.387361\n",
              "4      🤔      53  b'\\\\U0001f914'    0.418373\n",
              "5      😡      47  b'\\\\U0001f621'    0.445875\n",
              "6      😭      43  b'\\\\U0001f62d'    0.471036\n",
              "7      🙏      42  b'\\\\U0001f64f'    0.495611\n",
              "8      😂      37  b'\\\\U0001f602'    0.517262\n",
              "9      👍      33  b'\\\\U0001f44d'    0.536571\n",
              "10     ┃      32      b'\\\\u2503'    0.555295\n",
              "11     💰      28  b'\\\\U0001f4b0'    0.571679\n",
              "12     👁      28  b'\\\\U0001f441'    0.588063\n",
              "13     ━      24      b'\\\\u2501'    0.602106\n",
              "14     💥      24  b'\\\\U0001f4a5'    0.616150\n",
              "15     😱      22  b'\\\\U0001f631'    0.629023\n",
              "16     ❓      18      b'\\\\u2753'    0.639555\n",
              "17     😠      18  b'\\\\U0001f620'    0.650088\n",
              "18     🤣      17  b'\\\\U0001f923'    0.660035\n",
              "19     💣      17  b'\\\\U0001f4a3'    0.669982\n",
              "20     🖋      16  b'\\\\U0001f58b'    0.679345\n",
              "21     🕵      16  b'\\\\U0001f575'    0.688707\n",
              "22     😔      14  b'\\\\U0001f614'    0.696899\n",
              "23     😬      13  b'\\\\U0001f62c'    0.704506\n",
              "24     🤡      13  b'\\\\U0001f921'    0.712112\n",
              "25     ⚠      11      b'\\\\u26a0'    0.718549\n",
              "26     👀      11  b'\\\\U0001f440'    0.724985\n",
              "27     👊      11  b'\\\\U0001f44a'    0.731422\n",
              "28     ┗      10      b'\\\\u2517'    0.737273\n",
              "29     ┏      10      b'\\\\u250f'    0.743125\n",
              "30     💲      10  b'\\\\U0001f4b2'    0.748976\n",
              "31     😎      10  b'\\\\U0001f60e'    0.754827\n",
              "32     ┓      10      b'\\\\u2513'    0.760679\n",
              "33     ┛      10      b'\\\\u251b'    0.766530\n",
              "34     👉      10  b'\\\\U0001f449'    0.772382\n",
              "35     💸      10  b'\\\\U0001f4b8'    0.778233\n",
              "36     ✌       9      b'\\\\u270c'    0.783499\n",
              "37     🙄       9  b'\\\\U0001f644'    0.788765\n",
              "38     🛑       9  b'\\\\U0001f6d1'    0.794032\n",
              "39     💩       8  b'\\\\U0001f4a9'    0.798713\n",
              "40     ❤       8      b'\\\\u2764'    0.803394\n",
              "41     😢       8  b'\\\\U0001f622'    0.808075\n",
              "42     😒       7  b'\\\\U0001f612'    0.812171\n",
              "43     ⤵       7      b'\\\\u2935'    0.816267\n",
              "44     💪       7  b'\\\\U0001f4aa'    0.820363\n",
              "45     😤       7  b'\\\\U0001f624'    0.824459\n",
              "46     💯       7  b'\\\\U0001f4af'    0.828555\n",
              "47     🇪       6  b'\\\\U0001f1ea'    0.832066\n",
              "48     ➡       6      b'\\\\u27a1'    0.835576\n",
              "49     🤑       5  b'\\\\U0001f911'    0.838502\n",
              "50     😇       5  b'\\\\U0001f607'    0.841428\n",
              "51     🧐       5  b'\\\\U0001f9d0'    0.844353\n",
              "52     🦁       5  b'\\\\U0001f981'    0.847279"
            ]
          },
          "metadata": {
            "tags": []
          },
          "execution_count": 48
        }
      ]
    },
    {
      "cell_type": "markdown",
      "metadata": {
        "id": "3y11uf74Vsa5"
      },
      "source": [
        "E, então, implementa-se o método de conversão de emojis para palavras."
      ]
    },
    {
      "cell_type": "code",
      "metadata": {
        "id": "UJbbFu9kh8cg"
      },
      "source": [
        "# Percorre o dicionario, substituindo as ocorrências das chaves pelo valores ao\n",
        "# longo do texto.\n",
        "def convert_emoji_to_text(text):\n",
        "  emoji_map = {\n",
        "    '\\U0001f44f': \"parabéns\",\n",
        "    '\\U0001f1e7\\U0001f1f7': \"Brasil\",\n",
        "    '\\U0001f447': \"olhem isso\",\n",
        "    '\\U0001f4a5': \"explosão\",\n",
        "    '\\U0001f914': \"pensativo\",\n",
        "    '\\U0001f4a3': \"bomba\",\n",
        "    '\\U0001f621': \"que raiva\",\n",
        "    '\\U0001f64f': \"graças a Deus\",\n",
        "    '\\U0001f602': \"risos\",\n",
        "    '\\U0001f44d': \"legal\",\n",
        "    '\\U0001f62d': \"muito triste\",\n",
        "    '\\U0001f4b0': \"dinheiro\",\n",
        "    '\\U0001f441': \"olhem isso\",\n",
        "    '\\U0001f4b2': \"dinheiro\",\n",
        "    '\\U0001f631': \"espantoso\",\n",
        "    '\\u2753': \"? \",\n",
        "    '\\U0001f620': \"que raiva\",\n",
        "    '\\U0001f923': \"muitos risos\",\n",
        "    '\\U0001f58b': \"canetada\",\n",
        "    '\\U0001f575': \"fiscalização\",\n",
        "    '\\U0001f614': \"triste\",\n",
        "    '\\U0001f62c': \"ops\",\n",
        "    '\\U0001f921': \"palhaçada\",\n",
        "    '\\U0001f44a': \"porrada\",\n",
        "    '\\U0001f623': \"que porcaria\",\n",
        "    '\\U0001f449': \"olhem isso\",\n",
        "    '\\U0001f440': \"olhem isso\",\n",
        "    '\\U0001f60e': \"feliz\",\n",
        "    '\\U0001f4b8': \"dinheiro voando\",\n",
        "    '\\u270c': \"paz\",\n",
        "    '\\U0001f644': \"que chato\",\n",
        "    '\\U0001f6d1': \"pare\",\n",
        "    '\\U0001f622': \"triste\",\n",
        "    '\\U0001f4a9': \"que merda\",\n",
        "    '\\U0001f624': \"que raiva\",\n",
        "    '\\u2764': \"amor\",\n",
        "    '\\U0001f4af': \"cem porcento\",\n",
        "    '\\u2935': \"olhem isso\",\n",
        "    '\\U00011f615': \"chateado\",\n",
        "    r' :\\'?-?\\( ': \"triste\",\n",
        "    r' :-?\\) ': \"feliz\",\n",
        "    r' :-?D ': \"feliz\"\n",
        "  }\n",
        "\n",
        "  for key in emoji_map:\n",
        "    text = re.sub(key, \". \" + emoji_map[key] + \"! \", text)\n",
        "  \n",
        "  return text\n"
      ],
      "execution_count": null,
      "outputs": []
    },
    {
      "cell_type": "markdown",
      "metadata": {
        "id": "toMI8uQ3PuvA"
      },
      "source": [
        "## 4.2. Análise e processamento geral do texto\n",
        "\n",
        "Com o intuito de limpar um pouco o corpus onde necessário e agregar mais informação onde pode ser útil, decidiu-se fazer alguns tratamentos no texto:\n",
        "-\tremoção de menções (nomes próprios das contas de Twitter iniciadas com arroba), pois geralmente são neutras e não agregariam ao modelo;\n",
        "-\tremoção de links, pois não dão indicações claras se são negativos ou positivos (muitos links direcionam para imagens, que podem ter cunho negativo ou positivo, fugindo do escopo desse trabalho que é a análise de sentimentos textual);\n",
        "-\ttransformação de \"#hashtags\", pois são formadas pela junção de palavras, assim, se tentará separar as palavras sempre que utilizar formatos \"snake_case\" ou \"camelCase\";\n",
        "-\tpadronização de risadas do tipo \"kkkk...\", transformando para \"kkk\", sendo assim consideradas um único tipo de palavra;\n",
        "-\tretirada de excessos de espaços e quebras de linha;\n",
        "-\tremoção dos caracteres restantes que não sejam pontuação, letras e números.\n"
      ]
    },
    {
      "cell_type": "code",
      "metadata": {
        "id": "NjN2Fm7PPaAV"
      },
      "source": [
        "import re\n",
        "\n",
        "# Remove menções no texto do tipo \"@nomedaconta\"\n",
        "def remove_mentions(text):\n",
        "  text = re.sub('@[\\w_-]+ ', \" \", text)\n",
        "  return text\n",
        "\n",
        "# Converte hashtags para palavras. E.g.: #praFrenteBrasil => pra frente brasil\n",
        "def convert_hashtag_to_words(text):\n",
        "\n",
        "  # Procura o texto que começe com # seguido de letras, números, \"_\" ou \"-\"\n",
        "  for m in re.finditer('#([\\w_-]+)', text):\n",
        "    hashtag = m.group(1);\n",
        "\n",
        "    # Procura uma letra maiúscula seguida de minúscula e acrescenta-se um espaço\n",
        "    # imediatamente antes\n",
        "    hashtag = re.sub('(.)([A-Z][a-z]+)', r'\\1 \\2', hashtag)\n",
        "    # Procura uma letra minúscula ou número seguida de maiúscula e acrescenta-se\n",
        "    # um espaço imediatamente entre eles\n",
        "    hashtag = re.sub('([a-z0-9])([A-Z])', r'\\1 \\2', hashtag)\n",
        "    # Substitui \"_\" ou \"-\" por espaço\n",
        "    hashtag = re.sub('[_-]', \" \", hashtag)\n",
        "    \n",
        "    text = re.sub(m.group(0), \". Assunto: \" + hashtag + \"! \", text)\n",
        "  \n",
        "  return text\n",
        "\n",
        "# Remove URLs \n",
        "def remove_urls(text):\n",
        "  return re.sub(r'https?:\\/\\/[^\\s]+', \" \", text)\n",
        "\n",
        "# Remove escesso de espaços\n",
        "def remove_spaces(text):\n",
        "  text = re.sub(\"[\\r\\n]\", \" \", text)\n",
        "  return re.sub('\\s+', \" \", text)\n",
        "\n",
        "# Reduz risadas com 'kkkk...' a 'kkk'\n",
        "def normalize_laughs(text):\n",
        "  return re.sub(r'k{4,}', \"kkk\", text, flags=re.IGNORECASE)\n",
        "\n",
        "# Remove pontuações duplicadas\n",
        "def remove_punctuation_duplicates(text):\n",
        "  return re.sub(r'([\\,\\;\\.\\-\\_\\!\\?]) [\\,\\;\\.\\-\\_\\!\\?]', r'\\1 ', text)\n",
        "\n",
        "# Remove o que não for letra, número, \".\", \",\", \";\", \"!\", \"?\"\n",
        "def remove_others(text):\n",
        "  return re.sub('[^\\w\\.,;\\!\\?]', \" \", text)\n",
        "\n",
        "def clean_text(text):\n",
        "  text = convert_hashtag_to_words(text)\n",
        "  text = remove_mentions(text)\n",
        "  text = remove_urls(text)\n",
        "  text = convert_emoji_to_text(text)\n",
        "  text = normalize_laughs(text)\n",
        "  text = remove_punctuation_duplicates(text)\n",
        "  text = remove_others(text)\n",
        "  text = remove_spaces(text)\n",
        "  return(text)\n"
      ],
      "execution_count": null,
      "outputs": []
    },
    {
      "cell_type": "code",
      "metadata": {
        "id": "NLsa-9EXlxP4"
      },
      "source": [
        "balanced_df[\"clean_text\"] = balanced_df[\"text\"].apply(clean_text)"
      ],
      "execution_count": null,
      "outputs": []
    },
    {
      "cell_type": "markdown",
      "metadata": {
        "id": "R_niDKDxmKGH"
      },
      "source": [
        "## 4.3. Palavras com baixa relevância e sufixos\n",
        "\n",
        "Como será visto mais a frente, para se trabalhar com alguns modelos de aprendizado de máquina, o texto é transformado em matrizes esparsas. Assim, é útil aplicar algumas técnicas de processamento de linguagem natural que ajudem a reduzir a dimensionalidade dessas matrizes. Uma das técnicas é a remoção de palavras muito comuns, chamadas \"stop words\", pois, geralmente, tem pouco impacto nos modelos. Nesse trabalho foi utilizada a lista da biblioteca spacy, no entanto, foram mantidas algumas palavras que podem inverter o sentido de um sentimento - por exemplo: “não”, “nem”, “nunca”, “nenhuma”, “nenhum”.\n",
        "\n",
        "Existem ainda outras duas técnicas que podem ser utilizadas:\n",
        "-\tremoção de sufixos (Stemmer): remove sufixos das palavras. Exemplo: “obrigado” e “obrigada” se transformam em “obrig”.\n",
        "-\tlematização: transforma as palavras para seu lema, levando em consideração o contexto em que a palavra se encontra no texto. Exemplo: “meninas”, “menina”, “menino” e “meninos” viram “menino”.\n",
        "\n",
        "Pela segunda técnica demandar maior tempo computacional, será utilizada a remoção de sufixos, com o algoritmo RSLP (remoção de sufixos da língua portuguesa) da biblioteca nltk. Mas a título de conhecimento, o código para lematização usando a biblioteca spacy também é apresentado no notebook gerado.\n"
      ]
    },
    {
      "cell_type": "code",
      "metadata": {
        "colab": {
          "base_uri": "https://localhost:8080/"
        },
        "id": "NGRghyuimCpw",
        "outputId": "50b1d12e-e8ab-4750-c7d1-27b72a77f561"
      },
      "source": [
        "import spacy\n",
        "import nltk\n",
        "spacy.require_gpu()\n",
        "spacy.cli.download(\"pt_core_news_lg\")\n",
        "nlp = spacy.load('pt_core_news_lg')\n",
        "\n",
        "nltk.download('punkt')\n",
        "nltk.download('rslp')"
      ],
      "execution_count": null,
      "outputs": [
        {
          "output_type": "stream",
          "text": [
            "\u001b[38;5;2m✔ Download and installation successful\u001b[0m\n",
            "You can now load the package via spacy.load('pt_core_news_lg')\n",
            "[nltk_data] Downloading package punkt to /root/nltk_data...\n",
            "[nltk_data]   Unzipping tokenizers/punkt.zip.\n",
            "[nltk_data] Downloading package rslp to /root/nltk_data...\n",
            "[nltk_data]   Unzipping stemmers/rslp.zip.\n"
          ],
          "name": "stdout"
        },
        {
          "output_type": "execute_result",
          "data": {
            "text/plain": [
              "True"
            ]
          },
          "metadata": {
            "tags": []
          },
          "execution_count": 52
        }
      ]
    },
    {
      "cell_type": "code",
      "metadata": {
        "id": "gJygXtSuomXP"
      },
      "source": [
        "from spacy.lang.pt.stop_words import STOP_WORDS\n",
        "stop_words = STOP_WORDS - set([\"não\", \"nem\", \"nunca\", \"nenhuma\", \"nenhum\"])\n",
        "\n",
        "stemmer = nltk.stem.RSLPStemmer()\n",
        "\n",
        "# Remove stopwords e aplica o stemmer RSLP ao texto\n",
        "def keep_important_words(text):\n",
        "  text = re.sub(r'[^\\w-]', ' ', text).lower()\n",
        "  text = re.sub(r'\\b[\\w-]{,2}\\b', ' ', text)\n",
        "  filtered_words = [\n",
        "      stemmer.stem(word) for word in text.split() if word not in stop_words.union(set([\"assunto\"]))\n",
        "  ]\n",
        "  return \" \".join(filtered_words)\n",
        "\n",
        "# Transforma todas as palavras para seu lemma, utilizando \n",
        "# o modelo pré-treinado \"pt_core_news_lg\"\n",
        "def lemmatize(text):\n",
        "  lemma = \"\"\n",
        "  for token in nlp(text.lower()):\n",
        "    if(token in stop_words):\n",
        "      continue\n",
        "    lemma += token.lemma_ + \" \"\n",
        "  return lemma"
      ],
      "execution_count": null,
      "outputs": []
    },
    {
      "cell_type": "markdown",
      "metadata": {
        "id": "uGCd-L2FWcSB"
      },
      "source": [
        "Esse tratamento é aplicado à coluna “cleaned_text” e guardado na coluna “important_words”. Feitos esses diversos tratamentos no texto, o dataset foi salvo para se treinar modelos na próxima seção."
      ]
    },
    {
      "cell_type": "code",
      "metadata": {
        "id": "HVg4ArQidyH4"
      },
      "source": [
        "balanced_df[\"important_words\"] = balanced_df[\"clean_text\"].apply(\n",
        "    keep_important_words\n",
        ")"
      ],
      "execution_count": null,
      "outputs": []
    },
    {
      "cell_type": "code",
      "metadata": {
        "id": "wdSM99mj-HPd"
      },
      "source": [
        "balanced_df = balanced_df.reset_index(drop=True)"
      ],
      "execution_count": null,
      "outputs": []
    },
    {
      "cell_type": "code",
      "metadata": {
        "id": "N6Oa3YaPqRAc"
      },
      "source": [
        "balanced_df.to_json(path_or_buf=\"datasets/balanced_df.json\")"
      ],
      "execution_count": null,
      "outputs": []
    },
    {
      "cell_type": "code",
      "metadata": {
        "colab": {
          "base_uri": "https://localhost:8080/",
          "height": 278
        },
        "id": "gxQOK-m14oen",
        "outputId": "b681f701-73fe-43f4-ac69-ed777ede0db5"
      },
      "source": [
        "balanced_df.drop(\"sentiment\", axis=1).head()"
      ],
      "execution_count": null,
      "outputs": [
        {
          "output_type": "execute_result",
          "data": {
            "text/html": [
              "<div>\n",
              "<style scoped>\n",
              "    .dataframe tbody tr th:only-of-type {\n",
              "        vertical-align: middle;\n",
              "    }\n",
              "\n",
              "    .dataframe tbody tr th {\n",
              "        vertical-align: top;\n",
              "    }\n",
              "\n",
              "    .dataframe thead th {\n",
              "        text-align: right;\n",
              "    }\n",
              "</style>\n",
              "<table border=\"1\" class=\"dataframe\">\n",
              "  <thead>\n",
              "    <tr style=\"text-align: right;\">\n",
              "      <th></th>\n",
              "      <th>created_at</th>\n",
              "      <th>text</th>\n",
              "      <th>origin</th>\n",
              "      <th>sentiment_binary</th>\n",
              "      <th>clean_text</th>\n",
              "      <th>important_words</th>\n",
              "    </tr>\n",
              "  </thead>\n",
              "  <tbody>\n",
              "    <tr>\n",
              "      <th>0</th>\n",
              "      <td>2018-08-22 02:21:49</td>\n",
              "      <td>AI QUE LINDO :((( TINHA Q TER SIDO ESCOLHIDO</td>\n",
              "      <td>tweets_pt</td>\n",
              "      <td>0</td>\n",
              "      <td>AI QUE LINDO TINHA Q TER SIDO ESCOLHIDO</td>\n",
              "      <td>lind tinh sid escolh</td>\n",
              "    </tr>\n",
              "    <tr>\n",
              "      <th>1</th>\n",
              "      <td>2018-09-27 16:20:19</td>\n",
              "      <td>fds prolongado :D</td>\n",
              "      <td>tweets_pt</td>\n",
              "      <td>1</td>\n",
              "      <td>fds prolongado D</td>\n",
              "      <td>fd prolong</td>\n",
              "    </tr>\n",
              "    <tr>\n",
              "      <th>2</th>\n",
              "      <td>2018-09-27 14:51:43</td>\n",
              "      <td>@CoraBarbiery Arranque miija!!! :) :) :) :)</td>\n",
              "      <td>tweets_pt</td>\n",
              "      <td>1</td>\n",
              "      <td>Arranque miija!!!. feliz! . feliz!</td>\n",
              "      <td>arranqu miij feliz feliz</td>\n",
              "    </tr>\n",
              "    <tr>\n",
              "      <th>3</th>\n",
              "      <td>2018-08-17 00:55:44</td>\n",
              "      <td>parei exatamente agora de mexer com material d...</td>\n",
              "      <td>tweets_pt</td>\n",
              "      <td>1</td>\n",
              "      <td>parei exatamente agora de mexer com material d...</td>\n",
              "      <td>par exat mex mater campanh simples 11h manhã niss</td>\n",
              "    </tr>\n",
              "    <tr>\n",
              "      <th>4</th>\n",
              "      <td>2018-08-20 00:59:20</td>\n",
              "      <td>A votar por Marcela Navarro!! :) #L4FGranFinal...</td>\n",
              "      <td>tweets_pt</td>\n",
              "      <td>1</td>\n",
              "      <td>A votar por Marcela Navarro!!. feliz! Assunto ...</td>\n",
              "      <td>vot marcel navarr feliz gran lo cuatr final</td>\n",
              "    </tr>\n",
              "  </tbody>\n",
              "</table>\n",
              "</div>"
            ],
            "text/plain": [
              "           created_at  ...                                    important_words\n",
              "0 2018-08-22 02:21:49  ...                               lind tinh sid escolh\n",
              "1 2018-09-27 16:20:19  ...                                         fd prolong\n",
              "2 2018-09-27 14:51:43  ...                           arranqu miij feliz feliz\n",
              "3 2018-08-17 00:55:44  ...  par exat mex mater campanh simples 11h manhã niss\n",
              "4 2018-08-20 00:59:20  ...        vot marcel navarr feliz gran lo cuatr final\n",
              "\n",
              "[5 rows x 6 columns]"
            ]
          },
          "metadata": {
            "tags": []
          },
          "execution_count": 55
        }
      ]
    },
    {
      "cell_type": "markdown",
      "metadata": {
        "id": "GKSF92WPPPwZ"
      },
      "source": [
        "## 4.4. N-gramas por sentimento"
      ]
    },
    {
      "cell_type": "markdown",
      "metadata": {
        "id": "eV1whMqPvhAI"
      },
      "source": [
        "Antes de partir para o treinamento de modelos, é interessante tentar fazer mais algumas análises sobre o dataset. Por isso, foram analisadas quais as palavras da coluna “important_words” mais aparecem para cada categorização de sentimento.\n"
      ]
    },
    {
      "cell_type": "code",
      "metadata": {
        "colab": {
          "base_uri": "https://localhost:8080/",
          "height": 1000
        },
        "id": "-aX4ZTIFsijY",
        "outputId": "7a288991-6fea-4b81-99ad-e1efb4f80dbb"
      },
      "source": [
        "import collections\n",
        "import nltk\n",
        "from nltk.util import ngrams\n",
        "\n",
        "# Mostra uma lista de tamanho \"size\" separa por categoria de sentimento\n",
        "# para cada tipo de n-grama solicitado (por padrão, unigrama e bigrama) \n",
        "def show_ngrams_by_sentiment(df, ngram_types=[1,2], size=10):\n",
        "  \n",
        "  # Para cada ngram solicitado\n",
        "  for ngram in ngram_types:\n",
        "    print(\"\\n\\n{}-gram:\".format(ngram))\n",
        "\n",
        "    # Para as 2 categorias de sentimentos\n",
        "    for sentiment in [0, 1]:\n",
        "      print(\"\\n\\nSentiment: {}\".format(sentiment))\n",
        "      same_category_text = \" \".join(\n",
        "          df[df[\"sentiment_binary\"] == sentiment][\"important_words\"]\n",
        "      )\n",
        "      \n",
        "      # Separa em n-gramas\n",
        "      list_ngrams = ngrams(re.sub(r'[^\\w-]', ' ', same_category_text).split(), ngram)\n",
        "\n",
        "      # Conta as ocorrências de n-gramas\n",
        "      ngrams_count = collections.Counter(list_ngrams)\n",
        "\n",
        "      ngram_df = pd.DataFrame.from_dict(ngrams_count, orient='index').reset_index()\n",
        "      ngram_df = ngram_df.rename(columns={'index':'ngram', 0:'count'})\n",
        "\n",
        "      display(ngram_df.sort_values(\"count\", ascending=False).head(size))\n",
        "\n",
        "print(\"Para o conjunto de datasets:\")\n",
        "show_ngrams_by_sentiment(balanced_df)"
      ],
      "execution_count": null,
      "outputs": [
        {
          "output_type": "stream",
          "text": [
            "Para o conjunto de datasets:\n",
            "\n",
            "\n",
            "1-gram:\n",
            "\n",
            "\n",
            "Sentiment: 0\n"
          ],
          "name": "stdout"
        },
        {
          "output_type": "display_data",
          "data": {
            "text/html": [
              "<div>\n",
              "<style scoped>\n",
              "    .dataframe tbody tr th:only-of-type {\n",
              "        vertical-align: middle;\n",
              "    }\n",
              "\n",
              "    .dataframe tbody tr th {\n",
              "        vertical-align: top;\n",
              "    }\n",
              "\n",
              "    .dataframe thead th {\n",
              "        text-align: right;\n",
              "    }\n",
              "</style>\n",
              "<table border=\"1\" class=\"dataframe\">\n",
              "  <thead>\n",
              "    <tr style=\"text-align: right;\">\n",
              "      <th></th>\n",
              "      <th>ngram</th>\n",
              "      <th>count</th>\n",
              "    </tr>\n",
              "  </thead>\n",
              "  <tbody>\n",
              "    <tr>\n",
              "      <th>15</th>\n",
              "      <td>(não,)</td>\n",
              "      <td>111865</td>\n",
              "    </tr>\n",
              "    <tr>\n",
              "      <th>44</th>\n",
              "      <td>(trist,)</td>\n",
              "      <td>102533</td>\n",
              "    </tr>\n",
              "    <tr>\n",
              "      <th>10</th>\n",
              "      <td>(film,)</td>\n",
              "      <td>55835</td>\n",
              "    </tr>\n",
              "    <tr>\n",
              "      <th>169</th>\n",
              "      <td>(pra,)</td>\n",
              "      <td>30595</td>\n",
              "    </tr>\n",
              "    <tr>\n",
              "      <th>298</th>\n",
              "      <td>(quer,)</td>\n",
              "      <td>28769</td>\n",
              "    </tr>\n",
              "    <tr>\n",
              "      <th>50</th>\n",
              "      <td>(fic,)</td>\n",
              "      <td>19805</td>\n",
              "    </tr>\n",
              "    <tr>\n",
              "      <th>105</th>\n",
              "      <td>(ach,)</td>\n",
              "      <td>16205</td>\n",
              "    </tr>\n",
              "    <tr>\n",
              "      <th>113</th>\n",
              "      <td>(vou,)</td>\n",
              "      <td>15820</td>\n",
              "    </tr>\n",
              "    <tr>\n",
              "      <th>288</th>\n",
              "      <td>(nem,)</td>\n",
              "      <td>14220</td>\n",
              "    </tr>\n",
              "    <tr>\n",
              "      <th>12</th>\n",
              "      <td>(real,)</td>\n",
              "      <td>13608</td>\n",
              "    </tr>\n",
              "  </tbody>\n",
              "</table>\n",
              "</div>"
            ],
            "text/plain": [
              "        ngram   count\n",
              "15     (não,)  111865\n",
              "44   (trist,)  102533\n",
              "10    (film,)   55835\n",
              "169    (pra,)   30595\n",
              "298   (quer,)   28769\n",
              "50     (fic,)   19805\n",
              "105    (ach,)   16205\n",
              "113    (vou,)   15820\n",
              "288    (nem,)   14220\n",
              "12    (real,)   13608"
            ]
          },
          "metadata": {
            "tags": []
          }
        },
        {
          "output_type": "stream",
          "text": [
            "\n",
            "\n",
            "Sentiment: 1\n"
          ],
          "name": "stdout"
        },
        {
          "output_type": "display_data",
          "data": {
            "text/html": [
              "<div>\n",
              "<style scoped>\n",
              "    .dataframe tbody tr th:only-of-type {\n",
              "        vertical-align: middle;\n",
              "    }\n",
              "\n",
              "    .dataframe tbody tr th {\n",
              "        vertical-align: top;\n",
              "    }\n",
              "\n",
              "    .dataframe thead th {\n",
              "        text-align: right;\n",
              "    }\n",
              "</style>\n",
              "<table border=\"1\" class=\"dataframe\">\n",
              "  <thead>\n",
              "    <tr style=\"text-align: right;\">\n",
              "      <th></th>\n",
              "      <th>ngram</th>\n",
              "      <th>count</th>\n",
              "    </tr>\n",
              "  </thead>\n",
              "  <tbody>\n",
              "    <tr>\n",
              "      <th>66</th>\n",
              "      <td>(não,)</td>\n",
              "      <td>121274</td>\n",
              "    </tr>\n",
              "    <tr>\n",
              "      <th>141</th>\n",
              "      <td>(film,)</td>\n",
              "      <td>92528</td>\n",
              "    </tr>\n",
              "    <tr>\n",
              "      <th>4</th>\n",
              "      <td>(feliz,)</td>\n",
              "      <td>89923</td>\n",
              "    </tr>\n",
              "    <tr>\n",
              "      <th>32</th>\n",
              "      <td>(pra,)</td>\n",
              "      <td>30014</td>\n",
              "    </tr>\n",
              "    <tr>\n",
              "      <th>381</th>\n",
              "      <td>(dia,)</td>\n",
              "      <td>22161</td>\n",
              "    </tr>\n",
              "    <tr>\n",
              "      <th>69</th>\n",
              "      <td>(melhor,)</td>\n",
              "      <td>22145</td>\n",
              "    </tr>\n",
              "    <tr>\n",
              "      <th>284</th>\n",
              "      <td>(real,)</td>\n",
              "      <td>21199</td>\n",
              "    </tr>\n",
              "    <tr>\n",
              "      <th>83</th>\n",
              "      <td>(gost,)</td>\n",
              "      <td>20732</td>\n",
              "    </tr>\n",
              "    <tr>\n",
              "      <th>57</th>\n",
              "      <td>(ach,)</td>\n",
              "      <td>20054</td>\n",
              "    </tr>\n",
              "    <tr>\n",
              "      <th>354</th>\n",
              "      <td>(pesso,)</td>\n",
              "      <td>19251</td>\n",
              "    </tr>\n",
              "  </tbody>\n",
              "</table>\n",
              "</div>"
            ],
            "text/plain": [
              "         ngram   count\n",
              "66      (não,)  121274\n",
              "141    (film,)   92528\n",
              "4     (feliz,)   89923\n",
              "32      (pra,)   30014\n",
              "381     (dia,)   22161\n",
              "69   (melhor,)   22145\n",
              "284    (real,)   21199\n",
              "83     (gost,)   20732\n",
              "57      (ach,)   20054\n",
              "354   (pesso,)   19251"
            ]
          },
          "metadata": {
            "tags": []
          }
        },
        {
          "output_type": "stream",
          "text": [
            "\n",
            "\n",
            "2-gram:\n",
            "\n",
            "\n",
            "Sentiment: 0\n"
          ],
          "name": "stdout"
        },
        {
          "output_type": "display_data",
          "data": {
            "text/html": [
              "<div>\n",
              "<style scoped>\n",
              "    .dataframe tbody tr th:only-of-type {\n",
              "        vertical-align: middle;\n",
              "    }\n",
              "\n",
              "    .dataframe tbody tr th {\n",
              "        vertical-align: top;\n",
              "    }\n",
              "\n",
              "    .dataframe thead th {\n",
              "        text-align: right;\n",
              "    }\n",
              "</style>\n",
              "<table border=\"1\" class=\"dataframe\">\n",
              "  <thead>\n",
              "    <tr style=\"text-align: right;\">\n",
              "      <th></th>\n",
              "      <th>ngram</th>\n",
              "      <th>count</th>\n",
              "    </tr>\n",
              "  </thead>\n",
              "  <tbody>\n",
              "    <tr>\n",
              "      <th>1331</th>\n",
              "      <td>(trist, trist)</td>\n",
              "      <td>5293</td>\n",
              "    </tr>\n",
              "    <tr>\n",
              "      <th>187</th>\n",
              "      <td>(trist, não)</td>\n",
              "      <td>5274</td>\n",
              "    </tr>\n",
              "    <tr>\n",
              "      <th>41</th>\n",
              "      <td>(film, não)</td>\n",
              "      <td>3362</td>\n",
              "    </tr>\n",
              "    <tr>\n",
              "      <th>1421</th>\n",
              "      <td>(trist, quer)</td>\n",
              "      <td>3304</td>\n",
              "    </tr>\n",
              "    <tr>\n",
              "      <th>375</th>\n",
              "      <td>(pra, mim)</td>\n",
              "      <td>2989</td>\n",
              "    </tr>\n",
              "    <tr>\n",
              "      <th>3123</th>\n",
              "      <td>(não, trist)</td>\n",
              "      <td>2873</td>\n",
              "    </tr>\n",
              "    <tr>\n",
              "      <th>1416</th>\n",
              "      <td>(não, vou)</td>\n",
              "      <td>2463</td>\n",
              "    </tr>\n",
              "    <tr>\n",
              "      <th>416</th>\n",
              "      <td>(não, consig)</td>\n",
              "      <td>2426</td>\n",
              "    </tr>\n",
              "    <tr>\n",
              "      <th>473</th>\n",
              "      <td>(fic, trist)</td>\n",
              "      <td>2038</td>\n",
              "    </tr>\n",
              "    <tr>\n",
              "      <th>1274</th>\n",
              "      <td>(assist, film)</td>\n",
              "      <td>2029</td>\n",
              "    </tr>\n",
              "  </tbody>\n",
              "</table>\n",
              "</div>"
            ],
            "text/plain": [
              "               ngram  count\n",
              "1331  (trist, trist)   5293\n",
              "187     (trist, não)   5274\n",
              "41       (film, não)   3362\n",
              "1421   (trist, quer)   3304\n",
              "375       (pra, mim)   2989\n",
              "3123    (não, trist)   2873\n",
              "1416      (não, vou)   2463\n",
              "416    (não, consig)   2426\n",
              "473     (fic, trist)   2038\n",
              "1274  (assist, film)   2029"
            ]
          },
          "metadata": {
            "tags": []
          }
        },
        {
          "output_type": "stream",
          "text": [
            "\n",
            "\n",
            "Sentiment: 1\n"
          ],
          "name": "stdout"
        },
        {
          "output_type": "display_data",
          "data": {
            "text/html": [
              "<div>\n",
              "<style scoped>\n",
              "    .dataframe tbody tr th:only-of-type {\n",
              "        vertical-align: middle;\n",
              "    }\n",
              "\n",
              "    .dataframe tbody tr th {\n",
              "        vertical-align: top;\n",
              "    }\n",
              "\n",
              "    .dataframe thead th {\n",
              "        text-align: right;\n",
              "    }\n",
              "</style>\n",
              "<table border=\"1\" class=\"dataframe\">\n",
              "  <thead>\n",
              "    <tr style=\"text-align: right;\">\n",
              "      <th></th>\n",
              "      <th>ngram</th>\n",
              "      <th>count</th>\n",
              "    </tr>\n",
              "  </thead>\n",
              "  <tbody>\n",
              "    <tr>\n",
              "      <th>613</th>\n",
              "      <td>(film, não)</td>\n",
              "      <td>4215</td>\n",
              "    </tr>\n",
              "    <tr>\n",
              "      <th>2032</th>\n",
              "      <td>(feliz, não)</td>\n",
              "      <td>3618</td>\n",
              "    </tr>\n",
              "    <tr>\n",
              "      <th>5121</th>\n",
              "      <td>(assist, film)</td>\n",
              "      <td>2649</td>\n",
              "    </tr>\n",
              "    <tr>\n",
              "      <th>6412</th>\n",
              "      <td>(val, pen)</td>\n",
              "      <td>2631</td>\n",
              "    </tr>\n",
              "    <tr>\n",
              "      <th>1565</th>\n",
              "      <td>(não, gost)</td>\n",
              "      <td>2458</td>\n",
              "    </tr>\n",
              "    <tr>\n",
              "      <th>4</th>\n",
              "      <td>(feliz, feliz)</td>\n",
              "      <td>2290</td>\n",
              "    </tr>\n",
              "    <tr>\n",
              "      <th>723</th>\n",
              "      <td>(melhor, film)</td>\n",
              "      <td>2130</td>\n",
              "    </tr>\n",
              "    <tr>\n",
              "      <th>1049</th>\n",
              "      <td>(gost, film)</td>\n",
              "      <td>1872</td>\n",
              "    </tr>\n",
              "    <tr>\n",
              "      <th>1816</th>\n",
              "      <td>(não, não)</td>\n",
              "      <td>1826</td>\n",
              "    </tr>\n",
              "    <tr>\n",
              "      <th>307</th>\n",
              "      <td>(não, vou)</td>\n",
              "      <td>1797</td>\n",
              "    </tr>\n",
              "  </tbody>\n",
              "</table>\n",
              "</div>"
            ],
            "text/plain": [
              "               ngram  count\n",
              "613      (film, não)   4215\n",
              "2032    (feliz, não)   3618\n",
              "5121  (assist, film)   2649\n",
              "6412      (val, pen)   2631\n",
              "1565     (não, gost)   2458\n",
              "4     (feliz, feliz)   2290\n",
              "723   (melhor, film)   2130\n",
              "1049    (gost, film)   1872\n",
              "1816      (não, não)   1826\n",
              "307       (não, vou)   1797"
            ]
          },
          "metadata": {
            "tags": []
          }
        }
      ]
    },
    {
      "cell_type": "markdown",
      "metadata": {
        "id": "1EPCd5LAuO2e"
      },
      "source": [
        "Na análise dos unigramas (palavras) por sentimento observa-se algumas coisas:\n",
        "-\ta palavra \"não\" é a que mais aparece nas 2 categorias, o que já era esperado, por ser um tipo de \"stop word\";\n",
        "-\ta palavra \"film\" (filme) aparece bastante nas 2 categorias, o que pode ser explicado pelo uso de um dataset temático de classificação de filmes;\n",
        "-\ta palavra \"trist\" (triste, tristeza) tem destaque na categoria 0 (sentimento negativo), enquanto a palavra \"feliz\" tem destaque na categoria 1 (sentimento positivo);\n",
        "\n",
        "Já a análise de bigramas com ordem (duplas de palavras em sequência) não forneceu nenhum insight relevante.\n"
      ]
    },
    {
      "cell_type": "markdown",
      "metadata": {
        "id": "U9HYtyd6yVy6"
      },
      "source": [
        "Agora, será feita a mesma a análise apenas para os textos direcionados à RFB."
      ]
    },
    {
      "cell_type": "code",
      "metadata": {
        "colab": {
          "base_uri": "https://localhost:8080/",
          "height": 1000
        },
        "id": "2OniuKCMyqPd",
        "outputId": "9230427c-9ad7-4517-db9f-1ff3d071cd1a"
      },
      "source": [
        "show_ngrams_by_sentiment(balanced_df[balanced_df[\"origin\"] == \"tweets_rfb\"])"
      ],
      "execution_count": null,
      "outputs": [
        {
          "output_type": "stream",
          "text": [
            "\n",
            "\n",
            "1-gram:\n",
            "\n",
            "\n",
            "Sentiment: 0\n"
          ],
          "name": "stdout"
        },
        {
          "output_type": "display_data",
          "data": {
            "text/html": [
              "<div>\n",
              "<style scoped>\n",
              "    .dataframe tbody tr th:only-of-type {\n",
              "        vertical-align: middle;\n",
              "    }\n",
              "\n",
              "    .dataframe tbody tr th {\n",
              "        vertical-align: top;\n",
              "    }\n",
              "\n",
              "    .dataframe thead th {\n",
              "        text-align: right;\n",
              "    }\n",
              "</style>\n",
              "<table border=\"1\" class=\"dataframe\">\n",
              "  <thead>\n",
              "    <tr style=\"text-align: right;\">\n",
              "      <th></th>\n",
              "      <th>ngram</th>\n",
              "      <th>count</th>\n",
              "    </tr>\n",
              "  </thead>\n",
              "  <tbody>\n",
              "    <tr>\n",
              "      <th>57</th>\n",
              "      <td>(não,)</td>\n",
              "      <td>198</td>\n",
              "    </tr>\n",
              "    <tr>\n",
              "      <th>125</th>\n",
              "      <td>(brasil,)</td>\n",
              "      <td>79</td>\n",
              "    </tr>\n",
              "    <tr>\n",
              "      <th>97</th>\n",
              "      <td>(receit,)</td>\n",
              "      <td>68</td>\n",
              "    </tr>\n",
              "    <tr>\n",
              "      <th>142</th>\n",
              "      <td>(pra,)</td>\n",
              "      <td>62</td>\n",
              "    </tr>\n",
              "    <tr>\n",
              "      <th>156</th>\n",
              "      <td>(dia,)</td>\n",
              "      <td>61</td>\n",
              "    </tr>\n",
              "    <tr>\n",
              "      <th>16</th>\n",
              "      <td>(impost,)</td>\n",
              "      <td>59</td>\n",
              "    </tr>\n",
              "    <tr>\n",
              "      <th>215</th>\n",
              "      <td>(pag,)</td>\n",
              "      <td>55</td>\n",
              "    </tr>\n",
              "    <tr>\n",
              "      <th>17</th>\n",
              "      <td>(ps5,)</td>\n",
              "      <td>51</td>\n",
              "    </tr>\n",
              "    <tr>\n",
              "      <th>47</th>\n",
              "      <td>(sit,)</td>\n",
              "      <td>49</td>\n",
              "    </tr>\n",
              "    <tr>\n",
              "      <th>34</th>\n",
              "      <td>(pens,)</td>\n",
              "      <td>46</td>\n",
              "    </tr>\n",
              "  </tbody>\n",
              "</table>\n",
              "</div>"
            ],
            "text/plain": [
              "         ngram  count\n",
              "57      (não,)    198\n",
              "125  (brasil,)     79\n",
              "97   (receit,)     68\n",
              "142     (pra,)     62\n",
              "156     (dia,)     61\n",
              "16   (impost,)     59\n",
              "215     (pag,)     55\n",
              "17      (ps5,)     51\n",
              "47      (sit,)     49\n",
              "34     (pens,)     46"
            ]
          },
          "metadata": {
            "tags": []
          }
        },
        {
          "output_type": "stream",
          "text": [
            "\n",
            "\n",
            "Sentiment: 1\n"
          ],
          "name": "stdout"
        },
        {
          "output_type": "display_data",
          "data": {
            "text/html": [
              "<div>\n",
              "<style scoped>\n",
              "    .dataframe tbody tr th:only-of-type {\n",
              "        vertical-align: middle;\n",
              "    }\n",
              "\n",
              "    .dataframe tbody tr th {\n",
              "        vertical-align: top;\n",
              "    }\n",
              "\n",
              "    .dataframe thead th {\n",
              "        text-align: right;\n",
              "    }\n",
              "</style>\n",
              "<table border=\"1\" class=\"dataframe\">\n",
              "  <thead>\n",
              "    <tr style=\"text-align: right;\">\n",
              "      <th></th>\n",
              "      <th>ngram</th>\n",
              "      <th>count</th>\n",
              "    </tr>\n",
              "  </thead>\n",
              "  <tbody>\n",
              "    <tr>\n",
              "      <th>0</th>\n",
              "      <td>(parabém,)</td>\n",
              "      <td>325</td>\n",
              "    </tr>\n",
              "    <tr>\n",
              "      <th>11</th>\n",
              "      <td>(brasil,)</td>\n",
              "      <td>111</td>\n",
              "    </tr>\n",
              "    <tr>\n",
              "      <th>100</th>\n",
              "      <td>(olh,)</td>\n",
              "      <td>69</td>\n",
              "    </tr>\n",
              "    <tr>\n",
              "      <th>116</th>\n",
              "      <td>(receit,)</td>\n",
              "      <td>41</td>\n",
              "    </tr>\n",
              "    <tr>\n",
              "      <th>136</th>\n",
              "      <td>(não,)</td>\n",
              "      <td>32</td>\n",
              "    </tr>\n",
              "    <tr>\n",
              "      <th>87</th>\n",
              "      <td>(dia,)</td>\n",
              "      <td>30</td>\n",
              "    </tr>\n",
              "    <tr>\n",
              "      <th>8</th>\n",
              "      <td>(impost,)</td>\n",
              "      <td>29</td>\n",
              "    </tr>\n",
              "    <tr>\n",
              "      <th>86</th>\n",
              "      <td>(trabalh,)</td>\n",
              "      <td>26</td>\n",
              "    </tr>\n",
              "    <tr>\n",
              "      <th>150</th>\n",
              "      <td>(feder,)</td>\n",
              "      <td>24</td>\n",
              "    </tr>\n",
              "    <tr>\n",
              "      <th>3</th>\n",
              "      <td>(pra,)</td>\n",
              "      <td>23</td>\n",
              "    </tr>\n",
              "  </tbody>\n",
              "</table>\n",
              "</div>"
            ],
            "text/plain": [
              "          ngram  count\n",
              "0    (parabém,)    325\n",
              "11    (brasil,)    111\n",
              "100      (olh,)     69\n",
              "116   (receit,)     41\n",
              "136      (não,)     32\n",
              "87       (dia,)     30\n",
              "8     (impost,)     29\n",
              "86   (trabalh,)     26\n",
              "150    (feder,)     24\n",
              "3        (pra,)     23"
            ]
          },
          "metadata": {
            "tags": []
          }
        },
        {
          "output_type": "stream",
          "text": [
            "\n",
            "\n",
            "2-gram:\n",
            "\n",
            "\n",
            "Sentiment: 0\n"
          ],
          "name": "stdout"
        },
        {
          "output_type": "display_data",
          "data": {
            "text/html": [
              "<div>\n",
              "<style scoped>\n",
              "    .dataframe tbody tr th:only-of-type {\n",
              "        vertical-align: middle;\n",
              "    }\n",
              "\n",
              "    .dataframe tbody tr th {\n",
              "        vertical-align: top;\n",
              "    }\n",
              "\n",
              "    .dataframe thead th {\n",
              "        text-align: right;\n",
              "    }\n",
              "</style>\n",
              "<table border=\"1\" class=\"dataframe\">\n",
              "  <thead>\n",
              "    <tr style=\"text-align: right;\">\n",
              "      <th></th>\n",
              "      <th>ngram</th>\n",
              "      <th>count</th>\n",
              "    </tr>\n",
              "  </thead>\n",
              "  <tbody>\n",
              "    <tr>\n",
              "      <th>54</th>\n",
              "      <td>(ps5, xbox)</td>\n",
              "      <td>43</td>\n",
              "    </tr>\n",
              "    <tr>\n",
              "      <th>55</th>\n",
              "      <td>(xbox, barat)</td>\n",
              "      <td>42</td>\n",
              "    </tr>\n",
              "    <tr>\n",
              "      <th>325</th>\n",
              "      <td>(receit, feder)</td>\n",
              "      <td>33</td>\n",
              "    </tr>\n",
              "    <tr>\n",
              "      <th>1461</th>\n",
              "      <td>(raiv, raiv)</td>\n",
              "      <td>17</td>\n",
              "    </tr>\n",
              "    <tr>\n",
              "      <th>1014</th>\n",
              "      <td>(stf, vergonh)</td>\n",
              "      <td>14</td>\n",
              "    </tr>\n",
              "    <tr>\n",
              "      <th>1785</th>\n",
              "      <td>(vergonh, nacion)</td>\n",
              "      <td>13</td>\n",
              "    </tr>\n",
              "    <tr>\n",
              "      <th>1786</th>\n",
              "      <td>(nacion, stf)</td>\n",
              "      <td>12</td>\n",
              "    </tr>\n",
              "    <tr>\n",
              "      <th>1835</th>\n",
              "      <td>(pens, pens)</td>\n",
              "      <td>12</td>\n",
              "    </tr>\n",
              "    <tr>\n",
              "      <th>4216</th>\n",
              "      <td>(palhaç, palhaç)</td>\n",
              "      <td>11</td>\n",
              "    </tr>\n",
              "    <tr>\n",
              "      <th>155</th>\n",
              "      <td>(abaix, impost)</td>\n",
              "      <td>10</td>\n",
              "    </tr>\n",
              "  </tbody>\n",
              "</table>\n",
              "</div>"
            ],
            "text/plain": [
              "                  ngram  count\n",
              "54          (ps5, xbox)     43\n",
              "55        (xbox, barat)     42\n",
              "325     (receit, feder)     33\n",
              "1461       (raiv, raiv)     17\n",
              "1014     (stf, vergonh)     14\n",
              "1785  (vergonh, nacion)     13\n",
              "1786      (nacion, stf)     12\n",
              "1835       (pens, pens)     12\n",
              "4216   (palhaç, palhaç)     11\n",
              "155     (abaix, impost)     10"
            ]
          },
          "metadata": {
            "tags": []
          }
        },
        {
          "output_type": "stream",
          "text": [
            "\n",
            "\n",
            "Sentiment: 1\n"
          ],
          "name": "stdout"
        },
        {
          "output_type": "display_data",
          "data": {
            "text/html": [
              "<div>\n",
              "<style scoped>\n",
              "    .dataframe tbody tr th:only-of-type {\n",
              "        vertical-align: middle;\n",
              "    }\n",
              "\n",
              "    .dataframe tbody tr th {\n",
              "        vertical-align: top;\n",
              "    }\n",
              "\n",
              "    .dataframe thead th {\n",
              "        text-align: right;\n",
              "    }\n",
              "</style>\n",
              "<table border=\"1\" class=\"dataframe\">\n",
              "  <thead>\n",
              "    <tr style=\"text-align: right;\">\n",
              "      <th></th>\n",
              "      <th>ngram</th>\n",
              "      <th>count</th>\n",
              "    </tr>\n",
              "  </thead>\n",
              "  <tbody>\n",
              "    <tr>\n",
              "      <th>269</th>\n",
              "      <td>(parabém, parabém)</td>\n",
              "      <td>201</td>\n",
              "    </tr>\n",
              "    <tr>\n",
              "      <th>337</th>\n",
              "      <td>(olh, olh)</td>\n",
              "      <td>42</td>\n",
              "    </tr>\n",
              "    <tr>\n",
              "      <th>11</th>\n",
              "      <td>(brasil, brasil)</td>\n",
              "      <td>35</td>\n",
              "    </tr>\n",
              "    <tr>\n",
              "      <th>178</th>\n",
              "      <td>(receit, feder)</td>\n",
              "      <td>20</td>\n",
              "    </tr>\n",
              "    <tr>\n",
              "      <th>180</th>\n",
              "      <td>(ps5, xbox)</td>\n",
              "      <td>14</td>\n",
              "    </tr>\n",
              "    <tr>\n",
              "      <th>309</th>\n",
              "      <td>(graç, deu)</td>\n",
              "      <td>14</td>\n",
              "    </tr>\n",
              "    <tr>\n",
              "      <th>270</th>\n",
              "      <td>(parabém, brasil)</td>\n",
              "      <td>14</td>\n",
              "    </tr>\n",
              "    <tr>\n",
              "      <th>181</th>\n",
              "      <td>(xbox, barat)</td>\n",
              "      <td>13</td>\n",
              "    </tr>\n",
              "    <tr>\n",
              "      <th>116</th>\n",
              "      <td>(impost, rend)</td>\n",
              "      <td>11</td>\n",
              "    </tr>\n",
              "    <tr>\n",
              "      <th>247</th>\n",
              "      <td>(parabém, receit)</td>\n",
              "      <td>11</td>\n",
              "    </tr>\n",
              "  </tbody>\n",
              "</table>\n",
              "</div>"
            ],
            "text/plain": [
              "                  ngram  count\n",
              "269  (parabém, parabém)    201\n",
              "337          (olh, olh)     42\n",
              "11     (brasil, brasil)     35\n",
              "178     (receit, feder)     20\n",
              "180         (ps5, xbox)     14\n",
              "309         (graç, deu)     14\n",
              "270   (parabém, brasil)     14\n",
              "181       (xbox, barat)     13\n",
              "116      (impost, rend)     11\n",
              "247   (parabém, receit)     11"
            ]
          },
          "metadata": {
            "tags": []
          }
        }
      ]
    },
    {
      "cell_type": "markdown",
      "metadata": {
        "id": "x_PRobtfz3LB"
      },
      "source": [
        "Nessa outra análise, o uso de bigramas trouxe mais contexto e permitiu uma melhor separação entre categorias:\n",
        "-\t(ps5, xbox) aparece muito mais como sentimento negativo, o que se explica por uma campanha da população nas redes sociais para redução de impostos nos videogames\n",
        "-\t(parabém, parabém), (olho, olho), (brasil, brasil) para sentimentos positivos e (raiv, raiv), (palhaç, palhaç) para sentimentos negativos, mostram uma boa dicotomia de sentimentos e a repetição dessas palavras se explica por serem emojis no texto original. Isso pode ser um indicativo de que emojis serem importantes para definição dos sentimentos em redes sociais.\n"
      ]
    },
    {
      "cell_type": "markdown",
      "metadata": {
        "id": "fvN1Z-y_OjI2"
      },
      "source": [
        "## 4.5. Insights de sentimentos com relação a períodos de tempo\n",
        "\n",
        "Em seguida, vamos analisar como é a distribuição dos dados no tempo e se seria possível estabelecer alguma relação entre os sentimentos no tempo.\n",
        "\n",
        "Para manipular melhor as datas, foram criadas as seguintes colunas auxiliares: ano (\"year\"), mês (\"month\"), dia (\"day\"), dia da semana (\"week_day\")."
      ]
    },
    {
      "cell_type": "code",
      "metadata": {
        "id": "gqyHjSFUKI7X"
      },
      "source": [
        "# separa a data por campos de interesse para futuro agrupamento\n",
        "balanced_df[\"year\"] = balanced_df[\"created_at\"].dt.year\n",
        "balanced_df[\"month\"] = balanced_df[\"created_at\"].dt.month\n",
        "balanced_df[\"day\"] = balanced_df[\"created_at\"].dt.date\n",
        "balanced_df[\"week_day\"] = balanced_df[\"created_at\"].dt.strftime('%a')"
      ],
      "execution_count": null,
      "outputs": []
    },
    {
      "cell_type": "code",
      "metadata": {
        "colab": {
          "base_uri": "https://localhost:8080/",
          "height": 357
        },
        "id": "A0Jl2BWBAu85",
        "outputId": "321ef283-afbb-4118-af3c-3a8e22698d79"
      },
      "source": [
        "# gera gráfico agrupado por mês/ano para o dataset\n",
        "# Tweets em português\n",
        "balanced_df[balanced_df[\"origin\"] == \"tweets_pt\"].groupby(\n",
        "    ['year', 'month']\n",
        ").size().plot(kind = 'bar')"
      ],
      "execution_count": null,
      "outputs": [
        {
          "output_type": "execute_result",
          "data": {
            "text/plain": [
              "<matplotlib.axes._subplots.AxesSubplot at 0x7f260c5dfa10>"
            ]
          },
          "metadata": {
            "tags": []
          },
          "execution_count": 60
        },
        {
          "output_type": "display_data",
          "data": {
            "image/png": "[encoded data removed]",
            "text/plain": [
              "<Figure size 432x288 with 1 Axes>"
            ]
          },
          "metadata": {
            "tags": []
          }
        }
      ]
    },
    {
      "cell_type": "code",
      "metadata": {
        "colab": {
          "base_uri": "https://localhost:8080/",
          "height": 353
        },
        "id": "I34RZ-P-CH8z",
        "outputId": "20dd576f-3e9a-4475-aa68-509de1748ed6"
      },
      "source": [
        "# gera gráfico agrupado por mês/ano para o dataset\n",
        "# Tweets MG/BR\n",
        "balanced_df[balanced_df[\"origin\"] == \"tweets_mg\"].groupby(\n",
        "    ['year', 'month']\n",
        ").size().plot(kind = 'bar')"
      ],
      "execution_count": null,
      "outputs": [
        {
          "output_type": "execute_result",
          "data": {
            "text/plain": [
              "<matplotlib.axes._subplots.AxesSubplot at 0x7f260c5a6b50>"
            ]
          },
          "metadata": {
            "tags": []
          },
          "execution_count": 61
        },
        {
          "output_type": "display_data",
          "data": {
            "image/png": "[encoded data removed]",
            "text/plain": [
              "<Figure size 432x288 with 1 Axes>"
            ]
          },
          "metadata": {
            "tags": []
          }
        }
      ]
    },
    {
      "cell_type": "markdown",
      "metadata": {
        "id": "GeVFPOliZ9C4"
      },
      "source": [
        "Ao se buscar insights entre as colunas “sentiment_binary” e “created_at”, verificou-se que os dados dos dataset “Tweets em português para análise de sentimentos” e “Tweets MG/BR” são concentrados em poucos meses, conforme figuras acima. "
      ]
    },
    {
      "cell_type": "markdown",
      "metadata": {
        "id": "jC6aXjEs_NkZ"
      },
      "source": [
        "Dessa forma, limitou-se a análise apenas aos “Tweets classificados RFB”, visto que esses dados são mais bem distribuídos ao longo do tempo, além de serem os dados de interesse no problema em questão. Pela figura a seguir verifica-se que esse dataset possui dados desde 2009 (ano de criação da conta RFB no Twitter) até o início de 2021 (quando foi feita a extração pela API)."
      ]
    },
    {
      "cell_type": "code",
      "metadata": {
        "colab": {
          "base_uri": "https://localhost:8080/",
          "height": 680
        },
        "id": "j-9QeYreLH-q",
        "outputId": "b21cc152-58e2-4541-dd18-d9814eb83665"
      },
      "source": [
        "# gera gráfico agrupado por mês/ano para o dataset\n",
        "# Tweets classificados RFB\n",
        "balanced_df[\n",
        "  balanced_df[\"origin\"] == \"tweets_rfb\"\n",
        "].groupby(\n",
        "  ['year', 'month', 'sentiment_binary']\n",
        ").size().unstack(level=2).plot(kind = 'bar', figsize=(20,10))"
      ],
      "execution_count": null,
      "outputs": [
        {
          "output_type": "execute_result",
          "data": {
            "text/plain": [
              "<matplotlib.axes._subplots.AxesSubplot at 0x7f260c5847d0>"
            ]
          },
          "metadata": {
            "tags": []
          },
          "execution_count": 62
        },
        {
          "output_type": "display_data",
          "data": {
            "image/png": "[encoded data removed]",
            "text/plain": [
              "<Figure size 1440x720 with 1 Axes>"
            ]
          },
          "metadata": {
            "tags": []
          }
        }
      ]
    },
    {
      "cell_type": "code",
      "metadata": {
        "colab": {
          "base_uri": "https://localhost:8080/",
          "height": 314
        },
        "id": "ne4OXVONLmkn",
        "outputId": "3af0a909-66c9-4759-b8d1-b293ddf9549d"
      },
      "source": [
        "# gera gráfico agrupado por dia da semana para o dataset\n",
        "# Tweets classificados RFB\n",
        "balanced_df[\n",
        "  balanced_df[\"origin\"] == \"tweets_rfb\"\n",
        "].groupby(\n",
        "    ['week_day', 'sentiment_binary']\n",
        ").size().unstack(level=1).plot(kind = 'bar')"
      ],
      "execution_count": null,
      "outputs": [
        {
          "output_type": "execute_result",
          "data": {
            "text/plain": [
              "<matplotlib.axes._subplots.AxesSubplot at 0x7f260e83c4d0>"
            ]
          },
          "metadata": {
            "tags": []
          },
          "execution_count": 63
        },
        {
          "output_type": "display_data",
          "data": {
            "image/png": "[encoded data removed]",
            "text/plain": [
              "<Figure size 432x288 with 1 Axes>"
            ]
          },
          "metadata": {
            "tags": []
          }
        }
      ]
    },
    {
      "cell_type": "code",
      "metadata": {
        "colab": {
          "base_uri": "https://localhost:8080/",
          "height": 310
        },
        "id": "A9YADQc6Nij4",
        "outputId": "d2552ad5-b69c-474b-dc92-5f66dc4471cd"
      },
      "source": [
        "# gera gráfico agrupado por mês para o dataset\n",
        "# Tweets classificados RFB\n",
        "balanced_df[\n",
        "  balanced_df[\"origin\"] == \"tweets_rfb\"\n",
        "].groupby(['month', 'sentiment_binary']).size().unstack(level=1).plot(kind = 'bar')"
      ],
      "execution_count": null,
      "outputs": [
        {
          "output_type": "execute_result",
          "data": {
            "text/plain": [
              "<matplotlib.axes._subplots.AxesSubplot at 0x7f260c06c650>"
            ]
          },
          "metadata": {
            "tags": []
          },
          "execution_count": 64
        },
        {
          "output_type": "display_data",
          "data": {
            "image/png": "[encoded data removed]",
            "text/plain": [
              "<Figure size 432x288 with 1 Axes>"
            ]
          },
          "metadata": {
            "tags": []
          }
        }
      ]
    },
    {
      "cell_type": "code",
      "metadata": {
        "colab": {
          "base_uri": "https://localhost:8080/",
          "height": 321
        },
        "id": "CzvhTXoCNyuF",
        "outputId": "37b7a689-0304-499e-ecab-39a8c6655e5b"
      },
      "source": [
        "# gera gráfico agrupado por ano para o dataset\n",
        "# Tweets classificados RFB\n",
        "balanced_df[\n",
        "  balanced_df[\"origin\"] == \"tweets_rfb\"\n",
        "].groupby(['year', 'sentiment_binary']).size().unstack(level=1).plot(kind = 'bar')"
      ],
      "execution_count": null,
      "outputs": [
        {
          "output_type": "execute_result",
          "data": {
            "text/plain": [
              "<matplotlib.axes._subplots.AxesSubplot at 0x7f260c00c3d0>"
            ]
          },
          "metadata": {
            "tags": []
          },
          "execution_count": 65
        },
        {
          "output_type": "display_data",
          "data": {
            "image/png": "[encoded data removed]",
            "text/plain": [
              "<Figure size 432x288 with 1 Axes>"
            ]
          },
          "metadata": {
            "tags": []
          }
        }
      ]
    },
    {
      "cell_type": "markdown",
      "metadata": {
        "id": "sInKBK7eDRel"
      },
      "source": [
        "Os gráficos anteriores permitem fazer algumas inferências sobre o dataset “Tweets classificados RFB”. Deve-se lembrar que a escolha dos tweets para classificação foi aleatória e correspondente a cerca de 8,18% do dataset “Tweets RFB”. As principais observações foram as seguintes:\n",
        "-\thá uma tendência de alta geral nos tweets, o que mostra maior engajamento do público com a conta ao longo do tempo;\n",
        "-\tpara o ano de 2021, há uma prevalência de tweets positivos;\n",
        "-\tos sentimentos negativos geralmente superam os sentimentos positivos, sendo a maior diferença observada às sextas-feiras, já nos sábados os sentimentos positivos são superiores;\n",
        "-\to mês com maior pico de mensagens e, também, de sentimentos negativos é o mês de abril, justamente o mês limite para entrega da declaração do imposto de renda pessoa física (IRPF).\n",
        "\n",
        "Pela pequena distribuição dos demais datasets no tempo, o uso do tempo como entrada para os modelos será descartado no presente trabalho. Deixaremos a análise desta variável para trabalhos futuros.\n",
        "\n"
      ]
    },
    {
      "cell_type": "markdown",
      "metadata": {
        "id": "0RM0NlXZICVX"
      },
      "source": [
        "# 5. Criação de Modelos de Machine Learning\n",
        "\n",
        "\n",
        "\n"
      ]
    },
    {
      "cell_type": "markdown",
      "metadata": {
        "id": "jSKBAhqNIdpw"
      },
      "source": [
        "## 5.1. Definição das features\n",
        "\n",
        "Nesse trabalho adotamos abordagem tradicional de transformar atributos textuais em vetores. Cada tweet é transformado em um vetor onde cada posição do vetor corresponde a uma palavra no vocabulário completo (corpus do dataset). Testamos duas opções para o conteúdo armazenado em cada posição:\n",
        "-\tContagem de palavras: conta as ocorrências de cada palavra no texto;\n",
        "-\tTF-IDF: do inglês “term frequency–inverse document frequency”, é uma medida estatística para indicar a importância de palavra em um documento, levando em consideração a frequência dessa palavra em um conjunto de documentos.\n",
        "\n",
        "As implementações da biblioteca sklearn que correspondem a essas duas opções são CountVectorizer e TfidfVectorizer, sendo que ambas separam o texto em palavras, fazendo cada palavra do corpus passa a corresponder a uma posição no vetor, diferenciando apenas pela forma como cada posição do vetor que corresponde a uma palavra é calculada.\n",
        "\n",
        "Já para os modelos de aprendizado profundo utilizados nesse trabalho, a transformação para vetor não ocorre dessa forma. Eles possuem tokenizadores próprios para os seus processamentos, não utilizando as duas opções anteriores. Nesses casos, será comparada a acurácia de se treinar o modelo tendo como entrada o texto original (coluna “text”), texto tratado (coluna “clean_text”) ou o texto com dimensionalidade reduzida (coluna “important_words”).\n",
        "\n",
        "Para avaliação de todos os modelos, será utilizado o Índice de Jaccard, que para o caso de classificação binária pode ser simplificado como a razão entre os itens corretamente classificados e a totalidade desses itens. Como o dataset está balanceado, qualquer valor acima de 50% indica uma melhora do modelo em relação a uma escolha aleatória.\n"
      ]
    },
    {
      "cell_type": "code",
      "metadata": {
        "id": "So-nSJVjXckA"
      },
      "source": [
        "# Carrega o dataset pronto se o notebook não for executado desde o início\n",
        "if (\"balanced_df\" not in vars()):\n",
        "  import pandas as pd\n",
        "  random_state = 0\n",
        "  balanced_df = pd.read_json(\"datasets/balanced_df.json\").astype(\n",
        "      {\"created_at\": \"datetime64\"}\n",
        "  )\n",
        "\n",
        "from sklearn.model_selection import train_test_split\n",
        "from sklearn.metrics import classification_report, plot_confusion_matrix, accuracy_score, confusion_matrix"
      ],
      "execution_count": null,
      "outputs": []
    },
    {
      "cell_type": "markdown",
      "metadata": {
        "id": "bZJlXNnibyYX"
      },
      "source": [
        "Logo ao tentar executar o primeiro modelo, ocorreu um erro de falta de memória, devido a quantidade de itens no dataset. Então, reduziu-se o dataset de forma aleatória, novamente mantendo todos os itens originários do dataset “Tweets classificados RFB”, para que não se perdesse essa informação."
      ]
    },
    {
      "cell_type": "code",
      "metadata": {
        "colab": {
          "base_uri": "https://localhost:8080/",
          "height": 102
        },
        "id": "ArloRp0bzgq8",
        "outputId": "8473cf54-3db5-4801-cc38-190195886239"
      },
      "source": [
        "# seleciona aleatoriamente 30.000 linhas que não sejam do \n",
        "# dataset \"Tweets classificados RFB\"\n",
        "used_df = balanced_df[balanced_df[\"origin\"] != \"tweets_rfb\"].sample(\n",
        "    30000,\n",
        "    random_state=random_state\n",
        ")\n",
        "# Reacrescenta as linhas do dataset \"Tweets classificados RFB\"\n",
        "used_df = used_df.append(balanced_df[balanced_df[\"origin\"] == \"tweets_rfb\"])\n",
        "used_df = used_df.sample(frac=1, random_state=random_state)\n",
        "\n",
        "display(used_df[\"origin\"].value_counts())"
      ],
      "execution_count": null,
      "outputs": [
        {
          "output_type": "display_data",
          "data": {
            "text/plain": [
              "tweets_pt     27921\n",
              "imdb_pt        1906\n",
              "tweets_rfb      949\n",
              "tweets_mg       173\n",
              "Name: origin, dtype: int64"
            ]
          },
          "metadata": {
            "tags": []
          }
        }
      ]
    },
    {
      "cell_type": "code",
      "metadata": {
        "id": "wP1IP0bXEiia"
      },
      "source": [
        "from sklearn.feature_extraction.text import TfidfVectorizer, CountVectorizer\n",
        "\n",
        "# cria os vetores com no máximo 2500 palavras, sendo que são palavras que \n",
        "# aparecem no mínimo 7 vezes e no máximo em 90% das linhas\n",
        "tfidf_vectorizer = TfidfVectorizer(max_features=2500, min_df=7, max_df=0.9)\n",
        "count_vectorizer = CountVectorizer(max_features=2500, min_df=7, max_df=0.9)\n",
        "\n",
        "# gera as novas features utilizando vetorização\n",
        "text_tfidfv = tfidf_vectorizer.fit_transform(used_df[\"important_words\"])\n",
        "text_countv = count_vectorizer.fit_transform(used_df[\"important_words\"])\n"
      ],
      "execution_count": null,
      "outputs": []
    },
    {
      "cell_type": "markdown",
      "metadata": {
        "id": "x0nr8ly6b_qx"
      },
      "source": [
        "Feito isso, realizou-se a divisão do dataset em dataset de treinamento e dataset de teste na proporção de 80% e 20%, utilizando-se sempre esses dois conjuntos para se treinar e testar os modelos.  Foi utilizado um seed (“random_state”), para que os resultados pudessem ser replicados.\n",
        "\n",
        "Para se facilitar a execução de células individualmente, a divisão em treinamento e teste é replicada em algumas células, usando sempre o mesmo seed."
      ]
    },
    {
      "cell_type": "code",
      "metadata": {
        "id": "ng1s72b9cJe6"
      },
      "source": [
        "# Divide o dataset em treinamento e teste\n",
        "X_train, X_test, y_train, y_test = train_test_split(\n",
        "    text_tfidfv,\n",
        "    used_df[\"sentiment_binary\"],\n",
        "    test_size=0.2,\n",
        "    random_state=random_state)"
      ],
      "execution_count": null,
      "outputs": []
    },
    {
      "cell_type": "markdown",
      "metadata": {
        "id": "AGA6A27yPOww"
      },
      "source": [
        "## 5.2. Naive Bayes\n",
        "\n",
        "O primeiro modelo testado foi o MultinomialNaiveBayes, que é um modelo baseado no Teorema de Probabilidade de Bayes, considerando, de forma “ingênua”, que não há correlação entre as variáveis envolvidas, ou seja, que não há correlação entre as diversas palavras do texto no caso desse trabalho."
      ]
    },
    {
      "cell_type": "code",
      "metadata": {
        "colab": {
          "base_uri": "https://localhost:8080/",
          "height": 466
        },
        "id": "BYMEnvUiO5F_",
        "outputId": "7a583e5b-0e48-443c-9cd7-b871806b32be"
      },
      "source": [
        "from sklearn.naive_bayes import MultinomialNB\n",
        "# Executa o modelo MultinomialNB com a feature TfidfVectorizer\n",
        "\n",
        "X_train, X_test, y_train, y_test = train_test_split(\n",
        "    text_tfidfv,\n",
        "    used_df[\"sentiment_binary\"],\n",
        "    test_size=0.2,\n",
        "    random_state=random_state)\n",
        "nb_model = MultinomialNB().fit(X_train.toarray(), y_train)\n",
        "predictions = nb_model.predict(X_test.toarray())\n",
        "\n",
        "print(plot_confusion_matrix(nb_model, X_test.toarray(), y_test))\n",
        "print(classification_report(y_test,predictions))\n",
        "print(accuracy_score(y_test, predictions))"
      ],
      "execution_count": null,
      "outputs": [
        {
          "output_type": "stream",
          "text": [
            "<sklearn.metrics._plot.confusion_matrix.ConfusionMatrixDisplay object at 0x7fa4fde2aa10>\n",
            "              precision    recall  f1-score   support\n",
            "\n",
            "           0       0.74      0.77      0.76      3074\n",
            "           1       0.77      0.73      0.75      3116\n",
            "\n",
            "    accuracy                           0.75      6190\n",
            "   macro avg       0.75      0.75      0.75      6190\n",
            "weighted avg       0.75      0.75      0.75      6190\n",
            "\n",
            "0.7529886914378029\n"
          ],
          "name": "stdout"
        },
        {
          "output_type": "display_data",
          "data": {
            "image/png": "[encoded data removed]",
            "text/plain": [
              "<Figure size 432x288 with 2 Axes>"
            ]
          },
          "metadata": {
            "tags": [],
            "needs_background": "light"
          }
        }
      ]
    },
    {
      "cell_type": "code",
      "metadata": {
        "colab": {
          "base_uri": "https://localhost:8080/",
          "height": 466
        },
        "id": "PRiKt-y_PKWs",
        "outputId": "4ed0624b-11b5-4e2a-c430-88e019bc4d7d"
      },
      "source": [
        "# Executa o modelo MultinomialNB com a feature CountVectorizer\n",
        "X_train, X_test, y_train, y_test = train_test_split(\n",
        "    text_countv, \n",
        "    used_df[\"sentiment_binary\"], \n",
        "    test_size=0.2, \n",
        "    random_state=random_state\n",
        ")\n",
        "nb_model = MultinomialNB().fit(X_train.toarray(), y_train)\n",
        "predictions = nb_model.predict(X_test.toarray())\n",
        "\n",
        "print(plot_confusion_matrix(nb_model, X_test.toarray(), y_test))\n",
        "print(classification_report(y_test,predictions))\n",
        "print(accuracy_score(y_test, predictions))"
      ],
      "execution_count": null,
      "outputs": [
        {
          "output_type": "stream",
          "text": [
            "<sklearn.metrics._plot.confusion_matrix.ConfusionMatrixDisplay object at 0x7fa4fde78e10>\n",
            "              precision    recall  f1-score   support\n",
            "\n",
            "           0       0.71      0.84      0.77      3074\n",
            "           1       0.80      0.66      0.73      3116\n",
            "\n",
            "    accuracy                           0.75      6190\n",
            "   macro avg       0.76      0.75      0.75      6190\n",
            "weighted avg       0.76      0.75      0.75      6190\n",
            "\n",
            "0.7479806138933764\n"
          ],
          "name": "stdout"
        },
        {
          "output_type": "display_data",
          "data": {
            "image/png": "[encoded data removed]",
            "text/plain": [
              "<Figure size 432x288 with 2 Axes>"
            ]
          },
          "metadata": {
            "tags": [],
            "needs_background": "light"
          }
        }
      ]
    },
    {
      "cell_type": "markdown",
      "metadata": {
        "id": "Dkuk-rqicf08"
      },
      "source": [
        "Para esse modelo, o vetor TFIDF apresentou melhores resultados (75,30% de acurácia) que o vetor de contagem de palavras (74,80% de acurácia) para o conjunto de treinamento, o que está dentro do esperado, já que o TFIDF pontua melhor palavras mais relevantes."
      ]
    },
    {
      "cell_type": "markdown",
      "metadata": {
        "id": "KQ3AGhPryubK"
      },
      "source": [
        "## 5.3. Regressão Logística\n",
        "\n",
        "Testou-se, também, o modelo de regressão logística, um modelo estatístico que utiliza uma função logística (uma curva do tipo sigmóide) para modelar uma variável binária dependente (no caso, sentimento “0” ou  “1”). "
      ]
    },
    {
      "cell_type": "code",
      "metadata": {
        "colab": {
          "base_uri": "https://localhost:8080/",
          "height": 462
        },
        "id": "kTsiQqTpy12_",
        "outputId": "e054c6ce-9fdb-4996-f6c9-166ba267112c"
      },
      "source": [
        "# Executa o modelo LogisticRegression com a feature TfidfVectorizer\n",
        "from sklearn.linear_model import LogisticRegression\n",
        "\n",
        "X_train, X_test, y_train, y_test = train_test_split(\n",
        "  text_tfidfv, \n",
        "  used_df[\"sentiment_binary\"], \n",
        "  test_size=0.2, \n",
        "  random_state=random_state\n",
        ")\n",
        "\n",
        "lr_model = LogisticRegression(max_iter=1000)\n",
        "lr_model.fit(X_train, y_train)\n",
        "\n",
        "# Executa as previsões\n",
        "predictions = lr_model.predict(X_test)\n",
        "plot_confusion_matrix(lr_model, X_test, y_test)\n",
        "print(classification_report(y_test,predictions))\n",
        "print(accuracy_score(y_test, predictions))"
      ],
      "execution_count": null,
      "outputs": [
        {
          "output_type": "stream",
          "text": [
            "              precision    recall  f1-score   support\n",
            "\n",
            "           0       0.81      0.73      0.77      3074\n",
            "           1       0.76      0.83      0.79      3116\n",
            "\n",
            "    accuracy                           0.78      6190\n",
            "   macro avg       0.78      0.78      0.78      6190\n",
            "weighted avg       0.78      0.78      0.78      6190\n",
            "\n",
            "0.7796445880452343\n"
          ],
          "name": "stdout"
        },
        {
          "output_type": "display_data",
          "data": {
            "image/png": "[encoded data removed]",
            "text/plain": [
              "<Figure size 432x288 with 2 Axes>"
            ]
          },
          "metadata": {
            "tags": []
          }
        }
      ]
    },
    {
      "cell_type": "code",
      "metadata": {
        "colab": {
          "base_uri": "https://localhost:8080/",
          "height": 454
        },
        "id": "4cwk_WeV07qJ",
        "outputId": "52353441-8123-490c-9fe2-b05aeef5fe88"
      },
      "source": [
        "# Executa o modelo LogisticRegression com a feature CountVectorizer\n",
        "from sklearn.linear_model import LogisticRegression\n",
        "\n",
        "X_train, X_test, y_train, y_test = train_test_split(\n",
        "    text_countv, used_df[\"sentiment_binary\"],\n",
        "    test_size=0.2,\n",
        "    random_state=random_state\n",
        ")\n",
        "\n",
        "lr_model = LogisticRegression(max_iter=1000)\n",
        "lr_model.fit(X_train, y_train)\n",
        "\n",
        "# Executa as previsões\n",
        "predictions = lr_model.predict(X_test)\n",
        "plot_confusion_matrix(lr_model, X_test, y_test)\n",
        "print(classification_report(y_test,predictions))\n",
        "print(accuracy_score(y_test, predictions))"
      ],
      "execution_count": null,
      "outputs": [
        {
          "output_type": "stream",
          "text": [
            "              precision    recall  f1-score   support\n",
            "\n",
            "           0       0.78      0.74      0.76      3074\n",
            "           1       0.75      0.79      0.77      3116\n",
            "\n",
            "    accuracy                           0.77      6190\n",
            "   macro avg       0.77      0.77      0.77      6190\n",
            "weighted avg       0.77      0.77      0.77      6190\n",
            "\n",
            "0.7657512116316639\n"
          ],
          "name": "stdout"
        },
        {
          "output_type": "display_data",
          "data": {
            "image/png": "[encoded data removed]",
            "text/plain": [
              "<Figure size 432x288 with 2 Axes>"
            ]
          },
          "metadata": {
            "tags": []
          }
        }
      ]
    },
    {
      "cell_type": "markdown",
      "metadata": {
        "id": "IpHJnAxLcyqV"
      },
      "source": [
        "Novamente nessa situação, o vetor TFIDF apresentou melhores resultados (77,96% de acurácia) que o vetor de contagem de palavras (76,58% de acurácia) para o conjunto de treino, obtendo um resultado ligeiramente melhor que o Naive Bayes."
      ]
    },
    {
      "cell_type": "markdown",
      "metadata": {
        "id": "HOhhgE7aZ7Tu"
      },
      "source": [
        "## 5.4. Random Forest\n",
        "\n",
        "Foi testado também o modelo de classificador Random Forest, um modelo de aprendizado conjunto que constrói diversas árvores de decisão para cada subconjunto do dataset e utiliza a média dessas ávores para reduzir overfitting e melhorar a acurácia. Definiu-se o número de árvores de decisão (*n_estimators*) como 100, padrão atual da bilioteca."
      ]
    },
    {
      "cell_type": "code",
      "metadata": {
        "id": "zyzrbyhEmuKd"
      },
      "source": [
        "from sklearn.ensemble import RandomForestClassifier"
      ],
      "execution_count": null,
      "outputs": []
    },
    {
      "cell_type": "code",
      "metadata": {
        "id": "tiYbjHERmUmi"
      },
      "source": [
        "# Executa o modelo RandomForestClassifier com a feature TfidfVectorizer\n",
        "\n",
        "X_train, X_test, y_train, y_test = train_test_split(\n",
        "  text_tfidfv, \n",
        "  used_df[\"sentiment_binary\"], \n",
        "  test_size=0.2, \n",
        "  random_state=random_state\n",
        ")\n",
        "\n",
        "\n",
        "rf_model = RandomForestClassifier(n_estimators=100, random_state=random_state)\n",
        "rf_model.fit(X_train, y_train)\n",
        "joblib.dump(rf_model, 'models/random_forest_tfidf.joblib')\n"
      ],
      "execution_count": null,
      "outputs": []
    },
    {
      "cell_type": "code",
      "metadata": {
        "colab": {
          "base_uri": "https://localhost:8080/",
          "height": 474
        },
        "id": "z89dZxapaGU9",
        "outputId": "05807789-df00-46a4-f944-0cc41d124351"
      },
      "source": [
        "# Verifica as métricas do modelo RandomForestClassifier\n",
        "# com a feature TfidfVectorizer\n",
        "\n",
        "rf_model = joblib.load('models/random_forest_tfidf.joblib')\n",
        "X_train, X_test, y_train, y_test = train_test_split(\n",
        "    text_tfidfv, \n",
        "    used_df[\"sentiment_binary\"], \n",
        "    test_size=0.2, \n",
        "    random_state=random_state\n",
        ")\n",
        "\n",
        "# Executa as previsões\n",
        "predictions = rf_model.predict(X_test)\n",
        "\n",
        "print(plot_confusion_matrix(rf_model, X_test, y_test))\n",
        "print(classification_report(y_test,predictions))\n",
        "print(accuracy_score(y_test, predictions))"
      ],
      "execution_count": null,
      "outputs": [
        {
          "output_type": "stream",
          "text": [
            "<sklearn.metrics._plot.confusion_matrix.ConfusionMatrixDisplay object at 0x7efb70bdded0>\n",
            "              precision    recall  f1-score   support\n",
            "\n",
            "           0       0.79      0.73      0.76      3074\n",
            "           1       0.75      0.81      0.78      3116\n",
            "\n",
            "    accuracy                           0.77      6190\n",
            "   macro avg       0.77      0.77      0.77      6190\n",
            "weighted avg       0.77      0.77      0.77      6190\n",
            "\n",
            "0.7678513731825525\n"
          ],
          "name": "stdout"
        },
        {
          "output_type": "display_data",
          "data": {
            "image/png": "[encoded data removed]",
            "text/plain": [
              "<Figure size 432x288 with 2 Axes>"
            ]
          },
          "metadata": {
            "tags": []
          }
        }
      ]
    },
    {
      "cell_type": "code",
      "metadata": {
        "id": "NCipQrdaapKj"
      },
      "source": [
        "# Executa o modelo RandomForestClassifier com a feature CountVectorizer\n",
        "\n",
        "X_train, X_test, y_train, y_test = train_test_split(text_countv, used_df[\"sentiment_binary\"], test_size=0.2, random_state=random_state)\n",
        "\n",
        "rf_model = RandomForestClassifier(n_estimators=100, random_state=random_state)\n",
        "rf_model.fit(X_train, y_train)\n",
        "joblib.dump(rf_model, 'models/random_forest_count.joblib')"
      ],
      "execution_count": null,
      "outputs": []
    },
    {
      "cell_type": "code",
      "metadata": {
        "colab": {
          "base_uri": "https://localhost:8080/",
          "height": 473
        },
        "id": "JX70NisccFUf",
        "outputId": "4382be6f-29ef-420d-eda7-8c6b2683ccf0"
      },
      "source": [
        "# Verifica as métricas do modelo RandomForestClassifier\n",
        "# com a feature CountVectorizer\n",
        "\n",
        "rf_model = joblib.load('models/random_forest_count.joblib')\n",
        "\n",
        "X_train, X_test, y_train, y_test = train_test_split(text_countv, used_df[\"sentiment_binary\"], test_size=0.2, random_state=random_state)\n",
        "\n",
        "# Executa as previsões\n",
        "predictions = rf_model.predict(X_test)\n",
        "\n",
        "print(plot_confusion_matrix(rf_model, X_test, y_test))\n",
        "print(classification_report(y_test,predictions))\n",
        "print(accuracy_score(y_test, predictions))"
      ],
      "execution_count": null,
      "outputs": [
        {
          "output_type": "stream",
          "text": [
            "<sklearn.metrics._plot.confusion_matrix.ConfusionMatrixDisplay object at 0x7efb6fc05a90>\n",
            "              precision    recall  f1-score   support\n",
            "\n",
            "           0       0.76      0.74      0.75      3074\n",
            "           1       0.75      0.77      0.76      3116\n",
            "\n",
            "    accuracy                           0.76      6190\n",
            "   macro avg       0.76      0.76      0.76      6190\n",
            "weighted avg       0.76      0.76      0.76      6190\n",
            "\n",
            "0.7594507269789984\n"
          ],
          "name": "stdout"
        },
        {
          "output_type": "display_data",
          "data": {
            "image/png": "[encoded data removed]",
            "text/plain": [
              "<Figure size 432x288 with 2 Axes>"
            ]
          },
          "metadata": {
            "tags": []
          }
        }
      ]
    },
    {
      "cell_type": "markdown",
      "metadata": {
        "id": "LmGAoLiceXwb"
      },
      "source": [
        "O melhor caso para esse modelo foi inferior ao TFIDF com regressão logística, obtendo 76,79% de acurácia para o vetor TFIDF e 75,94% para o vetor de contagem de palavras."
      ]
    },
    {
      "cell_type": "markdown",
      "metadata": {
        "id": "mOat4AVKoEkT"
      },
      "source": [
        "## 5.5. XGBoost"
      ]
    },
    {
      "cell_type": "markdown",
      "metadata": {
        "id": "hhwT_HRqegOp"
      },
      "source": [
        "Para o uso modelo XGBoost, desabilitou-se o uso da GPU para treinamento, por apresentar resultados muito inferiores ao processamento por CPU.\n",
        "O XGBoost é um modelo de Gradiente Boost, ou seja, ele possui um conjunto de modelos diversos que aprendem apenas uma parcela das features e utiliza o resultado desses modelos fracos para gerar um modelo forte, com maior acurácia."
      ]
    },
    {
      "cell_type": "code",
      "metadata": {
        "id": "mew9H7d0gGB8"
      },
      "source": [
        "from xgboost import XGBClassifier"
      ],
      "execution_count": null,
      "outputs": []
    },
    {
      "cell_type": "code",
      "metadata": {
        "id": "GpsKqW-DocY-"
      },
      "source": [
        "# Executa o modelo XGBClassifier com a feature TfidfVectorizer\n",
        "\n",
        "X_train, X_test, y_train, y_test = train_test_split(\n",
        "  text_tfidfv, \n",
        "  used_df[\"sentiment_binary\"], \n",
        "  test_size=0.2, \n",
        "  random_state=random_state\n",
        ")\n",
        "\n",
        "\n",
        "xgb_model = XGBClassifier(\n",
        "  max_depth=6, \n",
        "  n_estimators=1000, \n",
        "  max_bin=16, \n",
        "  nthread=8\n",
        ").fit(X_train, y_train)\n",
        "pickle.dump(xgb_model, open('models/xgb_tfidf.model', \"wb\"))"
      ],
      "execution_count": null,
      "outputs": []
    },
    {
      "cell_type": "code",
      "metadata": {
        "colab": {
          "base_uri": "https://localhost:8080/",
          "height": 454
        },
        "id": "ujhUlymgonbJ",
        "outputId": "89c493fb-31dc-47da-9006-b0c7a7768e4d"
      },
      "source": [
        "# Verifica as métricas do modelo XGBClassifier\n",
        "# com a feature TfidfVectorizer\n",
        "\n",
        "xgb_model = pickle.load(open(\"models/xgb_tfidf.model\", \"rb\"))\n",
        "X_train, X_test, y_train, y_test = train_test_split(\n",
        "    text_tfidfv, \n",
        "    used_df[\"sentiment_binary\"], \n",
        "    test_size=0.2, \n",
        "    random_state=random_state\n",
        ")\n",
        "\n",
        "# Executa as previsões\n",
        "predictions = xgb_model.predict(X_test)\n",
        "\n",
        "plot_confusion_matrix(xgb_model, X_test, y_test)\n",
        "print(classification_report(y_test,predictions))\n",
        "print(accuracy_score(y_test, predictions))"
      ],
      "execution_count": null,
      "outputs": [
        {
          "output_type": "stream",
          "text": [
            "              precision    recall  f1-score   support\n",
            "\n",
            "           0       0.81      0.71      0.75      3074\n",
            "           1       0.74      0.83      0.79      3116\n",
            "\n",
            "    accuracy                           0.77      6190\n",
            "   macro avg       0.77      0.77      0.77      6190\n",
            "weighted avg       0.77      0.77      0.77      6190\n",
            "\n",
            "0.7704361873990307\n"
          ],
          "name": "stdout"
        },
        {
          "output_type": "display_data",
          "data": {
            "image/png": "[encoded data removed]",
            "text/plain": [
              "<Figure size 432x288 with 2 Axes>"
            ]
          },
          "metadata": {
            "tags": []
          }
        }
      ]
    },
    {
      "cell_type": "code",
      "metadata": {
        "id": "maXSxntbozH-"
      },
      "source": [
        "# Executa o modelo XGBClassifier com a feature CountVectorizer\n",
        "\n",
        "X_train, X_test, y_train, y_test = train_test_split(\n",
        "  text_countv, \n",
        "  used_df[\"sentiment_binary\"], \n",
        "  test_size=0.2, \n",
        "  random_state=random_state\n",
        ")\n",
        "\n",
        "\n",
        "xgb_model = XGBClassifier(\n",
        "  max_depth=6, \n",
        "  n_estimators=1000, \n",
        "  max_bin=16, \n",
        "  nthread=8\n",
        ").fit(X_train, y_train)\n",
        "pickle.dump(xgb_model, open('models/xgb_count.model', \"wb\"))"
      ],
      "execution_count": null,
      "outputs": []
    },
    {
      "cell_type": "code",
      "metadata": {
        "colab": {
          "base_uri": "https://localhost:8080/",
          "height": 454
        },
        "id": "OVtBnFYkqqFq",
        "outputId": "3d822898-a2da-4bf4-abad-ea31d00eef30"
      },
      "source": [
        "# Verifica as métricas do modelo XGBClassifier\n",
        "# com a feature CountVectorizer\n",
        "\n",
        "xgb_model = pickle.load(open(\"models/xgb_count.model\", \"rb\"))\n",
        "X_train, X_test, y_train, y_test = train_test_split(\n",
        "    text_countv, \n",
        "    used_df[\"sentiment_binary\"], \n",
        "    test_size=0.2, \n",
        "    random_state=random_state\n",
        ")\n",
        "\n",
        "# Executa as previsões\n",
        "predictions = xgb_model.predict(X_test)\n",
        "\n",
        "plot_confusion_matrix(xgb_model, X_test, y_test)\n",
        "print(classification_report(y_test,predictions))\n",
        "print(accuracy_score(y_test, predictions))"
      ],
      "execution_count": null,
      "outputs": [
        {
          "output_type": "stream",
          "text": [
            "              precision    recall  f1-score   support\n",
            "\n",
            "           0       0.81      0.71      0.75      3074\n",
            "           1       0.74      0.83      0.79      3116\n",
            "\n",
            "    accuracy                           0.77      6190\n",
            "   macro avg       0.78      0.77      0.77      6190\n",
            "weighted avg       0.77      0.77      0.77      6190\n",
            "\n",
            "0.7709208400646204\n"
          ],
          "name": "stdout"
        },
        {
          "output_type": "display_data",
          "data": {
            "image/png": "[encoded data removed]",
            "text/plain": [
              "<Figure size 432x288 with 2 Axes>"
            ]
          },
          "metadata": {
            "tags": []
          }
        }
      ]
    },
    {
      "cell_type": "markdown",
      "metadata": {
        "id": "5DGNLsOMfOd9"
      },
      "source": [
        "Nesse modelo, contrariando o esperado após a observação de outros modelos, o vetor TFIDF forneceu menor acurácia (77,04%) que o vetor de contagem de palavras (77,09%)."
      ]
    },
    {
      "cell_type": "markdown",
      "metadata": {
        "id": "nvSPjnH9KaT8"
      },
      "source": [
        "## 5.6. Spacy CNN\n",
        "\n",
        "Testados alguns modelos tradicionais de aprendizado de máquina, passou-se para a comparação com modelos recentes, que utilizam técnicas de aprendizado profundo e são mais adequados ao processamento de linguagem natural. Para redução do tempo de treinamento, o dataset foi reduzido para 10.000 linhas, e, novamente, incluídas as linhas referente ao dataset “Tweets classificados RFB”.\n",
        "\n",
        "Para esses modelos, se comparou o uso de texto original (coluna “text”), texto processado (coluna “clean_text”) e palavras reduzidas - excluindo stop words que não invertem o sentimento e com sufixo retirado - (coluna “important_words”).\n",
        "\n",
        "O primeiro desses modelos específicos utilizado foi o spacy, na versão 3, uma biblioteca de processamento de linguagem natural que geralmente apresentas bons resultados com seu modelo de redes neurais convolucionais (CNN). CNNs são um tipo específico de redes neurais artificais que apresentam camadas convolucionais, cuja característica é limitação da conexões de um neurônio a uma área contígua da camada anterior ou dos dados de entrada. Dessa forma, pode-se dizer que, para NLP, o uso de CNNs permite incluir contexto no processo de aprendizado de máquina, com abstrações relativas à sequência de palavras, ao invés de analisar palavras de forma independente.\n"
      ]
    },
    {
      "cell_type": "code",
      "metadata": {
        "id": "bu-agi1JQEZF"
      },
      "source": [
        "# Reduz o tamanho do dataset para 10.000 linhas\n",
        "used_df = balanced_df[balanced_df[\"origin\"] != \"tweets_rfb\"].sample(\n",
        "    10000, random_state=random_state\n",
        ")\n",
        "used_df = used_df.append(balanced_df[balanced_df[\"origin\"] == \"tweets_rfb\"])\n",
        "used_df = used_df.sample(frac=1, random_state=random_state)"
      ],
      "execution_count": null,
      "outputs": []
    },
    {
      "cell_type": "markdown",
      "metadata": {
        "id": "-kMjxlO1gfzr"
      },
      "source": [
        "Para se trabalhar com o spacy da mesma forma como é feito o treinamento e teste na biblioteca sklearn, foi criada uma classe que implemente um método “fit” e um método “predict”)."
      ]
    },
    {
      "cell_type": "code",
      "metadata": {
        "id": "txZiYR5gKZ6_"
      },
      "source": [
        "import spacy\n",
        "from sklearn.utils import shuffle\n",
        "from spacy.util import minibatch, compounding\n",
        "from spacy.training import Example\n",
        "\n",
        "# Classe para implementar métodos parecidos com do sklearn\n",
        "class SpacyModel:\n",
        "  def __init__(self, nlp, epochs=5, use_gpu=False):\n",
        "      self.nlp = nlp\n",
        "      self.epochs = epochs\n",
        "\n",
        "      if use_gpu:\n",
        "        spacy.require_gpu()\n",
        "\n",
        "      if 'textcat' not in nlp.pipe_names:\n",
        "        textcat = nlp.add_pipe(\"textcat\", last=True)\n",
        "        textcat.add_label(\"POSITIVE\")\n",
        "        textcat.add_label(\"NEGATIVE\")\n",
        "    \n",
        "  def fit(self, X, y):\n",
        "    X = X.reset_index(drop=True)\n",
        "    y = y.reset_index(drop=True)\n",
        "    examples = []\n",
        "    # Cria a lista de exemplo, que são usado para treinar o spacy\n",
        "    for index, row in X.iteritems():\n",
        "      doc = self.nlp.make_doc(row)\n",
        "      # A categorização no spacy é feita com rótulos que possuem um booleano\n",
        "      # indicando se o rótulo foi aplicado naquela categorização\n",
        "      cats = {'POSITIVE': (y.iloc[index] > 0), 'NEGATIVE': (y.iloc[index] <= 0)}\n",
        "      example = Example.from_dict(doc, {\"cats\": cats})\n",
        "      examples.append(example)\n",
        "\n",
        "    losses = {}\n",
        "    # Habilita-se apenas a parte de categorização de texto \"textcat\"\n",
        "    # para realizar o treinamento.\n",
        "    with self.nlp.select_pipes(enable=\"textcat\"):\n",
        "        optimizer = self.nlp.initialize(lambda: examples)\n",
        "        # Para cada época\n",
        "        for itn in range(self.epochs):\n",
        "          # embaralha os exemplos antes de criar os conjuntos de treinamento\n",
        "          shuffle(examples, random_state=random_state)\n",
        "          # Cria pequenos conjuntos de exemplos\n",
        "          batches = minibatch(examples, size=compounding(4., 32., 1.001))\n",
        "          for batch in batches:\n",
        "            # Treina a CNN do spacy\n",
        "            self.nlp.update(batch , sgd=optimizer, drop=0.2, losses=losses)\n",
        "  \n",
        "  def predict(self, X):\n",
        "    # tranforma o texto em palavras em uma lista de objetos Doc \n",
        "    docs = (self.nlp.tokenizer(text) for index, text in X.iteritems())\n",
        "    y_pred = []\n",
        "\n",
        "    # passa cada objeto Doc pelo pipe de categorização de texto \"textcat\"\n",
        "    # e inclui o resultado em um atributo \"cats\"\n",
        "    for index, doc in enumerate(self.nlp.get_pipe(\"textcat\").pipe(docs)):\n",
        "      # se a probabilidade de o sentimento ser positivo for maior que 50%\n",
        "      # considera o resultado como \"1\" - sentimento positivo, caso contrário\n",
        "      #considera o resultado como \"0\" - sentimento negativo\n",
        "      if doc.cats[\"POSITIVE\"] > 0.5:\n",
        "        y_pred.append(1)\n",
        "      else:\n",
        "        y_pred.append(0)\n",
        "    return y_pred\n",
        "\n"
      ],
      "execution_count": null,
      "outputs": []
    },
    {
      "cell_type": "code",
      "metadata": {
        "id": "FoMA_qn-Qg1c"
      },
      "source": [
        "# Desabilita a chamada dessa célula. \n",
        "# COMENTE A LINHA A SEGUIR PARA EXECUTAR ESTA CÉLULA\n",
        "%%script false\n",
        "\n",
        "# Treinamento do spacy com o texto original\n",
        "\n",
        "\n",
        "X_train, X_test, y_train, y_test = train_test_split(\n",
        "  used_df,\n",
        "  used_df[\"sentiment_binary\"],\n",
        "  test_size=0.2,\n",
        "  random_state=random_state\n",
        ")\n",
        "\n",
        "# cria um modelo vazio\n",
        "nlp = spacy.blank(\"en\")\n",
        "spacy_model = SpacyModel(nlp=nlp, epochs=10, use_gpu=True)\n",
        "\n",
        "# treina o spacy com o texto original\n",
        "spacy_model.fit(X_train[\"text\"], y_train)\n",
        "\n",
        "spacy_model.nlp.to_disk(\"models/spacy_cnn_raw_text.model\")"
      ],
      "execution_count": null,
      "outputs": []
    },
    {
      "cell_type": "code",
      "metadata": {
        "colab": {
          "base_uri": "https://localhost:8080/",
          "height": 441
        },
        "id": "IYDNAou-Y8iI",
        "outputId": "fda6a1aa-a96e-4b2c-eb7f-72bc7bbcf431"
      },
      "source": [
        "# Verifica as métricas do modelo Spacy\n",
        "# com o texto original\n",
        "\n",
        "X_train, X_test, y_train, y_test = train_test_split(\n",
        "    used_df,\n",
        "    used_df[\"sentiment_binary\"],\n",
        "    test_size=0.2,\n",
        "    random_state=random_state\n",
        ")\n",
        "\n",
        "nlp = spacy.load(\"models/spacy_cnn_raw_text.model\")\n",
        "spacy_model = SpacyModel(nlp=nlp, epochs=10)\n",
        "# Executa as previsões\n",
        "predictions = spacy_model.predict(X_test[\"text\"])\n",
        "import seaborn as sns\n",
        "f = sns.heatmap(confusion_matrix(y_test,predictions), annot=True)\n",
        "print(classification_report(y_test,predictions))\n",
        "print(accuracy_score(y_test, predictions))"
      ],
      "execution_count": null,
      "outputs": [
        {
          "output_type": "stream",
          "text": [
            "              precision    recall  f1-score   support\n",
            "\n",
            "           0       0.97      0.93      0.95      1095\n",
            "           1       0.93      0.97      0.95      1095\n",
            "\n",
            "    accuracy                           0.95      2190\n",
            "   macro avg       0.95      0.95      0.95      2190\n",
            "weighted avg       0.95      0.95      0.95      2190\n",
            "\n",
            "0.9506849315068493\n"
          ],
          "name": "stdout"
        },
        {
          "output_type": "display_data",
          "data": {
            "image/png": "[encoded data removed]",
            "text/plain": [
              "<Figure size 432x288 with 2 Axes>"
            ]
          },
          "metadata": {
            "tags": []
          }
        }
      ]
    },
    {
      "cell_type": "code",
      "metadata": {
        "id": "BU3CyYGVK0oT"
      },
      "source": [
        "# Desabilita a chamada dessa célula. \n",
        "# COMENTE A LINHA A SEGUIR PARA EXECUTAR ESTA CÉLULA\n",
        "%%script false\n",
        "\n",
        "# Treinamento do spacy com o texto processado\n",
        "\n",
        "\n",
        "\n",
        "X_train, X_test, y_train, y_test = train_test_split(\n",
        "  used_df,\n",
        "  used_df[\"sentiment_binary\"],\n",
        "  test_size=0.2,\n",
        "  random_state=random_state\n",
        ")\n",
        "\n",
        "# cria um modelo vazio\n",
        "nlp = spacy.blank(\"en\")\n",
        "spacy_model = SpacyModel(nlp=nlp, epochs=10, use_gpu=True)\n",
        "# treina o spacy com o texto processado\n",
        "spacy_model.fit(X_train[\"clean_text\"], y_train)\n",
        "\n",
        "spacy_model.nlp.to_disk(\"models/spacy_cnn_clean_text.model\")"
      ],
      "execution_count": null,
      "outputs": []
    },
    {
      "cell_type": "code",
      "metadata": {
        "colab": {
          "base_uri": "https://localhost:8080/",
          "height": 449
        },
        "id": "jU4ebWmXMfpT",
        "outputId": "367e365c-04ac-4536-f837-74b714a3aeb2"
      },
      "source": [
        "# Verifica as métricas do modelo Spacy\n",
        "# com o texto processado\n",
        "\n",
        "X_train, X_test, y_train, y_test = train_test_split(\n",
        "    used_df, \n",
        "    used_df[\"sentiment_binary\"], \n",
        "    test_size=0.2, \n",
        "    random_state=random_state\n",
        ")\n",
        "\n",
        "nlp = spacy.load(\"models/spacy_cnn_clean_text.model\")\n",
        "spacy_model = SpacyModel(nlp=nlp, epochs=10)\n",
        "# Executa as previsões\n",
        "predictions = spacy_model.predict(X_test[\"clean_text\"])\n",
        "import seaborn as sns\n",
        "f = sns.heatmap(confusion_matrix(y_test,predictions), annot=True)\n",
        "print(classification_report(y_test,predictions))\n",
        "print(accuracy_score(y_test, predictions))"
      ],
      "execution_count": null,
      "outputs": [
        {
          "output_type": "stream",
          "text": [
            "              precision    recall  f1-score   support\n",
            "\n",
            "           0       0.72      0.82      0.77      1095\n",
            "           1       0.80      0.68      0.73      1095\n",
            "\n",
            "    accuracy                           0.75      2190\n",
            "   macro avg       0.76      0.75      0.75      2190\n",
            "weighted avg       0.76      0.75      0.75      2190\n",
            "\n",
            "0.7534246575342466\n"
          ],
          "name": "stdout"
        },
        {
          "output_type": "display_data",
          "data": {
            "image/png": "[encoded data removed]",
            "text/plain": [
              "<Figure size 432x288 with 2 Axes>"
            ]
          },
          "metadata": {
            "tags": []
          }
        }
      ]
    },
    {
      "cell_type": "code",
      "metadata": {
        "id": "vpIgd3UmQuLG"
      },
      "source": [
        "# Desabilita a chamada dessa célula. \n",
        "# COMENTE A LINHA A SEGUIR PARA EXECUTAR ESTA CÉLULA\n",
        "%%script false\n",
        "\n",
        "\n",
        "# Treinamento do spacy com as palavras reduzidas\n",
        "\n",
        "\n",
        "\n",
        "X_train, X_test, y_train, y_test = train_test_split(\n",
        "  used_df, \n",
        "  used_df[\"sentiment_binary\"], \n",
        "  test_size=0.2, \n",
        "  random_state=random_state\n",
        ")\n",
        "\n",
        "# cria um modelo vazio\n",
        "nlp = spacy.blank(\"en\")\n",
        "spacy_model = SpacyModel(nlp=nlp, epochs=10, use_gpu=True)\n",
        "# treina o spacy com as palavras reduzidas\n",
        "spacy_model.fit(X_train[\"important_words\"], y_train)\n",
        "\n",
        "spacy_model.nlp.to_disk(\"models/spacy_cnn_important_words.model\")"
      ],
      "execution_count": null,
      "outputs": []
    },
    {
      "cell_type": "code",
      "metadata": {
        "colab": {
          "base_uri": "https://localhost:8080/",
          "height": 446
        },
        "id": "R2X3Y-xpZ31I",
        "outputId": "e681d5ef-218f-4406-85f3-0c050123f95c"
      },
      "source": [
        "# Verifica as métricas do modelo Spacy\n",
        "# com as palavras reduzidas\n",
        "\n",
        "X_train, X_test, y_train, y_test = train_test_split(\n",
        "    used_df, \n",
        "    used_df[\"sentiment_binary\"], \n",
        "    test_size=0.2, \n",
        "    random_state=random_state\n",
        ")\n",
        "\n",
        "nlp = spacy.load(\"models/spacy_cnn_important_words.model\")\n",
        "spacy_model = SpacyModel(nlp=nlp, epochs=10)\n",
        "# Executa as previsões\n",
        "predictions = spacy_model.predict(X_test[\"important_words\"])\n",
        "import seaborn as sns\n",
        "f = sns.heatmap(confusion_matrix(y_test,predictions), annot=True)\n",
        "print(classification_report(y_test,predictions))\n",
        "print(accuracy_score(y_test, predictions))"
      ],
      "execution_count": null,
      "outputs": [
        {
          "output_type": "stream",
          "text": [
            "              precision    recall  f1-score   support\n",
            "\n",
            "           0       0.72      0.75      0.73      1095\n",
            "           1       0.74      0.70      0.72      1095\n",
            "\n",
            "    accuracy                           0.73      2190\n",
            "   macro avg       0.73      0.73      0.73      2190\n",
            "weighted avg       0.73      0.73      0.73      2190\n",
            "\n",
            "0.7264840182648402\n"
          ],
          "name": "stdout"
        },
        {
          "output_type": "display_data",
          "data": {
            "image/png": "[encoded data removed]",
            "text/plain": [
              "<Figure size 432x288 with 2 Axes>"
            ]
          },
          "metadata": {
            "tags": []
          }
        }
      ]
    },
    {
      "cell_type": "markdown",
      "metadata": {
        "id": "m7X_TdIggmqM"
      },
      "source": [
        "Foram treinadas 10 épocas a partir de um modelo spacy em branco e os resultados foram: 95,07% de acurácia para o texto original, 75,34% de acurácia para o texto processado e 72,65% de acurácia para palavras reduzidas. Isso mostra que o spacy foi capaz de trabalhar muito melhor com os textos originais, tirando vantangem de inferir a partir do contexto que cada palavra se insere, além de aprender também como os emojis influenciam o sentimento."
      ]
    },
    {
      "cell_type": "markdown",
      "metadata": {
        "id": "-uu1uPXraypC"
      },
      "source": [
        "## 5.7. Transformers - Bert\n",
        "\n",
        "Como último modelo, testou-se o BERT (Bidirectional Encoder Representations from Transformers), um modelo de aprendizado profundo (deep learning) do tipo “transformers”. Nos modelos do tipo “transformers”, é utilizado um mecanismo de atenção em conjunto com CNNs, como se, ao ler uma texto, focasse em uma palavra mas analisasse as outras, atribuindo pesos a elas e guardando as palavras importantes de forma a atribuir mais contexto ao processamento.\n",
        "\n",
        "Como esse é modelo muito demorado para se treinar e que em geral com poucas épocas já apresenta um bom resultado, foram executadas apenas 3 épocas de treinamento e os demais parâmetros permaneceram com padrão utilizado pela biblioteca. Vale observar que no caso do BERT não foi utilizado um modelo em branco, mas realizado um treinamento de ajuste fino em cima do modelo “neuralmind/bert-large-portuguese-cased”, acessado pela biblioteca transformers em 09/04/2021.\n"
      ]
    },
    {
      "cell_type": "code",
      "metadata": {
        "colab": {
          "base_uri": "https://localhost:8080/"
        },
        "id": "fqgBPyjsEqa2",
        "outputId": "aa5e1c11-4ec6-4744-f09a-5ff6dee5c033"
      },
      "source": [
        "!pip install transformers"
      ],
      "execution_count": null,
      "outputs": [
        {
          "output_type": "stream",
          "text": [
            "Collecting transformers\n",
            "\u001b[?25l  Downloading https://files.pythonhosted.org/packages/d8/b2/57495b5309f09fa501866e225c84532d1fd89536ea62406b2181933fb418/transformers-4.5.1-py3-none-any.whl (2.1MB)\n",
            "\r\u001b[K     |▏                               | 10kB 23.1MB/s eta 0:00:01\r\u001b[K     |▎                               | 20kB 30.0MB/s eta 0:00:01\r\u001b[K     |▌                               | 30kB 20.1MB/s eta 0:00:01\r\u001b[K     |▋                               | 40kB 23.5MB/s eta 0:00:01\r\u001b[K     |▉                               | 51kB 25.1MB/s eta 0:00:01\r\u001b[K     |█                               | 61kB 27.6MB/s eta 0:00:01\r\u001b[K     |█▏                              | 71kB 19.0MB/s eta 0:00:01\r\u001b[K     |█▎                              | 81kB 20.4MB/s eta 0:00:01\r\u001b[K     |█▍                              | 92kB 18.4MB/s eta 0:00:01\r\u001b[K     |█▋                              | 102kB 18.6MB/s eta 0:00:01\r\u001b[K     |█▊                              | 112kB 18.6MB/s eta 0:00:01\r\u001b[K     |██                              | 122kB 18.6MB/s eta 0:00:01\r\u001b[K     |██                              | 133kB 18.6MB/s eta 0:00:01\r\u001b[K     |██▎                             | 143kB 18.6MB/s eta 0:00:01\r\u001b[K     |██▍                             | 153kB 18.6MB/s eta 0:00:01\r\u001b[K     |██▌                             | 163kB 18.6MB/s eta 0:00:01\r\u001b[K     |██▊                             | 174kB 18.6MB/s eta 0:00:01\r\u001b[K     |██▉                             | 184kB 18.6MB/s eta 0:00:01\r\u001b[K     |███                             | 194kB 18.6MB/s eta 0:00:01\r\u001b[K     |███▏                            | 204kB 18.6MB/s eta 0:00:01\r\u001b[K     |███▍                            | 215kB 18.6MB/s eta 0:00:01\r\u001b[K     |███▌                            | 225kB 18.6MB/s eta 0:00:01\r\u001b[K     |███▋                            | 235kB 18.6MB/s eta 0:00:01\r\u001b[K     |███▉                            | 245kB 18.6MB/s eta 0:00:01\r\u001b[K     |████                            | 256kB 18.6MB/s eta 0:00:01\r\u001b[K     |████▏                           | 266kB 18.6MB/s eta 0:00:01\r\u001b[K     |████▎                           | 276kB 18.6MB/s eta 0:00:01\r\u001b[K     |████▌                           | 286kB 18.6MB/s eta 0:00:01\r\u001b[K     |████▋                           | 296kB 18.6MB/s eta 0:00:01\r\u001b[K     |████▊                           | 307kB 18.6MB/s eta 0:00:01\r\u001b[K     |█████                           | 317kB 18.6MB/s eta 0:00:01\r\u001b[K     |█████                           | 327kB 18.6MB/s eta 0:00:01\r\u001b[K     |█████▎                          | 337kB 18.6MB/s eta 0:00:01\r\u001b[K     |█████▍                          | 348kB 18.6MB/s eta 0:00:01\r\u001b[K     |█████▋                          | 358kB 18.6MB/s eta 0:00:01\r\u001b[K     |█████▊                          | 368kB 18.6MB/s eta 0:00:01\r\u001b[K     |█████▉                          | 378kB 18.6MB/s eta 0:00:01\r\u001b[K     |██████                          | 389kB 18.6MB/s eta 0:00:01\r\u001b[K     |██████▏                         | 399kB 18.6MB/s eta 0:00:01\r\u001b[K     |██████▍                         | 409kB 18.6MB/s eta 0:00:01\r\u001b[K     |██████▌                         | 419kB 18.6MB/s eta 0:00:01\r\u001b[K     |██████▊                         | 430kB 18.6MB/s eta 0:00:01\r\u001b[K     |██████▉                         | 440kB 18.6MB/s eta 0:00:01\r\u001b[K     |███████                         | 450kB 18.6MB/s eta 0:00:01\r\u001b[K     |███████▏                        | 460kB 18.6MB/s eta 0:00:01\r\u001b[K     |███████▎                        | 471kB 18.6MB/s eta 0:00:01\r\u001b[K     |███████▌                        | 481kB 18.6MB/s eta 0:00:01\r\u001b[K     |███████▋                        | 491kB 18.6MB/s eta 0:00:01\r\u001b[K     |███████▉                        | 501kB 18.6MB/s eta 0:00:01\r\u001b[K     |████████                        | 512kB 18.6MB/s eta 0:00:01\r\u001b[K     |████████                        | 522kB 18.6MB/s eta 0:00:01\r\u001b[K     |████████▎                       | 532kB 18.6MB/s eta 0:00:01\r\u001b[K     |████████▍                       | 542kB 18.6MB/s eta 0:00:01\r\u001b[K     |████████▋                       | 552kB 18.6MB/s eta 0:00:01\r\u001b[K     |████████▊                       | 563kB 18.6MB/s eta 0:00:01\r\u001b[K     |█████████                       | 573kB 18.6MB/s eta 0:00:01\r\u001b[K     |█████████                       | 583kB 18.6MB/s eta 0:00:01\r\u001b[K     |█████████▎                      | 593kB 18.6MB/s eta 0:00:01\r\u001b[K     |█████████▍                      | 604kB 18.6MB/s eta 0:00:01\r\u001b[K     |█████████▌                      | 614kB 18.6MB/s eta 0:00:01\r\u001b[K     |█████████▊                      | 624kB 18.6MB/s eta 0:00:01\r\u001b[K     |█████████▉                      | 634kB 18.6MB/s eta 0:00:01\r\u001b[K     |██████████                      | 645kB 18.6MB/s eta 0:00:01\r\u001b[K     |██████████▏                     | 655kB 18.6MB/s eta 0:00:01\r\u001b[K     |██████████▍                     | 665kB 18.6MB/s eta 0:00:01\r\u001b[K     |██████████▌                     | 675kB 18.6MB/s eta 0:00:01\r\u001b[K     |██████████▋                     | 686kB 18.6MB/s eta 0:00:01\r\u001b[K     |██████████▉                     | 696kB 18.6MB/s eta 0:00:01\r\u001b[K     |███████████                     | 706kB 18.6MB/s eta 0:00:01\r\u001b[K     |███████████▏                    | 716kB 18.6MB/s eta 0:00:01\r\u001b[K     |███████████▎                    | 727kB 18.6MB/s eta 0:00:01\r\u001b[K     |███████████▌                    | 737kB 18.6MB/s eta 0:00:01\r\u001b[K     |███████████▋                    | 747kB 18.6MB/s eta 0:00:01\r\u001b[K     |███████████▊                    | 757kB 18.6MB/s eta 0:00:01\r\u001b[K     |████████████                    | 768kB 18.6MB/s eta 0:00:01\r\u001b[K     |████████████                    | 778kB 18.6MB/s eta 0:00:01\r\u001b[K     |████████████▎                   | 788kB 18.6MB/s eta 0:00:01\r\u001b[K     |████████████▍                   | 798kB 18.6MB/s eta 0:00:01\r\u001b[K     |████████████▋                   | 808kB 18.6MB/s eta 0:00:01\r\u001b[K     |████████████▊                   | 819kB 18.6MB/s eta 0:00:01\r\u001b[K     |████████████▉                   | 829kB 18.6MB/s eta 0:00:01\r\u001b[K     |█████████████                   | 839kB 18.6MB/s eta 0:00:01\r\u001b[K     |█████████████▏                  | 849kB 18.6MB/s eta 0:00:01\r\u001b[K     |█████████████▍                  | 860kB 18.6MB/s eta 0:00:01\r\u001b[K     |█████████████▌                  | 870kB 18.6MB/s eta 0:00:01\r\u001b[K     |█████████████▊                  | 880kB 18.6MB/s eta 0:00:01\r\u001b[K     |█████████████▉                  | 890kB 18.6MB/s eta 0:00:01\r\u001b[K     |██████████████                  | 901kB 18.6MB/s eta 0:00:01\r\u001b[K     |██████████████▏                 | 911kB 18.6MB/s eta 0:00:01\r\u001b[K     |██████████████▎                 | 921kB 18.6MB/s eta 0:00:01\r\u001b[K     |██████████████▌                 | 931kB 18.6MB/s eta 0:00:01\r\u001b[K     |██████████████▋                 | 942kB 18.6MB/s eta 0:00:01\r\u001b[K     |██████████████▉                 | 952kB 18.6MB/s eta 0:00:01\r\u001b[K     |███████████████                 | 962kB 18.6MB/s eta 0:00:01\r\u001b[K     |███████████████                 | 972kB 18.6MB/s eta 0:00:01\r\u001b[K     |███████████████▎                | 983kB 18.6MB/s eta 0:00:01\r\u001b[K     |███████████████▍                | 993kB 18.6MB/s eta 0:00:01\r\u001b[K     |███████████████▋                | 1.0MB 18.6MB/s eta 0:00:01\r\u001b[K     |███████████████▊                | 1.0MB 18.6MB/s eta 0:00:01\r\u001b[K     |████████████████                | 1.0MB 18.6MB/s eta 0:00:01\r\u001b[K     |████████████████                | 1.0MB 18.6MB/s eta 0:00:01\r\u001b[K     |████████████████▏               | 1.0MB 18.6MB/s eta 0:00:01\r\u001b[K     |████████████████▍               | 1.1MB 18.6MB/s eta 0:00:01\r\u001b[K     |████████████████▌               | 1.1MB 18.6MB/s eta 0:00:01\r\u001b[K     |████████████████▊               | 1.1MB 18.6MB/s eta 0:00:01\r\u001b[K     |████████████████▉               | 1.1MB 18.6MB/s eta 0:00:01\r\u001b[K     |█████████████████               | 1.1MB 18.6MB/s eta 0:00:01\r\u001b[K     |█████████████████▏              | 1.1MB 18.6MB/s eta 0:00:01\r\u001b[K     |█████████████████▍              | 1.1MB 18.6MB/s eta 0:00:01\r\u001b[K     |█████████████████▌              | 1.1MB 18.6MB/s eta 0:00:01\r\u001b[K     |█████████████████▋              | 1.1MB 18.6MB/s eta 0:00:01\r\u001b[K     |█████████████████▉              | 1.1MB 18.6MB/s eta 0:00:01\r\u001b[K     |██████████████████              | 1.2MB 18.6MB/s eta 0:00:01\r\u001b[K     |██████████████████▏             | 1.2MB 18.6MB/s eta 0:00:01\r\u001b[K     |██████████████████▎             | 1.2MB 18.6MB/s eta 0:00:01\r\u001b[K     |██████████████████▌             | 1.2MB 18.6MB/s eta 0:00:01\r\u001b[K     |██████████████████▋             | 1.2MB 18.6MB/s eta 0:00:01\r\u001b[K     |██████████████████▊             | 1.2MB 18.6MB/s eta 0:00:01\r\u001b[K     |███████████████████             | 1.2MB 18.6MB/s eta 0:00:01\r\u001b[K     |███████████████████             | 1.2MB 18.6MB/s eta 0:00:01\r\u001b[K     |███████████████████▎            | 1.2MB 18.6MB/s eta 0:00:01\r\u001b[K     |███████████████████▍            | 1.2MB 18.6MB/s eta 0:00:01\r\u001b[K     |███████████████████▋            | 1.3MB 18.6MB/s eta 0:00:01\r\u001b[K     |███████████████████▊            | 1.3MB 18.6MB/s eta 0:00:01\r\u001b[K     |███████████████████▉            | 1.3MB 18.6MB/s eta 0:00:01\r\u001b[K     |████████████████████            | 1.3MB 18.6MB/s eta 0:00:01\r\u001b[K     |████████████████████▏           | 1.3MB 18.6MB/s eta 0:00:01\r\u001b[K     |████████████████████▍           | 1.3MB 18.6MB/s eta 0:00:01\r\u001b[K     |████████████████████▌           | 1.3MB 18.6MB/s eta 0:00:01\r\u001b[K     |████████████████████▊           | 1.3MB 18.6MB/s eta 0:00:01\r\u001b[K     |████████████████████▉           | 1.3MB 18.6MB/s eta 0:00:01\r\u001b[K     |█████████████████████           | 1.4MB 18.6MB/s eta 0:00:01\r\u001b[K     |█████████████████████▏          | 1.4MB 18.6MB/s eta 0:00:01\r\u001b[K     |█████████████████████▎          | 1.4MB 18.6MB/s eta 0:00:01\r\u001b[K     |█████████████████████▌          | 1.4MB 18.6MB/s eta 0:00:01\r\u001b[K     |█████████████████████▋          | 1.4MB 18.6MB/s eta 0:00:01\r\u001b[K     |█████████████████████▉          | 1.4MB 18.6MB/s eta 0:00:01\r\u001b[K     |██████████████████████          | 1.4MB 18.6MB/s eta 0:00:01\r\u001b[K     |██████████████████████          | 1.4MB 18.6MB/s eta 0:00:01\r\u001b[K     |██████████████████████▎         | 1.4MB 18.6MB/s eta 0:00:01\r\u001b[K     |██████████████████████▍         | 1.4MB 18.6MB/s eta 0:00:01\r\u001b[K     |██████████████████████▋         | 1.5MB 18.6MB/s eta 0:00:01\r\u001b[K     |██████████████████████▊         | 1.5MB 18.6MB/s eta 0:00:01\r\u001b[K     |███████████████████████         | 1.5MB 18.6MB/s eta 0:00:01\r\u001b[K     |███████████████████████         | 1.5MB 18.6MB/s eta 0:00:01\r\u001b[K     |███████████████████████▏        | 1.5MB 18.6MB/s eta 0:00:01\r\u001b[K     |███████████████████████▍        | 1.5MB 18.6MB/s eta 0:00:01\r\u001b[K     |███████████████████████▌        | 1.5MB 18.6MB/s eta 0:00:01\r\u001b[K     |███████████████████████▊        | 1.5MB 18.6MB/s eta 0:00:01\r\u001b[K     |███████████████████████▉        | 1.5MB 18.6MB/s eta 0:00:01\r\u001b[K     |████████████████████████        | 1.5MB 18.6MB/s eta 0:00:01\r\u001b[K     |████████████████████████▏       | 1.6MB 18.6MB/s eta 0:00:01\r\u001b[K     |████████████████████████▎       | 1.6MB 18.6MB/s eta 0:00:01\r\u001b[K     |████████████████████████▌       | 1.6MB 18.6MB/s eta 0:00:01\r\u001b[K     |████████████████████████▋       | 1.6MB 18.6MB/s eta 0:00:01\r\u001b[K     |████████████████████████▉       | 1.6MB 18.6MB/s eta 0:00:01\r\u001b[K     |█████████████████████████       | 1.6MB 18.6MB/s eta 0:00:01\r\u001b[K     |█████████████████████████▏      | 1.6MB 18.6MB/s eta 0:00:01\r\u001b[K     |█████████████████████████▎      | 1.6MB 18.6MB/s eta 0:00:01\r\u001b[K     |█████████████████████████▍      | 1.6MB 18.6MB/s eta 0:00:01\r\u001b[K     |█████████████████████████▋      | 1.6MB 18.6MB/s eta 0:00:01\r\u001b[K     |█████████████████████████▊      | 1.7MB 18.6MB/s eta 0:00:01\r\u001b[K     |██████████████████████████      | 1.7MB 18.6MB/s eta 0:00:01\r\u001b[K     |██████████████████████████      | 1.7MB 18.6MB/s eta 0:00:01\r\u001b[K     |██████████████████████████▎     | 1.7MB 18.6MB/s eta 0:00:01\r\u001b[K     |██████████████████████████▍     | 1.7MB 18.6MB/s eta 0:00:01\r\u001b[K     |██████████████████████████▋     | 1.7MB 18.6MB/s eta 0:00:01\r\u001b[K     |██████████████████████████▊     | 1.7MB 18.6MB/s eta 0:00:01\r\u001b[K     |██████████████████████████▉     | 1.7MB 18.6MB/s eta 0:00:01\r\u001b[K     |███████████████████████████     | 1.7MB 18.6MB/s eta 0:00:01\r\u001b[K     |███████████████████████████▏    | 1.8MB 18.6MB/s eta 0:00:01\r\u001b[K     |███████████████████████████▍    | 1.8MB 18.6MB/s eta 0:00:01\r\u001b[K     |███████████████████████████▌    | 1.8MB 18.6MB/s eta 0:00:01\r\u001b[K     |███████████████████████████▊    | 1.8MB 18.6MB/s eta 0:00:01\r\u001b[K     |███████████████████████████▉    | 1.8MB 18.6MB/s eta 0:00:01\r\u001b[K     |████████████████████████████    | 1.8MB 18.6MB/s eta 0:00:01\r\u001b[K     |████████████████████████████▏   | 1.8MB 18.6MB/s eta 0:00:01\r\u001b[K     |████████████████████████████▎   | 1.8MB 18.6MB/s eta 0:00:01\r\u001b[K     |████████████████████████████▌   | 1.8MB 18.6MB/s eta 0:00:01\r\u001b[K     |████████████████████████████▋   | 1.8MB 18.6MB/s eta 0:00:01\r\u001b[K     |████████████████████████████▉   | 1.9MB 18.6MB/s eta 0:00:01\r\u001b[K     |█████████████████████████████   | 1.9MB 18.6MB/s eta 0:00:01\r\u001b[K     |█████████████████████████████   | 1.9MB 18.6MB/s eta 0:00:01\r\u001b[K     |█████████████████████████████▎  | 1.9MB 18.6MB/s eta 0:00:01\r\u001b[K     |█████████████████████████████▍  | 1.9MB 18.6MB/s eta 0:00:01\r\u001b[K     |█████████████████████████████▋  | 1.9MB 18.6MB/s eta 0:00:01\r\u001b[K     |█████████████████████████████▊  | 1.9MB 18.6MB/s eta 0:00:01\r\u001b[K     |██████████████████████████████  | 1.9MB 18.6MB/s eta 0:00:01\r\u001b[K     |██████████████████████████████  | 1.9MB 18.6MB/s eta 0:00:01\r\u001b[K     |██████████████████████████████▏ | 1.9MB 18.6MB/s eta 0:00:01\r\u001b[K     |██████████████████████████████▍ | 2.0MB 18.6MB/s eta 0:00:01\r\u001b[K     |██████████████████████████████▌ | 2.0MB 18.6MB/s eta 0:00:01\r\u001b[K     |██████████████████████████████▊ | 2.0MB 18.6MB/s eta 0:00:01\r\u001b[K     |██████████████████████████████▉ | 2.0MB 18.6MB/s eta 0:00:01\r\u001b[K     |███████████████████████████████ | 2.0MB 18.6MB/s eta 0:00:01\r\u001b[K     |███████████████████████████████▏| 2.0MB 18.6MB/s eta 0:00:01\r\u001b[K     |███████████████████████████████▎| 2.0MB 18.6MB/s eta 0:00:01\r\u001b[K     |███████████████████████████████▌| 2.0MB 18.6MB/s eta 0:00:01\r\u001b[K     |███████████████████████████████▋| 2.0MB 18.6MB/s eta 0:00:01\r\u001b[K     |███████████████████████████████▉| 2.0MB 18.6MB/s eta 0:00:01\r\u001b[K     |████████████████████████████████| 2.1MB 18.6MB/s eta 0:00:01\r\u001b[K     |████████████████████████████████| 2.1MB 18.6MB/s \n",
            "\u001b[?25hRequirement already satisfied: tqdm>=4.27 in /usr/local/lib/python3.7/dist-packages (from transformers) (4.41.1)\n",
            "Requirement already satisfied: numpy>=1.17 in /usr/local/lib/python3.7/dist-packages (from transformers) (1.19.5)\n",
            "Collecting tokenizers<0.11,>=0.10.1\n",
            "\u001b[?25l  Downloading https://files.pythonhosted.org/packages/ae/04/5b870f26a858552025a62f1649c20d29d2672c02ff3c3fb4c688ca46467a/tokenizers-0.10.2-cp37-cp37m-manylinux2010_x86_64.whl (3.3MB)\n",
            "\u001b[K     |████████████████████████████████| 3.3MB 50.3MB/s \n",
            "\u001b[?25hRequirement already satisfied: regex!=2019.12.17 in /usr/local/lib/python3.7/dist-packages (from transformers) (2019.12.20)\n",
            "Requirement already satisfied: importlib-metadata; python_version < \"3.8\" in /usr/local/lib/python3.7/dist-packages (from transformers) (3.10.0)\n",
            "Requirement already satisfied: requests in /usr/local/lib/python3.7/dist-packages (from transformers) (2.23.0)\n",
            "Requirement already satisfied: filelock in /usr/local/lib/python3.7/dist-packages (from transformers) (3.0.12)\n",
            "Collecting sacremoses\n",
            "\u001b[?25l  Downloading https://files.pythonhosted.org/packages/08/cd/342e584ee544d044fb573ae697404ce22ede086c9e87ce5960772084cad0/sacremoses-0.0.44.tar.gz (862kB)\n",
            "\u001b[K     |████████████████████████████████| 870kB 44.2MB/s \n",
            "\u001b[?25hRequirement already satisfied: packaging in /usr/local/lib/python3.7/dist-packages (from transformers) (20.9)\n",
            "Requirement already satisfied: typing-extensions>=3.6.4; python_version < \"3.8\" in /usr/local/lib/python3.7/dist-packages (from importlib-metadata; python_version < \"3.8\"->transformers) (3.7.4.3)\n",
            "Requirement already satisfied: zipp>=0.5 in /usr/local/lib/python3.7/dist-packages (from importlib-metadata; python_version < \"3.8\"->transformers) (3.4.1)\n",
            "Requirement already satisfied: certifi>=2017.4.17 in /usr/local/lib/python3.7/dist-packages (from requests->transformers) (2020.12.5)\n",
            "Requirement already satisfied: chardet<4,>=3.0.2 in /usr/local/lib/python3.7/dist-packages (from requests->transformers) (3.0.4)\n",
            "Requirement already satisfied: urllib3!=1.25.0,!=1.25.1,<1.26,>=1.21.1 in /usr/local/lib/python3.7/dist-packages (from requests->transformers) (1.24.3)\n",
            "Requirement already satisfied: idna<3,>=2.5 in /usr/local/lib/python3.7/dist-packages (from requests->transformers) (2.10)\n",
            "Requirement already satisfied: six in /usr/local/lib/python3.7/dist-packages (from sacremoses->transformers) (1.15.0)\n",
            "Requirement already satisfied: click in /usr/local/lib/python3.7/dist-packages (from sacremoses->transformers) (7.1.2)\n",
            "Requirement already satisfied: joblib in /usr/local/lib/python3.7/dist-packages (from sacremoses->transformers) (1.0.1)\n",
            "Requirement already satisfied: pyparsing>=2.0.2 in /usr/local/lib/python3.7/dist-packages (from packaging->transformers) (2.4.7)\n",
            "Building wheels for collected packages: sacremoses\n",
            "  Building wheel for sacremoses (setup.py) ... \u001b[?25l\u001b[?25hdone\n",
            "  Created wheel for sacremoses: filename=sacremoses-0.0.44-cp37-none-any.whl size=886084 sha256=65e46d48fa63061513e6edc2b4bdc6be1deb6ef5667bba5f5f0b46e4388e7998\n",
            "  Stored in directory: /root/.cache/pip/wheels/3e/fb/c0/13ab4d63d537658f448366744654323077c4d90069b6512f3c\n",
            "Successfully built sacremoses\n",
            "Installing collected packages: tokenizers, sacremoses, transformers\n",
            "Successfully installed sacremoses-0.0.44 tokenizers-0.10.2 transformers-4.5.1\n"
          ],
          "name": "stdout"
        }
      ]
    },
    {
      "cell_type": "code",
      "metadata": {
        "id": "xrbtoeMpayN7"
      },
      "source": [
        "from transformers import BertTokenizerFast\n",
        "from transformers import BertForSequenceClassification, Trainer, TrainingArguments\n",
        "\n",
        "import torch\n",
        "\n",
        "# cria uma classe para o transformers com métodos parecidos aos usados no\n",
        "# sklearn\n",
        "class BertModel:\n",
        "  def __init__(\n",
        "      self, \n",
        "      # modelo padrão para separar texto em palavras\n",
        "      tokenizer=\"neuralmind/bert-large-portuguese-cased\", \n",
        "      # modelo pré-treinado base para treinar esse modelo\n",
        "      transformers_model=\"neuralmind/bert-large-portuguese-cased\"):\n",
        "    self.transformers_model = transformers_model\n",
        "    self.tokenizer = BertTokenizerFast.from_pretrained(tokenizer)\n",
        "    self.model = BertForSequenceClassification.from_pretrained(\n",
        "        transformers_model, \n",
        "        num_labels = 2, # Número de rótulos: 2, positivo (1) e negativo (0)\n",
        "        output_attentions = False, \n",
        "        output_hidden_states = False,\n",
        "    )\n",
        "\n",
        "    # envia o modelo para a GPU\n",
        "    self.model.to(\"cuda:0\")\n",
        "  \n",
        "  # treina o modelo\n",
        "  def fit(self, X, y):\n",
        "\n",
        "    # separa em palavras, já no formato utilizado pelo transformers,\n",
        "    # truncando o texto em no máximo 128 palavras\n",
        "    train_encodings = self.tokenizer(\n",
        "        X.tolist(), \n",
        "        truncation=True, \n",
        "        padding='max_length', \n",
        "        max_length=128\n",
        "    )\n",
        "    train_dataset = BertModel.Dataset(train_encodings, y.tolist())\n",
        "\n",
        "    # define os argumentos de treinamento\n",
        "    # foram utilizados os parâmetros padrão para o Bert\n",
        "    training_args = TrainingArguments(\n",
        "      output_dir='./results',         \n",
        "      num_train_epochs=3, \n",
        "      per_device_train_batch_size=16,\n",
        "      per_device_eval_batch_size=64, \n",
        "      warmup_steps=500,              \n",
        "      weight_decay=0.01,             \n",
        "      logging_dir='./logs',\n",
        "    )\n",
        "\n",
        "    # criar o objeto treinador do transformers\n",
        "    trainer = Trainer(\n",
        "      model=self.model,\n",
        "      args=training_args,\n",
        "      train_dataset=train_dataset\n",
        "    )\n",
        "\n",
        "    # treina o modelo\n",
        "    trainer.train()\n",
        "\n",
        "  # prevê o resultado\n",
        "  def predict(self, X):\n",
        "    y_pred = []\n",
        "    for index, text in X.iteritems():\n",
        "\n",
        "      # separa em palavras, já no formato utilizado pelo transformers\n",
        "      inputs = self.tokenizer(\n",
        "        [text], truncation=True, padding='max_length', max_length=128,\n",
        "        return_tensors=\"pt\"\n",
        "      )\n",
        "\n",
        "      # envia para a GPU\n",
        "      inputs.to(\"cuda:0\")\n",
        "      # aplica o modelo\n",
        "      outputs = self.model(**inputs)\n",
        "      # recupera a predição e inclui na lista\n",
        "      y_pred.append(int(outputs.logits.argmax(-1)[0]))\n",
        "    return y_pred\n",
        "\n",
        "  def save_model(self, location):\n",
        "    self.model.save_pretrained(location)\n",
        "\n",
        "  # classe auxiliar para preparação do dataset no torch\n",
        "  class Dataset(torch.utils.data.Dataset):\n",
        "    def __init__(self, encodings, labels):\n",
        "      self.encodings = encodings\n",
        "      self.labels = labels\n",
        "\n",
        "    def __getitem__(self, idx):\n",
        "      item = {key: torch.tensor(val[idx]) for key, val in self.encodings.items()}\n",
        "      item['labels'] = torch.tensor(self.labels[idx])\n",
        "      return item\n",
        "\n",
        "    def __len__(self):\n",
        "      return len(self.labels)\n",
        "\n",
        "\n"
      ],
      "execution_count": null,
      "outputs": []
    },
    {
      "cell_type": "code",
      "metadata": {
        "id": "zHifWEjLEi0q"
      },
      "source": [
        "# Desabilita a chamada dessa célula. \n",
        "# COMENTE A LINHA A SEGUIR PARA EXECUTAR ESTA CÉLULA\n",
        "%%script false\n",
        "\n",
        "# Treinamento do BERT com o texto original\n",
        "\n",
        "\n",
        "bert_model = BertModel()\n",
        "\n",
        "# treina o modelo para o texto original\n",
        "bert_model.fit(X_train[\"text\"], y_train)\n",
        "bert_model.save_model(\"models/bert_raw_text.model\")"
      ],
      "execution_count": null,
      "outputs": []
    },
    {
      "cell_type": "code",
      "metadata": {
        "id": "XyZuX6xwGqRK",
        "colab": {
          "base_uri": "https://localhost:8080/",
          "height": 645,
          "referenced_widgets": [
            "976ec8beefe04c07893cce3158d743a7",
            "abdc7ea67f974623ae35b217547277fc",
            "b85dbb058ee345f8934ad29fd2db0420",
            "84e5b992b8ae47ddace3aff296336d1a",
            "cbe339b29ba04ef9a9d99f7523224554",
            "f3ddd849ef044c8892c76ec9baa4590d",
            "e7c9d564b31f4bb4baf241fed94ce551",
            "4842c371376e4780b07923bf6953e1db",
            "041c83a32c32415f922f721d1ea24560",
            "640041b02e68431f8d7fea05eafab2ac",
            "9b3d2f6d495d4e6bb8f375f951d89ddb",
            "b7ef5f2c0cb04659a021346705bd8536",
            "855f4b6f0cd04948bc43a989a0c98a4e",
            "56c0b412251b49689ac9da2dbe85274e",
            "9339193ad0e4478db25d88ffb710fa50",
            "e30d72f2427b48c195eee83205622c60",
            "3cd5432ba4dd45ea8a70995099cd6269",
            "da8f044b52bd41b783458381662c15f5",
            "b72415e56a3444ada4d8dd9e687d9596",
            "11f087b386f9486ea9b89d766995f1c7",
            "25192c91b63549cb9dab85c405767341",
            "5bbad6985a9e45a8b64245e854ae97c2",
            "5249b419477b44bbb9ecfda6a9f66d0c",
            "d36feba9a2ae456d8da0d69cd3865c22",
            "7e13101e5a644d0aa5fa48c5a3eaf357",
            "4cc023887f2042bf9f8badc880f6c2bb",
            "bc217a56d0ad497db83abc5849cc286a",
            "9f8567529d6a433293b217bd4b093abc",
            "48ffe0f6c9e14460ac17ced2e6d97574",
            "47a6c6df983e4e3f81e9f3e196186dc3",
            "6e2047ae1fa84abeb0dbda09652c3c65",
            "cd9b1ad39a214d44be002a80a5065333"
          ]
        },
        "outputId": "30afc09a-d6c8-4cb0-fbcb-85fdf7363e16"
      },
      "source": [
        "# Verifica as métricas do modelo BERT\n",
        "# com o texto original\n",
        "\n",
        "bert_model = BertModel(transformers_model=\"models/bert_raw_text.model\")\n",
        "\n",
        "# Executa as previsões\n",
        "predictions = bert_model.predict(X_test[\"text\"])\n",
        "import seaborn as sns\n",
        "f = sns.heatmap(confusion_matrix(y_test,predictions), annot=True)\n",
        "print(classification_report(y_test,predictions))\n",
        "print(accuracy_score(y_test, predictions))"
      ],
      "execution_count": null,
      "outputs": [
        {
          "output_type": "display_data",
          "data": {
            "application/vnd.jupyter.widget-view+json": {
              "model_id": "976ec8beefe04c07893cce3158d743a7",
              "version_minor": 0,
              "version_major": 2
            },
            "text/plain": [
              "HBox(children=(FloatProgress(value=0.0, description='Downloading', max=209528.0, style=ProgressStyle(descripti…"
            ]
          },
          "metadata": {
            "tags": []
          }
        },
        {
          "output_type": "stream",
          "text": [
            "\n"
          ],
          "name": "stdout"
        },
        {
          "output_type": "display_data",
          "data": {
            "application/vnd.jupyter.widget-view+json": {
              "model_id": "041c83a32c32415f922f721d1ea24560",
              "version_minor": 0,
              "version_major": 2
            },
            "text/plain": [
              "HBox(children=(FloatProgress(value=0.0, description='Downloading', max=2.0, style=ProgressStyle(description_wi…"
            ]
          },
          "metadata": {
            "tags": []
          }
        },
        {
          "output_type": "stream",
          "text": [
            "\n"
          ],
          "name": "stdout"
        },
        {
          "output_type": "display_data",
          "data": {
            "application/vnd.jupyter.widget-view+json": {
              "model_id": "3cd5432ba4dd45ea8a70995099cd6269",
              "version_minor": 0,
              "version_major": 2
            },
            "text/plain": [
              "HBox(children=(FloatProgress(value=0.0, description='Downloading', max=112.0, style=ProgressStyle(description_…"
            ]
          },
          "metadata": {
            "tags": []
          }
        },
        {
          "output_type": "stream",
          "text": [
            "\n"
          ],
          "name": "stdout"
        },
        {
          "output_type": "display_data",
          "data": {
            "application/vnd.jupyter.widget-view+json": {
              "model_id": "7e13101e5a644d0aa5fa48c5a3eaf357",
              "version_minor": 0,
              "version_major": 2
            },
            "text/plain": [
              "HBox(children=(FloatProgress(value=0.0, description='Downloading', max=155.0, style=ProgressStyle(description_…"
            ]
          },
          "metadata": {
            "tags": []
          }
        },
        {
          "output_type": "stream",
          "text": [
            "\n",
            "              precision    recall  f1-score   support\n",
            "\n",
            "           0       0.98      0.97      0.98      1095\n",
            "           1       0.97      0.98      0.98      1095\n",
            "\n",
            "    accuracy                           0.98      2190\n",
            "   macro avg       0.98      0.98      0.98      2190\n",
            "weighted avg       0.98      0.98      0.98      2190\n",
            "\n",
            "0.9776255707762557\n"
          ],
          "name": "stdout"
        },
        {
          "output_type": "display_data",
          "data": {
            "image/png": "[encoded data removed]",
            "text/plain": [
              "<Figure size 432x288 with 2 Axes>"
            ]
          },
          "metadata": {
            "tags": []
          }
        }
      ]
    },
    {
      "cell_type": "code",
      "metadata": {
        "id": "Uhu6TU29Ijy7"
      },
      "source": [
        "# Desabilita a chamada dessa célula. \n",
        "# COMENTE A LINHA A SEGUIR PARA EXECUTAR ESTA CÉLULA\n",
        "%%script false\n",
        "\n",
        "# Treinamento do BERT com o texto processado\n",
        "\n",
        "bert_model = BertModel()\n",
        "# treina o modelo para o texto processado\n",
        "bert_model.fit(X_train[\"clean_text\"], y_train)\n",
        "bert_model.save_model(\"models/bert_clean_text.model\")"
      ],
      "execution_count": null,
      "outputs": []
    },
    {
      "cell_type": "code",
      "metadata": {
        "id": "VKyVo-dfIjnM",
        "colab": {
          "base_uri": "https://localhost:8080/",
          "height": 446
        },
        "outputId": "b4a8b0a5-9569-4c2f-b3f2-b94fa21a2c81"
      },
      "source": [
        "# Verifica as métricas do modelo BERT\n",
        "# com o texto processado\n",
        "\n",
        "bert_model = BertModel(transformers_model=\"models/bert_clean_text.model\")\n",
        "\n",
        "# Executa as previsões\n",
        "predictions = bert_model.predict(X_test[\"clean_text\"])\n",
        "import seaborn as sns\n",
        "f = sns.heatmap(confusion_matrix(y_test,predictions), annot=True)\n",
        "print(classification_report(y_test,predictions))\n",
        "print(accuracy_score(y_test, predictions))"
      ],
      "execution_count": null,
      "outputs": [
        {
          "output_type": "stream",
          "text": [
            "              precision    recall  f1-score   support\n",
            "\n",
            "           0       0.83      0.85      0.84      1095\n",
            "           1       0.85      0.83      0.84      1095\n",
            "\n",
            "    accuracy                           0.84      2190\n",
            "   macro avg       0.84      0.84      0.84      2190\n",
            "weighted avg       0.84      0.84      0.84      2190\n",
            "\n",
            "0.8392694063926941\n"
          ],
          "name": "stdout"
        },
        {
          "output_type": "display_data",
          "data": {
            "image/png": "[encoded data removed]",
            "text/plain": [
              "<Figure size 432x288 with 2 Axes>"
            ]
          },
          "metadata": {
            "tags": []
          }
        }
      ]
    },
    {
      "cell_type": "code",
      "metadata": {
        "id": "XrNFkBqCIjcW"
      },
      "source": [
        "# Desabilita a chamada dessa célula. \n",
        "# COMENTE A LINHA A SEGUIR PARA EXECUTAR ESTA CÉLULA\n",
        "%%script false\n",
        "\n",
        "# Treinamento do BERT com palavras reduzidas\n",
        "\n",
        "\n",
        "bert_model = BertModel()\n",
        "# treina o modelo para palavras reduzidas\n",
        "bert_model.fit(X_train[\"important_words\"], y_train)\n",
        "bert_model.save_model(\"models/bert_important_words.model\")"
      ],
      "execution_count": null,
      "outputs": []
    },
    {
      "cell_type": "code",
      "metadata": {
        "id": "5IkH42q4IjK0",
        "colab": {
          "base_uri": "https://localhost:8080/",
          "height": 446
        },
        "outputId": "195198dd-1551-47dd-8d6e-56df7ae51af1"
      },
      "source": [
        "# Verifica as métricas do modelo BERT\n",
        "# com palavras reduzidas\n",
        "\n",
        "bert_model = BertModel(transformers_model=\"models/bert_important_words.model\")\n",
        "predictions = bert_model.predict(X_test[\"important_words\"])\n",
        "import seaborn as sns\n",
        "f = sns.heatmap(confusion_matrix(y_test,predictions), annot=True)\n",
        "print(classification_report(y_test,predictions))\n",
        "print(accuracy_score(y_test, predictions))"
      ],
      "execution_count": null,
      "outputs": [
        {
          "output_type": "stream",
          "text": [
            "              precision    recall  f1-score   support\n",
            "\n",
            "           0       0.74      0.75      0.75      1095\n",
            "           1       0.75      0.74      0.74      1095\n",
            "\n",
            "    accuracy                           0.75      2190\n",
            "   macro avg       0.75      0.75      0.75      2190\n",
            "weighted avg       0.75      0.75      0.75      2190\n",
            "\n",
            "0.745662100456621\n"
          ],
          "name": "stdout"
        },
        {
          "output_type": "display_data",
          "data": {
            "image/png": "[encoded data removed]",
            "text/plain": [
              "<Figure size 432x288 with 2 Axes>"
            ]
          },
          "metadata": {
            "tags": []
          }
        }
      ]
    },
    {
      "cell_type": "markdown",
      "metadata": {
        "id": "wPmzjC_vhg3W"
      },
      "source": [
        "Para o BERT, obteve-se 97,76% de acurácia para o texto original, 83,93% para o texto processado e 74,57% para as palavras reduzidas."
      ]
    },
    {
      "cell_type": "markdown",
      "metadata": {
        "id": "gN-Zn2WQ_-zg"
      },
      "source": [
        "# 6. Apresentação dos resultados"
      ]
    },
    {
      "cell_type": "markdown",
      "metadata": {
        "id": "YxFRitFuhoJ0"
      },
      "source": [
        "Este trabalho teve como proposta demonstrar a aplicabilidade de modelos de inteligência artificial para mensagens de texto enviadas a entidades governamentais, no caso específico, mensagens enviadas à Receita Federal do Brasil (RFB). Para isso se aproveitaram datasets que já classificavam os sentimentos de textos em português e se incrementou com a classificação de sentimentos de uma pequena parcela das mensagens enviadas à RFB.\n",
        "\n",
        "Observou-se que o melhor modelo foi o BERT treinado em cima do texto original, tendo apresentado 97,76% de acurácia para o conjunto de datasets. Ao se aplicar somente aos “Tweets classificados RFB” presentes no dataset de teste, houve 85,55% de acurácia. \n",
        "\n",
        "Em geral, os modelos que utilizaram técnicas de aprendizado profundo (Spacy e BERT) apresentaram resultados muito superiores aos outros modelos que utilizaram vetores desordenados de palavras.\n"
      ]
    },
    {
      "cell_type": "code",
      "metadata": {
        "colab": {
          "base_uri": "https://localhost:8080/",
          "height": 385
        },
        "id": "IqsechrvGkOE",
        "outputId": "1058775d-9fd0-477c-8e71-d56704f6bfab"
      },
      "source": [
        "# Gera gráfico comparativo da acurácia dos modelos\n",
        "\n",
        "models = [\n",
        "  {\"modelo\": \"Naive Bayes\", \"acurácia\": 0.7530},\n",
        "  {\"modelo\": \"Regressão Logística\",\"acurácia\": 0.7796},\n",
        "  {\"modelo\": \"Random Forest\",\"acurácia\": 0.7679},\n",
        "  {\"modelo\": \"XGBoost\",\"acurácia\": 0.7709},\n",
        "  {\"modelo\": \"Spacy\",\"acurácia\": 0.9507},\n",
        "  {\"modelo\": \"BERT\",\"acurácia\": 0.9776}\n",
        "]\n",
        "\n",
        "df = pd.DataFrame(models)\n",
        "df.plot(kind=\"bar\", x=\"modelo\")"
      ],
      "execution_count": null,
      "outputs": [
        {
          "output_type": "execute_result",
          "data": {
            "text/plain": [
              "<matplotlib.axes._subplots.AxesSubplot at 0x7f10a7daff10>"
            ]
          },
          "metadata": {
            "tags": []
          },
          "execution_count": 1
        },
        {
          "output_type": "display_data",
          "data": {
            "image/png": "[encoded data removed]",
            "text/plain": [
              "<Figure size 432x288 with 1 Axes>"
            ]
          },
          "metadata": {
            "tags": [],
            "needs_background": "light"
          }
        }
      ]
    },
    {
      "cell_type": "code",
      "metadata": {
        "colab": {
          "base_uri": "https://localhost:8080/"
        },
        "id": "Z9LdQrAq9ADp",
        "outputId": "e7a38cef-c383-48cf-e2b7-7be0fee74adf"
      },
      "source": [
        "# Executa as previsões somente sobre os dados do\n",
        "# dataset \"Tweets classificados RFB\"\n",
        "\n",
        "import seaborn as sns\n",
        "bert_model = BertModel(transformers_model=\"models/bert_raw_text.model\")\n",
        "y = y_test[X_test[\"origin\"] == \"tweets_rfb\"]\n",
        "predictions = bert_model.predict(\n",
        "    X_test[X_test[\"origin\"] == \"tweets_rfb\"][\"text\"]\n",
        ")\n",
        "\n",
        "print(accuracy_score(y, predictions))\n",
        "print(classification_report(y,predictions))\n"
      ],
      "execution_count": null,
      "outputs": [
        {
          "output_type": "stream",
          "text": [
            "0.8554913294797688\n",
            "              precision    recall  f1-score   support\n",
            "\n",
            "           0       0.89      0.84      0.87        96\n",
            "           1       0.82      0.87      0.84        77\n",
            "\n",
            "    accuracy                           0.86       173\n",
            "   macro avg       0.85      0.86      0.85       173\n",
            "weighted avg       0.86      0.86      0.86       173\n",
            "\n"
          ],
          "name": "stdout"
        }
      ]
    },
    {
      "cell_type": "code",
      "metadata": {
        "id": "TetfEFp2AnKf"
      },
      "source": [
        "# Guarda o resultado das previsões na coluna sentiment_binary\n",
        "y_pred =  bert_model.predict(\n",
        "    tweets_rfb_df[\"text\"]\n",
        ")\n",
        "tweets_rfb_df[\"sentiment_binary\"] = y_pred"
      ],
      "execution_count": null,
      "outputs": []
    },
    {
      "cell_type": "code",
      "metadata": {
        "id": "IjqMeehvA-_l"
      },
      "source": [
        "# Salva o resultado da aplicação do modelo aos tweets rfb\n",
        "tweets_rfb_df.to_json(\"datasets/tweets_preditos_rfb.json\")"
      ],
      "execution_count": null,
      "outputs": []
    },
    {
      "cell_type": "markdown",
      "metadata": {
        "id": "j-sa7wcsiWyj"
      },
      "source": [
        "\n",
        "Ao aplicar esse modelo aos “Tweets RFB” sem classificação conhecida, permitiu-se observar visualmente um adequado nível de acerto, como pode-se ver pela figura abaixo.\n"
      ]
    },
    {
      "cell_type": "code",
      "metadata": {
        "colab": {
          "base_uri": "https://localhost:8080/",
          "height": 391
        },
        "id": "eUYsZUAmCdVp",
        "outputId": "b62f3e61-8113-4ac6-dabd-dec1c6e52ad2"
      },
      "source": [
        "with pd.option_context('display.max_colwidth', -1): \n",
        "  display(\n",
        "      tweets_rfb_df[\n",
        "        [\"text\", \"sentiment_binary\"]\n",
        "      ].sample(10, random_state=random_state)\n",
        "  )"
      ],
      "execution_count": null,
      "outputs": [
        {
          "output_type": "display_data",
          "data": {
            "text/html": [
              "<div>\n",
              "<style scoped>\n",
              "    .dataframe tbody tr th:only-of-type {\n",
              "        vertical-align: middle;\n",
              "    }\n",
              "\n",
              "    .dataframe tbody tr th {\n",
              "        vertical-align: top;\n",
              "    }\n",
              "\n",
              "    .dataframe thead th {\n",
              "        text-align: right;\n",
              "    }\n",
              "</style>\n",
              "<table border=\"1\" class=\"dataframe\">\n",
              "  <thead>\n",
              "    <tr style=\"text-align: right;\">\n",
              "      <th></th>\n",
              "      <th>text</th>\n",
              "      <th>sentiment_binary</th>\n",
              "    </tr>\n",
              "  </thead>\n",
              "  <tbody>\n",
              "    <tr>\n",
              "      <th>9056</th>\n",
              "      <td>@ReceitaFederal não estou conseguindo emitir guia de pagamento do esocial! O site de vocês está travado! Não é justo ter que pagar multa!</td>\n",
              "      <td>0</td>\n",
              "    </tr>\n",
              "    <tr>\n",
              "      <th>8827</th>\n",
              "      <td>@ReceitaFederal a brasilan actor three brasilian people and a child nter the earth at coma and the actor under the floor  help</td>\n",
              "      <td>1</td>\n",
              "    </tr>\n",
              "    <tr>\n",
              "      <th>9271</th>\n",
              "      <td>@ReceitaFederal colocar banner dizendo ser referência em gestão é fácil,  difícil é atender um contribuinte sem ele esperar 1h25 min #RFfake</td>\n",
              "      <td>0</td>\n",
              "    </tr>\n",
              "    <tr>\n",
              "      <th>10012</th>\n",
              "      <td>@ReceitaFederal isso impossibilita de fazer login e prosseguir com a emissão necessária. alguém + passando por isso? favor verificar!</td>\n",
              "      <td>0</td>\n",
              "    </tr>\n",
              "    <tr>\n",
              "      <th>7933</th>\n",
              "      <td>@ReceitaFederal FEDERAL NO PORTO DE ITAGUAÍ APREENDE DEZ CONTÊINERES CONTENDO PRODUTOS CONTRAFEITOS #PortodeItaguaí\\n\\nhttps://t.co/tLKij7uvSa https://t.co/01rSz0zeN3</td>\n",
              "      <td>1</td>\n",
              "    </tr>\n",
              "    <tr>\n",
              "      <th>8118</th>\n",
              "      <td>@ReceitaFederal @FazendaGovBr Igual a dada a JBF?</td>\n",
              "      <td>0</td>\n",
              "    </tr>\n",
              "    <tr>\n",
              "      <th>6909</th>\n",
              "      <td>@ReceitaFederal  \\nOlá! Recebo pagamentos de uma empresa por lhes  alugar um terreno. \\nPor lei (IN-RFB 1.215/2011) o Informe de Rendimentos deveria estar disponivel em 28/02/2018. \\nCobro isto deles desde 22/03/2018 estão postergando. \\n\\nVocês ajudam com isso?  \\n\\n(Grato)</td>\n",
              "      <td>0</td>\n",
              "    </tr>\n",
              "    <tr>\n",
              "      <th>6132</th>\n",
              "      <td>@ReceitaFederal https://t.co/JbapikvyAl</td>\n",
              "      <td>1</td>\n",
              "    </tr>\n",
              "    <tr>\n",
              "      <th>5585</th>\n",
              "      <td>@ReceitaFederal \\nOs advogados do adelio entregarão suas declarações  de rendimentos?\\nQUEM PAGOU PARA MANDAR MATAR @jairbolsonaro ???????????????????????????????????????????????</td>\n",
              "      <td>0</td>\n",
              "    </tr>\n",
              "    <tr>\n",
              "      <th>7081</th>\n",
              "      <td>@ReceitaFederal Transmissão com erro: como se o prazo tivesse acabado.....</td>\n",
              "      <td>0</td>\n",
              "    </tr>\n",
              "  </tbody>\n",
              "</table>\n",
              "</div>"
            ],
            "text/plain": [
              "                                                                                                                                                                                                                                                                                      text  sentiment_binary\n",
              "9056   @ReceitaFederal não estou conseguindo emitir guia de pagamento do esocial! O site de vocês está travado! Não é justo ter que pagar multa!                                                                                                                                            0               \n",
              "8827   @ReceitaFederal a brasilan actor three brasilian people and a child nter the earth at coma and the actor under the floor  help                                                                                                                                                       1               \n",
              "9271   @ReceitaFederal colocar banner dizendo ser referência em gestão é fácil,  difícil é atender um contribuinte sem ele esperar 1h25 min #RFfake                                                                                                                                         0               \n",
              "10012  @ReceitaFederal isso impossibilita de fazer login e prosseguir com a emissão necessária. alguém + passando por isso? favor verificar!                                                                                                                                                0               \n",
              "7933   @ReceitaFederal FEDERAL NO PORTO DE ITAGUAÍ APREENDE DEZ CONTÊINERES CONTENDO PRODUTOS CONTRAFEITOS #PortodeItaguaí\\n\\nhttps://t.co/tLKij7uvSa https://t.co/01rSz0zeN3                                                                                                               1               \n",
              "8118   @ReceitaFederal @FazendaGovBr Igual a dada a JBF?                                                                                                                                                                                                                                    0               \n",
              "6909   @ReceitaFederal  \\nOlá! Recebo pagamentos de uma empresa por lhes  alugar um terreno. \\nPor lei (IN-RFB 1.215/2011) o Informe de Rendimentos deveria estar disponivel em 28/02/2018. \\nCobro isto deles desde 22/03/2018 estão postergando. \\n\\nVocês ajudam com isso?  \\n\\n(Grato)  0               \n",
              "6132   @ReceitaFederal https://t.co/JbapikvyAl                                                                                                                                                                                                                                              1               \n",
              "5585   @ReceitaFederal \\nOs advogados do adelio entregarão suas declarações  de rendimentos?\\nQUEM PAGOU PARA MANDAR MATAR @jairbolsonaro ???????????????????????????????????????????????                                                                                                   0               \n",
              "7081   @ReceitaFederal Transmissão com erro: como se o prazo tivesse acabado.....                                                                                                                                                                                                           0               "
            ]
          },
          "metadata": {
            "tags": []
          }
        }
      ]
    },
    {
      "cell_type": "code",
      "metadata": {
        "id": "qikFNZ6OEXvf"
      },
      "source": [
        "# separa a data por campos de interesse para futuro agrupamento\n",
        "tweets_rfb_df[\"year\"] = tweets_rfb_df[\"created_at\"].dt.year\n",
        "tweets_rfb_df[\"month\"] = tweets_rfb_df[\"created_at\"].dt.month\n",
        "tweets_rfb_df[\"day\"] = tweets_rfb_df[\"created_at\"].dt.date\n",
        "tweets_rfb_df[\"week_day\"] = tweets_rfb_df[\"created_at\"].dt.strftime('%a')"
      ],
      "execution_count": null,
      "outputs": []
    },
    {
      "cell_type": "code",
      "metadata": {
        "colab": {
          "base_uri": "https://localhost:8080/",
          "height": 664
        },
        "id": "oM-wqxnZCpdr",
        "outputId": "4c897da7-259b-4490-dee3-d6b193ab755b"
      },
      "source": [
        "# gera gráfico agrupado por mê/ano para o dataset\n",
        "# Tweets RFB\n",
        "tweets_rfb_df.groupby(\n",
        "  ['year', 'month', 'sentiment_binary']\n",
        ").size().unstack(level=2).plot(kind = 'bar', figsize=(20,10))"
      ],
      "execution_count": null,
      "outputs": [
        {
          "output_type": "execute_result",
          "data": {
            "text/plain": [
              "<matplotlib.axes._subplots.AxesSubplot at 0x7efb78cbb6d0>"
            ]
          },
          "metadata": {
            "tags": []
          },
          "execution_count": 118
        },
        {
          "output_type": "display_data",
          "data": {
            "image/png": "[encoded data removed]",
            "text/plain": [
              "<Figure size 1440x720 with 1 Axes>"
            ]
          },
          "metadata": {
            "tags": []
          }
        }
      ]
    },
    {
      "cell_type": "code",
      "metadata": {
        "colab": {
          "base_uri": "https://localhost:8080/",
          "height": 315
        },
        "id": "j4vCucr1EROS",
        "outputId": "1977c589-6a60-4273-b466-e38fdc99de4f"
      },
      "source": [
        "# gera gráfico agrupado por dia da semana para o dataset\n",
        "# Tweets RFB\n",
        "tweets_rfb_df.groupby(\n",
        "    ['week_day', 'sentiment_binary']\n",
        ").size().unstack(level=1).plot(kind = 'bar')"
      ],
      "execution_count": null,
      "outputs": [
        {
          "output_type": "execute_result",
          "data": {
            "text/plain": [
              "<matplotlib.axes._subplots.AxesSubplot at 0x7efc03246d90>"
            ]
          },
          "metadata": {
            "tags": []
          },
          "execution_count": 119
        },
        {
          "output_type": "display_data",
          "data": {
            "image/png": "[encoded data removed]",
            "text/plain": [
              "<Figure size 432x288 with 1 Axes>"
            ]
          },
          "metadata": {
            "tags": []
          }
        }
      ]
    },
    {
      "cell_type": "code",
      "metadata": {
        "colab": {
          "base_uri": "https://localhost:8080/",
          "height": 303
        },
        "id": "GtZUVt4bEt_4",
        "outputId": "febdbd15-3ad9-49e8-de20-bf571d895a9e"
      },
      "source": [
        "tweets_rfb_df.groupby(\n",
        "    ['month', 'sentiment_binary']\n",
        ").size().unstack(level=1).plot(kind = 'bar')"
      ],
      "execution_count": null,
      "outputs": [
        {
          "output_type": "execute_result",
          "data": {
            "text/plain": [
              "<matplotlib.axes._subplots.AxesSubplot at 0x7efc0316b2d0>"
            ]
          },
          "metadata": {
            "tags": []
          },
          "execution_count": 120
        },
        {
          "output_type": "display_data",
          "data": {
            "image/png": "[encoded data removed]",
            "text/plain": [
              "<Figure size 432x288 with 1 Axes>"
            ]
          },
          "metadata": {
            "tags": []
          }
        }
      ]
    },
    {
      "cell_type": "code",
      "metadata": {
        "colab": {
          "base_uri": "https://localhost:8080/",
          "height": 314
        },
        "id": "56ul6_RFFEYK",
        "outputId": "b19ec2f8-4866-4b59-e2ce-4a34788e10aa"
      },
      "source": [
        "tweets_rfb_df.groupby(\n",
        "    ['year', 'sentiment_binary']\n",
        ").size().unstack(level=1).plot(kind = 'bar' )"
      ],
      "execution_count": null,
      "outputs": [
        {
          "output_type": "execute_result",
          "data": {
            "text/plain": [
              "<matplotlib.axes._subplots.AxesSubplot at 0x7efc030d41d0>"
            ]
          },
          "metadata": {
            "tags": []
          },
          "execution_count": 121
        },
        {
          "output_type": "display_data",
          "data": {
            "image/png": "[encoded data removed]",
            "text/plain": [
              "<Figure size 432x288 with 1 Axes>"
            ]
          },
          "metadata": {
            "tags": []
          }
        }
      ]
    },
    {
      "cell_type": "markdown",
      "metadata": {
        "id": "NDl5M5FCinqj"
      },
      "source": [
        "Na análise da distribuição desses sentimentos no tempo, verificou-se que a discrepância entre sentimentos negativos e positivos continua alta na sexta-feira (apesar da maior diferença na quarta-feira) e menor no sábado (dia em que houve maioria de sentimentos positivos no dataset classificado). No gráfico anual, observou-se que, para o ano de 2021, os sentimentos positivos são em número superior aos negativos, similar ao dataset classificado."
      ]
    },
    {
      "cell_type": "code",
      "metadata": {
        "colab": {
          "base_uri": "https://localhost:8080/",
          "height": 298
        },
        "id": "JzLb5FatFXqe",
        "outputId": "512558da-9b84-4c81-f58f-ec21e2a5548c"
      },
      "source": [
        "tweets_rfb_df.value_counts(\"sentiment_binary\").plot(kind = 'bar')"
      ],
      "execution_count": null,
      "outputs": [
        {
          "output_type": "execute_result",
          "data": {
            "text/plain": [
              "<matplotlib.axes._subplots.AxesSubplot at 0x7efc0301cc10>"
            ]
          },
          "metadata": {
            "tags": []
          },
          "execution_count": 122
        },
        {
          "output_type": "display_data",
          "data": {
            "image/png": "[encoded data removed]",
            "text/plain": [
              "<Figure size 432x288 with 1 Axes>"
            ]
          },
          "metadata": {
            "tags": []
          }
        }
      ]
    },
    {
      "cell_type": "markdown",
      "metadata": {
        "id": "V_fieI3vis55"
      },
      "source": [
        "Com a aplicação do modelo, observou-se que a quantidade de sentimentos negativos em geral é superior à de sentimentos positivos, o que mostra uma tendência de se haver sentimentos negativos nesse dataset."
      ]
    },
    {
      "cell_type": "markdown",
      "metadata": {
        "id": "cGAJ_kU_izjN"
      },
      "source": [
        "Assim, pela excelente acurácia geral do modelo e pela boa acurácia dentro do nicho de estudo, pode-se dizer que o modelo é considerado satisfatório, podendo ser melhorado em trabalhos posteriores que incluam mais dados do setor com a classificação de sentimentos já realizada. \n",
        "\n",
        "A partir desse modelo já é possível realizar outros estudos com a análise dos sentimentos. Entre as possibilidades de trabalhos futuros destacam-se os seguintes: verificar correlações entre campanhas ou ações e variações na percepção geral da imagem da instituição; classificação das mensagens por tópicos e verificação da percepção pública de determinado serviço; avaliação da probabilidade de problemas em serviços com base em densidade de mensagens com sentimentos negativos relacionados a determinado serviço ou à imagem geral da instituição, dentre outros.\n"
      ]
    }
  ]
}
